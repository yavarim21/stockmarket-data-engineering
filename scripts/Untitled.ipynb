{
 "cells": [
  {
   "cell_type": "code",
   "execution_count": null,
   "id": "0d801bc9-f2bb-429f-9d16-5e7ba5884f4c",
   "metadata": {},
   "outputs": [],
   "source": []
  }
 ],
 "metadata": {
  "kernelspec": {
   "display_name": "",
   "name": ""
  },
  "language_info": {
   "name": ""
  }
 },
 "nbformat": 4,
 "nbformat_minor": 5
}
