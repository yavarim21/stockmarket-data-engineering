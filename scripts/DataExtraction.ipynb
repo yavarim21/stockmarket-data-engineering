{
 "cells": [
  {
   "cell_type": "code",
   "execution_count": 2,
   "id": "bdb6889d-c270-4cd9-b9f6-442b605e5d00",
   "metadata": {},
   "outputs": [
    {
     "name": "stdout",
     "output_type": "stream",
     "text": [
      "Collecting yfinance\n",
      "  Downloading yfinance-0.2.54-py2.py3-none-any.whl.metadata (5.8 kB)\n",
      "Requirement already satisfied: pandas>=1.3.0 in c:\\users\\np.mohsenpak\\anaconda3\\lib\\site-packages (from yfinance) (2.2.2)\n",
      "Requirement already satisfied: numpy>=1.16.5 in c:\\users\\np.mohsenpak\\anaconda3\\lib\\site-packages (from yfinance) (1.26.4)\n",
      "Requirement already satisfied: requests>=2.31 in c:\\users\\np.mohsenpak\\anaconda3\\lib\\site-packages (from yfinance) (2.32.3)\n",
      "Collecting multitasking>=0.0.7 (from yfinance)\n",
      "  Downloading multitasking-0.0.11-py3-none-any.whl.metadata (5.5 kB)\n",
      "Requirement already satisfied: platformdirs>=2.0.0 in c:\\users\\np.mohsenpak\\anaconda3\\lib\\site-packages (from yfinance) (3.10.0)\n",
      "Requirement already satisfied: pytz>=2022.5 in c:\\users\\np.mohsenpak\\anaconda3\\lib\\site-packages (from yfinance) (2024.1)\n",
      "Requirement already satisfied: frozendict>=2.3.4 in c:\\users\\np.mohsenpak\\anaconda3\\lib\\site-packages (from yfinance) (2.4.2)\n",
      "Collecting peewee>=3.16.2 (from yfinance)\n",
      "  Downloading peewee-3.17.9.tar.gz (3.0 MB)\n",
      "     ---------------------------------------- 0.0/3.0 MB ? eta -:--:--\n",
      "     ----------------- ---------------------- 1.3/3.0 MB 7.4 MB/s eta 0:00:01\n",
      "     ---------------------------------- ----- 2.6/3.0 MB 7.5 MB/s eta 0:00:01\n",
      "     ---------------------------------------- 3.0/3.0 MB 6.5 MB/s eta 0:00:00\n",
      "  Installing build dependencies: started\n",
      "  Installing build dependencies: finished with status 'done'\n",
      "  Getting requirements to build wheel: started\n",
      "  Getting requirements to build wheel: finished with status 'done'\n",
      "  Preparing metadata (pyproject.toml): started\n",
      "  Preparing metadata (pyproject.toml): finished with status 'done'\n",
      "Requirement already satisfied: beautifulsoup4>=4.11.1 in c:\\users\\np.mohsenpak\\anaconda3\\lib\\site-packages (from yfinance) (4.12.3)\n",
      "Requirement already satisfied: soupsieve>1.2 in c:\\users\\np.mohsenpak\\anaconda3\\lib\\site-packages (from beautifulsoup4>=4.11.1->yfinance) (2.5)\n",
      "Requirement already satisfied: python-dateutil>=2.8.2 in c:\\users\\np.mohsenpak\\anaconda3\\lib\\site-packages (from pandas>=1.3.0->yfinance) (2.9.0.post0)\n",
      "Requirement already satisfied: tzdata>=2022.7 in c:\\users\\np.mohsenpak\\anaconda3\\lib\\site-packages (from pandas>=1.3.0->yfinance) (2023.3)\n",
      "Requirement already satisfied: charset-normalizer<4,>=2 in c:\\users\\np.mohsenpak\\anaconda3\\lib\\site-packages (from requests>=2.31->yfinance) (3.3.2)\n",
      "Requirement already satisfied: idna<4,>=2.5 in c:\\users\\np.mohsenpak\\anaconda3\\lib\\site-packages (from requests>=2.31->yfinance) (3.7)\n",
      "Requirement already satisfied: urllib3<3,>=1.21.1 in c:\\users\\np.mohsenpak\\anaconda3\\lib\\site-packages (from requests>=2.31->yfinance) (2.2.3)\n",
      "Requirement already satisfied: certifi>=2017.4.17 in c:\\users\\np.mohsenpak\\anaconda3\\lib\\site-packages (from requests>=2.31->yfinance) (2024.8.30)\n",
      "Requirement already satisfied: six>=1.5 in c:\\users\\np.mohsenpak\\anaconda3\\lib\\site-packages (from python-dateutil>=2.8.2->pandas>=1.3.0->yfinance) (1.16.0)\n",
      "Downloading yfinance-0.2.54-py2.py3-none-any.whl (108 kB)\n",
      "Downloading multitasking-0.0.11-py3-none-any.whl (8.5 kB)\n",
      "Building wheels for collected packages: peewee\n",
      "  Building wheel for peewee (pyproject.toml): started\n",
      "  Building wheel for peewee (pyproject.toml): finished with status 'done'\n",
      "  Created wheel for peewee: filename=peewee-3.17.9-py3-none-any.whl size=139095 sha256=6759e974d65b3c1aeaa542f885875122363446d4b3d2bdbf75b0cfb3a1ff0da0\n",
      "  Stored in directory: c:\\users\\np.mohsenpak\\appdata\\local\\pip\\cache\\wheels\\43\\ef\\2d\\2c51d496bf084945ffdf838b4cc8767b8ba1cc20eb41588831\n",
      "Successfully built peewee\n",
      "Installing collected packages: peewee, multitasking, yfinance\n",
      "Successfully installed multitasking-0.0.11 peewee-3.17.9 yfinance-0.2.54\n",
      "Note: you may need to restart the kernel to use updated packages.\n"
     ]
    }
   ],
   "source": [
    "pip install yfinance"
   ]
  },
  {
   "cell_type": "code",
   "execution_count": 6,
   "id": "152bc321-5838-4bb1-90e4-7036159500c0",
   "metadata": {},
   "outputs": [
    {
     "name": "stderr",
     "output_type": "stream",
     "text": [
      "[*********************100%***********************]  1 of 1 completed"
     ]
    },
    {
     "name": "stdout",
     "output_type": "stream",
     "text": [
      "MultiIndex([( 'Close', 'AAPL'),\n",
      "            (  'High', 'AAPL'),\n",
      "            (   'Low', 'AAPL'),\n",
      "            (  'Open', 'AAPL'),\n",
      "            ('Volume', 'AAPL')],\n",
      "           names=['Price', 'Ticker'])\n",
      "Price            Close        High         Low        Open     Volume\n",
      "Ticker            AAPL        AAPL        AAPL        AAPL       AAPL\n",
      "Date                                                                 \n",
      "2023-01-03  123.632530  129.395518  122.742873  128.782649  112117500\n",
      "2023-01-04  124.907715  127.181283  123.642427  125.431622   89113600\n",
      "2023-01-05  123.583107  126.301500  123.326101  125.668857   80962700\n",
      "2023-01-06  128.130203  128.792501  123.454572  124.561702   87754700\n",
      "2023-01-09  128.654144  131.876686  128.397138  128.970474   70790800\n"
     ]
    },
    {
     "name": "stderr",
     "output_type": "stream",
     "text": [
      "\n"
     ]
    }
   ],
   "source": [
    "import yfinance as yf\n",
    "data = yf.download(\"AAPL\", start=\"2023-01-01\", end=\"2024-01-01\")\n",
    "print(data.columns)\n",
    "print(data.head())\n"
   ]
  },
  {
   "cell_type": "code",
   "execution_count": 2,
   "id": "483ad54a-d33f-43e2-a5b8-52cea45549f5",
   "metadata": {},
   "outputs": [
    {
     "name": "stderr",
     "output_type": "stream",
     "text": [
      "[*********************100%***********************]  1 of 1 completed"
     ]
    },
    {
     "name": "stdout",
     "output_type": "stream",
     "text": [
      "Data saved to SQLite database.\n"
     ]
    },
    {
     "name": "stderr",
     "output_type": "stream",
     "text": [
      "\n"
     ]
    }
   ],
   "source": [
    "import yfinance as yf\n",
    "import sqlite3\n",
    "\n",
    "# Step 1: Download the data\n",
    "data = yf.download(\"AAPL\", start=\"2023-01-01\", end=\"2024-01-01\")\n",
    "\n",
    "# Step 2: Flatten the MultiIndex by resetting the columns\n",
    "data.columns = [f'{col[0]}_{col[1]}' for col in data.columns]  # Flatten MultiIndex columns\n",
    "\n",
    "# Reset the index to make 'Date' a regular column\n",
    "data.reset_index(inplace=True)\n",
    "\n",
    "# Convert 'Date' column to string format\n",
    "data['Date'] = data['Date'].dt.strftime('%Y-%m-%d')  # This will convert the date to 'YYYY-MM-DD' format\n",
    "\n",
    "# Step 3: Create SQLite connection\n",
    "conn = sqlite3.connect(\"stock_dataAPPL.db\")  # Creates a new database file 'stock_data.db'\n",
    "cursor = conn.cursor()\n",
    "\n",
    "# Step 4: Drop the table if it exists (to avoid conflicts) and recreate it with the correct column names\n",
    "cursor.execute('''\n",
    "DROP TABLE IF EXISTS apple_stock;\n",
    "''')\n",
    "\n",
    "cursor.execute('''\n",
    "CREATE TABLE IF NOT EXISTS apple_stock (\n",
    "    Date TEXT,\n",
    "    Close_AAPL REAL,\n",
    "    High_AAPL REAL,\n",
    "    Low_AAPL REAL,\n",
    "    Open_AAPL REAL,\n",
    "    Volume_AAPL INTEGER\n",
    ")\n",
    "''')\n",
    "\n",
    "# Step 5: Insert data into the table\n",
    "for row in data.itertuples(index=False):\n",
    "    cursor.execute('''\n",
    "    INSERT INTO apple_stock (Date, Close_AAPL, High_AAPL, Low_AAPL, Open_AAPL, Volume_AAPL)\n",
    "    VALUES (?, ?, ?, ?, ?, ?)\n",
    "    ''', (row.Date, row.Close_AAPL, row.High_AAPL, row.Low_AAPL, row.Open_AAPL, row.Volume_AAPL))\n",
    "\n",
    "# Commit changes and close the connection\n",
    "conn.commit()\n",
    "conn.close()\n",
    "\n",
    "print(\"Data saved to SQLite database.\")\n"
   ]
  },
  {
   "cell_type": "code",
   "execution_count": 4,
   "id": "1336d56b-d796-470c-988c-94ccbe27f02c",
   "metadata": {},
   "outputs": [
    {
     "name": "stdout",
     "output_type": "stream",
     "text": [
      "Collecting alpha_vantage\n",
      "  Downloading alpha_vantage-3.0.0-py3-none-any.whl.metadata (12 kB)\n",
      "Requirement already satisfied: aiohttp in c:\\users\\np.mohsenpak\\anaconda3\\lib\\site-packages (from alpha_vantage) (3.10.5)\n",
      "Requirement already satisfied: requests in c:\\users\\np.mohsenpak\\anaconda3\\lib\\site-packages (from alpha_vantage) (2.32.3)\n",
      "Requirement already satisfied: aiohappyeyeballs>=2.3.0 in c:\\users\\np.mohsenpak\\anaconda3\\lib\\site-packages (from aiohttp->alpha_vantage) (2.4.0)\n",
      "Requirement already satisfied: aiosignal>=1.1.2 in c:\\users\\np.mohsenpak\\anaconda3\\lib\\site-packages (from aiohttp->alpha_vantage) (1.2.0)\n",
      "Requirement already satisfied: attrs>=17.3.0 in c:\\users\\np.mohsenpak\\anaconda3\\lib\\site-packages (from aiohttp->alpha_vantage) (23.1.0)\n",
      "Requirement already satisfied: frozenlist>=1.1.1 in c:\\users\\np.mohsenpak\\anaconda3\\lib\\site-packages (from aiohttp->alpha_vantage) (1.4.0)\n",
      "Requirement already satisfied: multidict<7.0,>=4.5 in c:\\users\\np.mohsenpak\\anaconda3\\lib\\site-packages (from aiohttp->alpha_vantage) (6.0.4)\n",
      "Requirement already satisfied: yarl<2.0,>=1.0 in c:\\users\\np.mohsenpak\\anaconda3\\lib\\site-packages (from aiohttp->alpha_vantage) (1.11.0)\n",
      "Requirement already satisfied: charset-normalizer<4,>=2 in c:\\users\\np.mohsenpak\\anaconda3\\lib\\site-packages (from requests->alpha_vantage) (3.3.2)\n",
      "Requirement already satisfied: idna<4,>=2.5 in c:\\users\\np.mohsenpak\\anaconda3\\lib\\site-packages (from requests->alpha_vantage) (3.7)\n",
      "Requirement already satisfied: urllib3<3,>=1.21.1 in c:\\users\\np.mohsenpak\\anaconda3\\lib\\site-packages (from requests->alpha_vantage) (2.2.3)\n",
      "Requirement already satisfied: certifi>=2017.4.17 in c:\\users\\np.mohsenpak\\anaconda3\\lib\\site-packages (from requests->alpha_vantage) (2024.8.30)\n",
      "Downloading alpha_vantage-3.0.0-py3-none-any.whl (35 kB)\n",
      "Installing collected packages: alpha_vantage\n",
      "Successfully installed alpha_vantage-3.0.0\n",
      "Note: you may need to restart the kernel to use updated packages.\n"
     ]
    }
   ],
   "source": [
    "pip install alpha_vantage\n"
   ]
  },
  {
   "cell_type": "code",
   "execution_count": 13,
   "id": "382c72d0-478e-4378-abe0-6d2c31258bb4",
   "metadata": {},
   "outputs": [],
   "source": [
    "import os \n",
    "\n",
    "#set the environment for alpha_vantage\n",
    "os.environ['Alpha_API_KEY'] = '9454UYSL8NR8WCTN'"
   ]
  },
  {
   "cell_type": "code",
   "execution_count": 14,
   "id": "f09fe76e-224e-435b-8932-a873da642378",
   "metadata": {},
   "outputs": [],
   "source": [
    "import os \n",
    "import requests \n",
    "\n",
    "Alpha_API_Key= os.getenv(\"Alpha_API_KEY\") \n"
   ]
  },
  {
   "cell_type": "code",
   "execution_count": 6,
   "id": "a3bce664-bdc3-4f0b-a52c-8b53fdbc995a",
   "metadata": {},
   "outputs": [],
   "source": [
    "import os\n",
    "\n",
    "# Set the environment variable\n",
    "os.environ['NEWS_API_KEY'] = '4967d527b00948cd8b94061cf59bc78d'"
   ]
  },
  {
   "cell_type": "code",
   "execution_count": 7,
   "id": "683edf6b-18fb-49f8-b237-f42a22e9f325",
   "metadata": {},
   "outputs": [
    {
     "name": "stdout",
     "output_type": "stream",
     "text": [
      "{'status': 'ok', 'totalResults': 60942, 'articles': [{'source': {'id': None, 'name': 'Gizmodo.com'}, 'author': 'Kyle Barr', 'title': 'Nvidia’s RTX 5060 and 5060 Ti GPUs May Arrive Real Soon', 'description': 'Take your bets whether you’ll be able to find Nvidia’s lower-end RTX 5060 and RTX 5050 in stock anywhere.', 'url': 'https://gizmodo.com/nvidias-rtx-5060-and-5060-ti-gpus-may-arrive-real-soon-2000574616', 'urlToImage': 'https://gizmodo.com/app/uploads/2025/03/Nvidia-RTX-5070-4.jpg', 'publishedAt': '2025-03-11T20:41:25Z', 'content': 'Like Bigfoot or the chupacabra, the Nvidia GeForce RTX 5060 is being spotted in the wild by ravenous GPU buyers ready to believe any hint of a footprint indicates how powerful a beast they are. If an… [+3242 chars]'}, {'source': {'id': None, 'name': 'Gizmodo.com'}, 'author': 'Gizmodo Deals', 'title': 'The Galaxy S25 Ultra Is Now 70% Off, Samsung Is Clearing Out Stock', 'description': \"Samsung's latest deal on its website makes the Galaxy S25 Ultra the must-have smartphone for... everyone.\", 'url': 'https://gizmodo.com/the-galaxy-s25-ultra-is-now-70-off-samsung-is-clearing-out-stock-2000566727', 'urlToImage': 'https://gizmodo.com/app/uploads/2025/01/s25ultra.jpg', 'publishedAt': '2025-02-22T12:15:29Z', 'content': 'Premium smartphones are usually synonymous of hefty price tags, but Samsung has released an irresistible offer that feels almost too good to be true. Just a month after its grand debut, the Galaxy S2… [+3437 chars]'}, {'source': {'id': None, 'name': 'Gizmodo.com'}, 'author': 'Brittany Vincent', 'title': 'Amazon Offers a Self-Heating Coffee Mug at an All-Time Low to Clear Out Stock', 'description': 'Your cup of Joe can remain eternally hot with this discounted Nextmug.', 'url': 'https://gizmodo.com/amazon-offers-a-self-heating-coffee-mug-at-an-all-time-low-to-clear-out-stock-2000572344', 'urlToImage': 'https://gizmodo.com/app/uploads/2025/03/nextmug.jpg', 'publishedAt': '2025-03-06T21:20:26Z', 'content': 'For coffee enthusiasts who’ve experienced the disappointment of a lukewarm brew, the Nextmug Temperature-Controlled Self-Heating Coffee Mug offers an elegant solution. This innovative mug, designed i… [+2854 chars]'}, {'source': {'id': 'the-verge', 'name': 'The Verge'}, 'author': 'Sean Hollister', 'title': 'AMD says the $549 RX 9070 is real, but doesn’t deny reports of possible bait-and-switch', 'description': 'Yesterday, reviewers agreed: AMD is finally beating Nvidia with its RX 9070 and RX 9070 XT graphics cards, assuming they actually launch with sufficient stock at their $549 and $599 prices. But this morning’s launch, while better than recent Nvidia launches i…', 'url': 'https://www.theverge.com/news/625502/amd-rx-9070-xt-launch-pricing-msrp-possible-bait-switch', 'urlToImage': 'https://platform.theverge.com/wp-content/uploads/sites/2/2025/02/radeon-9070-xt.jpg?quality=90&strip=all&crop=0%2C0%2C100%2C80.498149432554&w=1200', 'publishedAt': '2025-03-06T20:25:56Z', 'content': 'It is inaccurate that $549/$599 MSRP is launch-only pricing, AMD tells The Verge.\\r\\nIt is inaccurate that $549/$599 MSRP is launch-only pricing, AMD tells The Verge.\\r\\nYesterday, reviewers agreed: AMD … [+3050 chars]'}, {'source': {'id': None, 'name': 'Gizmodo.com'}, 'author': 'Mike Fazioli', 'title': 'Crucial X9 Pro Portable SSD Is Back in Stock at Its Lowest Price, a Speed Demon for Content Creators and Gamers', 'description': 'Grab the palm-sized, near-universally compatible drive for its lowest price, or the Mac-specific version on sale for a limited time.', 'url': 'https://gizmodo.com/crucial-x9-pro-portable-ssd-is-back-in-stock-at-its-lowest-price-a-speed-demon-for-content-creators-and-gamers-2000565268', 'urlToImage': 'https://gizmodo.com/app/uploads/2025/01/Crucial-X9-Pro-SSD.jpg', 'publishedAt': '2025-02-19T14:35:07Z', 'content': 'You would think using a portable solid-state drive would be as simple as plug it into your laptop, gaming console, or digital camera, and then let it do its thing. And while that’s true with many SSD… [+2222 chars]'}, {'source': {'id': 'the-verge', 'name': 'The Verge'}, 'author': 'Andrew J. Hawkins', 'title': 'More Tesla showroom protests planned for this weekend', 'description': 'Protestors are planning more demonstrations outside Tesla showrooms nationwide this weekend, as Elon Musk’s polarizing behavior and political activities within the Trump administration continue to have negative side effects on his electric car business. The p…', 'url': 'https://www.theverge.com/news/612912/tesla-protest-showroom-vandalism-elon-musk-doge', 'urlToImage': 'https://platform.theverge.com/wp-content/uploads/sites/2/2025/02/STK086_TeslaB.jpg?quality=90&strip=all&crop=0%2C10.732984293194%2C100%2C78.534031413613&w=1200', 'publishedAt': '2025-02-14T15:04:22Z', 'content': 'Activists are calling for demonstrations at Tesla showrooms.\\r\\n\\n\\nProtestors are planning more demonstrations outside Tesla showrooms nationwide this weekend, as Elon Musk’s polarizing behavior and pol… [+2857 chars]'}, {'source': {'id': 'the-verge', 'name': 'The Verge'}, 'author': 'Andrew Liszewski', 'title': 'Cricut’s new crafting machines are more accurate, faster, and cheaper', 'description': 'Cricut has announced new versions of its crafting machines designed to print, cut, and emboss various materials using a collection of swappable tools. The new Cricut Maker 4 and Cricut Explore 4 are the first updates to both machines in nearly four years and …', 'url': 'https://www.theverge.com/news/621116/cricut-maker-explore-4-crafting-cutting-machine', 'urlToImage': 'https://platform.theverge.com/wp-content/uploads/sites/2/2025/02/cricut1.jpg?quality=90&strip=all&crop=0,10.715693665406,100,78.568612669189', 'publishedAt': '2025-02-27T21:15:11Z', 'content': 'The new Cricut Maker 4 and Cricut Explore 4 come with enough crafting materials for 10 initial projects.\\r\\nThe new Cricut Maker 4 and Cricut Explore 4 come with enough crafting materials for 10 initia… [+2650 chars]'}, {'source': {'id': None, 'name': 'NPR'}, 'author': 'Maria Aspan', 'title': \"U.S. stock market plunge as Trump's tariffs spark fears about a trade war\", 'description': 'U.S. stock markets plummeted on Tuesday morning as a new global trade war began.', 'url': 'https://www.npr.org/2025/03/04/nx-s1-5317515/u-s-stock-markets-plunge-trump-tariffs-canada-mexico-china', 'urlToImage': 'https://npr.brightspotcdn.com/dims3/default/strip/false/crop/4112x2313+0+239/resize/1400/quality/100/format/jpeg/?url=http%3A%2F%2Fnpr-brightspot.s3.amazonaws.com%2Fcf%2F23%2F294cbe004e778fd147eab607c2dd%2Fgettyimages-2202696767.jpg', 'publishedAt': '2025-03-04T16:06:37Z', 'content': \"U.S. stock markets plummeted on Tuesday morning as a new global trade war began.\\r\\nChina and Canada announced new retaliatory measures on Tuesday after President Trump's long-promised tariffs took eff… [+1134 chars]\"}, {'source': {'id': None, 'name': 'Yahoo Entertainment'}, 'author': None, 'title': 'Why Cava Stock Plunged 30% in February', 'description': None, 'url': 'https://consent.yahoo.com/v2/collectConsent?sessionId=1_cc-session_2186f3a6-d244-4487-b804-540af1953e09', 'urlToImage': None, 'publishedAt': '2025-03-04T13:39:48Z', 'content': \"If you click 'Accept all', we and our partners, including 238 who are part of the IAB Transparency &amp; Consent Framework, will also store and/or access information on a device (in other words, use … [+702 chars]\"}, {'source': {'id': None, 'name': 'Yahoo Entertainment'}, 'author': None, 'title': 'Why Amazon Stock Is Slipping Today', 'description': None, 'url': 'https://consent.yahoo.com/v2/collectConsent?sessionId=1_cc-session_a2bc6519-ee60-40fd-9321-1037a9832ee9', 'urlToImage': None, 'publishedAt': '2025-02-25T20:47:00Z', 'content': \"If you click 'Accept all', we and our partners, including 238 who are part of the IAB Transparency &amp; Consent Framework, will also store and/or access information on a device (in other words, use … [+702 chars]\"}, {'source': {'id': None, 'name': 'Yahoo Entertainment'}, 'author': None, 'title': 'Why Arista Networks Stock Sank Today', 'description': None, 'url': 'https://consent.yahoo.com/v2/collectConsent?sessionId=1_cc-session_e1790452-7316-4162-9fe8-7dc5288a51c8', 'urlToImage': None, 'publishedAt': '2025-02-12T22:25:00Z', 'content': \"If you click 'Accept all', we and our partners, including 239 who are part of the IAB Transparency &amp; Consent Framework, will also store and/or access information on a device (in other words, use … [+702 chars]\"}, {'source': {'id': None, 'name': 'Yahoo Entertainment'}, 'author': None, 'title': 'Why Rocket Lab Stock Just Crashed', 'description': None, 'url': 'https://consent.yahoo.com/v2/collectConsent?sessionId=1_cc-session_e9fc51fc-08ee-4f65-9fab-8d817844e50a', 'urlToImage': None, 'publishedAt': '2025-02-25T19:29:00Z', 'content': \"If you click 'Accept all', we and our partners, including 238 who are part of the IAB Transparency &amp; Consent Framework, will also store and/or access information on a device (in other words, use … [+702 chars]\"}, {'source': {'id': None, 'name': 'Android Central'}, 'author': 'Nicholas Sutrich', 'title': 'These are the best Android multitasking UIs, ranked', 'description': \"Most Android phones significantly improve Google's awful stock multitasking UI, but which does it best? We've got a few picks multitaskers will love.\", 'url': 'https://www.androidcentral.com/apps-software/best-android-multitasking-ui-ranked', 'urlToImage': 'https://cdn.mos.cms.futurecdn.net/Caf7vbtHnAsynNi3PQ5HvM-1200-80.jpg', 'publishedAt': '2025-02-11T21:21:53Z', 'content': 'Modern smartphones are powerful computers that can do a lot at once, but a small screen ensures that a poorly designed user interface will severely restrict how well someone can multitask. Unfortunat… [+13177 chars]'}, {'source': {'id': None, 'name': 'Android Central'}, 'author': 'patrick.farmer@futurenet.com (Patrick Farmer)', 'title': \"Mint Mobile finally gets the new Samsung in stock, and it's one of the best Galaxy S25 deals I've seen\", 'description': 'Mint Mobile just got the Galaxy S25 series in stock, and the deals are perfect for anyone looking to update their wireless situation.', 'url': 'https://www.androidcentral.com/phones/mint-mobile-finally-gets-the-new-samsung-in-stock-and-its-one-of-the-best-galaxy-s25-deals-ive-seen', 'urlToImage': 'https://cdn.mos.cms.futurecdn.net/kDPQii4aTrhqUirQqrNpZ7-1200-80.jpg', 'publishedAt': '2025-02-18T17:36:40Z', 'content': 'Attention, Samsung fans: Mint Mobile is finally selling the Galaxy S25 series, and once again, the deals on display are no joke. You can now buy any of the three phones included in the flagship serie… [+1720 chars]'}, {'source': {'id': 'business-insider', 'name': 'Business Insider'}, 'author': 'wedwards@businessinsider.com (William Edwards)', 'title': 'Morgan Stanley says to load up on these 18 stocks most insulated from the trade war', 'description': 'One way to keep tariffs from sinking your stock portfolio? Invest in companies with products so good that they can raise their prices at will.', 'url': 'https://www.businessinsider.com/stocks-most-insulated-from-trade-war-trump-tariffs-morgan-stanley-2025-3', 'urlToImage': 'https://i.insider.com/678fbeb92fcded5e9073f8d5?width=1200&format=jpeg', 'publishedAt': '2025-03-05T19:37:18Z', 'content': \"One way to keep tariffs from sinking your stock portfolio? Invest in companies with products so good that they can raise their prices at will.\\r\\nThat's the thinking behind a list of stocks Morgan Stan… [+1235 chars]\"}, {'source': {'id': 'business-insider', 'name': 'Business Insider'}, 'author': 'Erica Star Domena,Rachel Cohn', 'title': \"Tesla shareholders fear Elon Musk's focus on DOGE is tanking stock prices\", 'description': \"Tesla shareholders are frustrated with Elon Musk as he focuses more on DOGE and Tesla's stock price crashes.\", 'url': 'https://www.businessinsider.com/tesla-shareholders-fear-elon-musks-focus-on-doge-tanking-stock-2025-3', 'urlToImage': 'https://i.insider.com/67d092e6b8b41a9673fa520e?width=1200&format=jpeg', 'publishedAt': '2025-03-11T20:04:53Z', 'content': \"Tesla shareholders are frustrated with Elon Musk as he focuses more on DOGE and Tesla's stock price crashes.Read the original article on Business Insider\"}, {'source': {'id': None, 'name': 'Yahoo Entertainment'}, 'author': 'editorial-team@simplywallst.com (Simply Wall St)', 'title': 'Recent uptick might appease Telos Corporation (NASDAQ:TLS) institutional owners after losing 9.0% over the past year', 'description': \"Key Insights Given the large stake in the stock by institutions, Telos' stock price might be vulnerable to their...\", 'url': 'https://finance.yahoo.com/news/recent-uptick-might-appease-telos-171918514.html', 'urlToImage': 'https://media.zenfs.com/en/simply_wall_st__316/36ca5b522ba2e0a30acf16e5282f313b', 'publishedAt': '2025-02-12T17:19:18Z', 'content': \"<ul><li>Given the large stake in the stock by institutions, Telos' stock price might be vulnerable to their trading decisions\\r\\n</li><li>A total of 7 investors have a majority stake in the company wit… [+5618 chars]\"}, {'source': {'id': None, 'name': 'NPR'}, 'author': 'Brittney Melton', 'title': 'Stock markets fall over tariff concerns. And, fentanyl deaths drop in every state', 'description': \"The stock market fell yesterday as investors worry that Trump's tariffs will slow the economy and possibly lead the U.S. into a recession. And, fatal fentanyl overdoses are down in every U.S. state.\", 'url': 'https://www.npr.org/2025/03/11/g-s1-53114/up-first-newsletter-stock-market-trump-tariffs-fentanyl-crisis-mahmoud-khalil', 'urlToImage': 'https://npr.brightspotcdn.com/dims3/default/strip/false/crop/6517x3666+0+341/resize/1400/quality/100/format/jpeg/?url=http%3A%2F%2Fnpr-brightspot.s3.amazonaws.com%2Faf%2F38%2Fbddfade04311a9f4bd7c8a2ebece%2Fgettyimages-2203800831.jpg', 'publishedAt': '2025-03-11T11:03:43Z', 'content': \"Good morning. You're reading the Up First newsletter.\\xa0Subscribe\\xa0here to get it delivered to your inbox, and\\xa0listen\\xa0to the Up First podcast for all the news you need to start your day.\\r\\nToday's top st… [+5748 chars]\"}, {'source': {'id': None, 'name': 'Slashdot.org'}, 'author': 'EditorDavid', 'title': \"Despite Plans for AI-Powered Search, Reddit's Stock Fell 14% This Week\", 'description': '\"Reddit Answers\" uses generative AI to answer questions using what past Reddittors have posted. Announced in December, Reddit now plans to integrate it into their search results, reports TechCrunch, with Reddit\\'s CEO saying the idea has \"incredible monetizati…', 'url': 'https://tech.slashdot.org/story/25/02/16/007234/despite-plans-for-ai-powered-search-reddits-stock-fell-14-this-week', 'urlToImage': 'https://a.fsdn.com/sd/topics/social_64.png', 'publishedAt': '2025-02-16T00:09:00Z', 'content': '\"Reddit Answers\" uses generative AI to answer questions using what past Reddittors have posted. Announced in December, Reddit now plans to integrate it into their search results, reports TechCrunch, … [+1898 chars]'}, {'source': {'id': None, 'name': 'Slashdot.org'}, 'author': 'EditorDavid', 'title': \"Despite Plans for AI-Powered Search, Reddit's Stock Fell 14% Thsi Week\", 'description': '\"Reddit Answers\" uses generative AI to answer questions using what past Reddittors have posted. Announced in December, Reddit now plans to integrate it into their search results, reports TechCrunch, with Reddit\\'s CEO saying the idea has \"incredible monetizati…', 'url': 'https://tech.slashdot.org/story/25/02/16/007234/despite-plans-for-ai-powered-search-reddits-stock-fell-14-thsi-week', 'urlToImage': 'https://a.fsdn.com/sd/topics/social_64.png', 'publishedAt': '2025-02-16T00:09:00Z', 'content': '\"Reddit Answers\" uses generative AI to answer questions using what past Reddittors have posted. Announced in December, Reddit now plans to integrate it into their search results, reports TechCrunch, … [+1898 chars]'}, {'source': {'id': 'business-insider', 'name': 'Business Insider'}, 'author': 'Katherine Li', 'title': \"Markets rallied after Trump's commerce secretary said a tariff deal may be around the corner\", 'description': \"US stock futures recovered after Trump's commerce secretary said imminent tariff compromises with Canada and Mexico could come as soon as Wednesday.\", 'url': 'https://www.businessinsider.com/markets-trump-tariff-compromise-lutnick-commerce-canadia-mexico-stocks-2025-3', 'urlToImage': 'https://i.insider.com/67c7a0cfb8b41a9673f9af6c?width=1200&format=jpeg', 'publishedAt': '2025-03-05T03:05:58Z', 'content': \"US Commerce Secretary Howard Lutnick speaks next to President Trump at the White House.Leah Millis/REUTERS\\r\\n<ul><li>US stock futures rose after Trump's commerce secretary hinted at tariff compromises… [+2082 chars]\"}, {'source': {'id': 'business-insider', 'name': 'Business Insider'}, 'author': 'Kelsey Vlamis', 'title': \"Elon Musk said he's running his businesses with 'great difficulty' as Tesla stock falls 15%\", 'description': 'Elon Musk said in an interview that running his businesses while working with the White House has not been easy. Tesla stock declined 15% on Monday.', 'url': 'https://www.businessinsider.com/elon-musk-running-companies-great-difficulty-doge-2025-3', 'urlToImage': 'https://i.insider.com/67cf55b5585f1dff88b1b612?width=1200&format=jpeg', 'publishedAt': '2025-03-10T21:25:51Z', 'content': \"Elon Musk said it hasn't been easy to run his businesses while working closely with the White House on government efficiency efforts.Saul Loeb/AFP/Getty Images\\r\\n<ul><li>Elon Musk said running his bus… [+1058 chars]\"}, {'source': {'id': 'business-insider', 'name': 'Business Insider'}, 'author': 'Kelsey Vlamis', 'title': \"Elon Musk's net worth dropped $29 billion in one day as Tesla stock tanks\", 'description': \"Elon Musk's net worth fell by $29 billion on Monday. Tesla's stock free fall has some investors concerned about the CEO's focus.\", 'url': 'https://www.businessinsider.com/elon-musk-net-worth-drops-billion-tesla-stock-2025-3', 'urlToImage': 'https://i.insider.com/67cf6f90585f1dff88b1b7d5?width=1200&format=jpeg', 'publishedAt': '2025-03-10T23:29:55Z', 'content': \"Elon Musk's net worth has dropped by $132 billion this year as Tesla's stock price has tanked.Andrew Harnik/Getty Images\\r\\n<ul><li>Elon Musk's net worth fell by $29 billion as Monday as Tesla's stock … [+2222 chars]\"}, {'source': {'id': 'business-insider', 'name': 'Business Insider'}, 'author': 'Matthew Fox', 'title': 'Nvidia earnings: What investors should know about recent revenue, profits', 'description': \"With all eyes on Nvidia, here's a look at the company's recent earnings trends. Read about the chipmaker's revenues, profits, and stock price moves.\", 'url': 'https://www.businessinsider.com/nvidia-earnings', 'urlToImage': 'https://i.insider.com/67b77cc6eb4be2fff9a52582?width=1200&format=jpeg', 'publishedAt': '2025-03-04T16:38:06Z', 'content': 'Jaque Silva/NurPhoto via Getty Images\\r\\n<ul><li>Nvidia releases earnings quarterly.</li><li>On calls with investors, CEO Jensen Huang answers questions about the underlying trends impacting AI.</li><l… [+4279 chars]'}, {'source': {'id': 'business-insider', 'name': 'Business Insider'}, 'author': 'Theron Mohamed', 'title': '8 tech titans suffer $266 billion wealth wipeout as Trump spooks the stock market', 'description': \"Elon Musk's net worth has plunged by $132 billion, or 30%, in 2025 following Tesla's stock slide, while Oracle's Larry Ellison is down $23 billion.\", 'url': 'https://www.businessinsider.com/tech-billionaires-wealth-stocks-musk-trump-bezos-crash-recession-economy-2025-3', 'urlToImage': 'https://i.insider.com/5cab4318c6cc5046b34fe9a3?width=1200&format=jpeg', 'publishedAt': '2025-03-11T12:09:46Z', 'content': 'Amazon founder Jeff Bezos and Tesla CEO Elon Musk.REUTERS/Joshua Roberts\\r\\n<ul><li>Eight tech titans have taken a $266 billion blow to their collective wealth this year.</li><li>Their combined net wor… [+3215 chars]'}, {'source': {'id': None, 'name': 'Yahoo Entertainment'}, 'author': None, 'title': 'Musk Melts Down as Tesla Stock Price Plunges', 'description': None, 'url': 'https://consent.yahoo.com/v2/collectConsent?sessionId=1_cc-session_a42ceb12-76ff-4d1a-8fd5-8e85f7d1a6c1', 'urlToImage': None, 'publishedAt': '2025-03-10T21:25:04Z', 'content': \"If you click 'Accept all', we and our partners, including 238 who are part of the IAB Transparency &amp; Consent Framework, will also store and/or access information on a device (in other words, use … [+702 chars]\"}, {'source': {'id': None, 'name': 'Yahoo Entertainment'}, 'author': None, 'title': 'Cisco Stock Pops on Higher Outlook, $15B Buyback Boost', 'description': None, 'url': 'https://consent.yahoo.com/v2/collectConsent?sessionId=1_cc-session_91d46126-4aa6-43d7-91e8-c768efd6ddd1', 'urlToImage': None, 'publishedAt': '2025-02-12T22:01:39Z', 'content': \"If you click 'Accept all', we and our partners, including 239 who are part of the IAB Transparency &amp; Consent Framework, will also store and/or access information on a device (in other words, use … [+702 chars]\"}, {'source': {'id': None, 'name': 'Yahoo Entertainment'}, 'author': None, 'title': 'Why Conagra Stock Tumbled by Nearly 6% on Tuesday', 'description': None, 'url': 'https://consent.yahoo.com/v2/collectConsent?sessionId=1_cc-session_98957107-7f27-425c-aeb8-540a03bcf7d6', 'urlToImage': None, 'publishedAt': '2025-02-18T23:18:32Z', 'content': \"If you click 'Accept all', we and our partners, including 238 who are part of the IAB Transparency &amp; Consent Framework, will also store and/or access information on a device (in other words, use … [+702 chars]\"}, {'source': {'id': None, 'name': 'Yahoo Entertainment'}, 'author': 'Nauman khan', 'title': 'Intel Stock Skyrockets 12% on U.S. AI Chip Expansion', 'description': \"Intel's Domestic Chip Boom: 12% Surge Fuels New AI Processor Race\", 'url': 'https://finance.yahoo.com/news/intel-stock-skyrockets-12-u-165931216.html', 'urlToImage': 'https://media.zenfs.com/en/us.finance.gurufocus/b0b086dd5099da4ce977fdfb3dfdf84d', 'publishedAt': '2025-02-13T16:59:31Z', 'content': 'The stock price of Intel (INTC, Financial) increased by 12% on Thursday morning on the news of US AI chip production expansion and positive market reactions toward its new processing chip releases. T… [+1329 chars]'}, {'source': {'id': None, 'name': 'Yahoo Entertainment'}, 'author': None, 'title': 'Palantir stock slips 8% as the bleeding gets worse', 'description': None, 'url': 'https://consent.yahoo.com/v2/collectConsent?sessionId=1_cc-session_e67d466c-118e-46b5-bd82-a8611c9483e8', 'urlToImage': None, 'publishedAt': '2025-02-24T18:17:00Z', 'content': \"If you click 'Accept all', we and our partners, including 238 who are part of the IAB Transparency &amp; Consent Framework, will also store and/or access information on a device (in other words, use … [+702 chars]\"}, {'source': {'id': None, 'name': 'Yahoo Entertainment'}, 'author': None, 'title': \"Meta stock continues record run: 'Prime example' of implementing AI\", 'description': None, 'url': 'https://consent.yahoo.com/v2/collectConsent?sessionId=1_cc-session_169289da-f650-4f7b-bc91-958ab22f931c', 'urlToImage': None, 'publishedAt': '2025-02-14T16:57:00Z', 'content': \"If you click 'Accept all', we and our partners, including 239 who are part of the IAB Transparency &amp; Consent Framework, will also store and/or access information on a device (in other words, use … [+702 chars]\"}, {'source': {'id': None, 'name': 'Yahoo Entertainment'}, 'author': None, 'title': \"3 Reasons to Buy Celsius Stock Like There's No Tomorrow\", 'description': None, 'url': 'https://consent.yahoo.com/v2/collectConsent?sessionId=1_cc-session_c75c836f-6f08-4489-b0fe-c3f15eb876d3', 'urlToImage': None, 'publishedAt': '2025-03-01T08:15:00Z', 'content': \"If you click 'Accept all', we and our partners, including 238 who are part of the IAB Transparency &amp; Consent Framework, will also store and/or access information on a device (in other words, use … [+702 chars]\"}, {'source': {'id': None, 'name': 'Yahoo Entertainment'}, 'author': None, 'title': 'Redfin Stock Soars as Rocket Companies Acquires Firm for $1.75B', 'description': None, 'url': 'https://consent.yahoo.com/v2/collectConsent?sessionId=1_cc-session_55257996-bc42-4e11-97e7-95b856328e60', 'urlToImage': None, 'publishedAt': '2025-03-10T12:36:37Z', 'content': \"If you click 'Accept all', we and our partners, including 238 who are part of the IAB Transparency &amp; Consent Framework, will also store and/or access information on a device (in other words, use … [+702 chars]\"}, {'source': {'id': None, 'name': 'Yahoo Entertainment'}, 'author': None, 'title': 'Nvidia leads chip stock sell-off on AI cost concerns', 'description': None, 'url': 'https://consent.yahoo.com/v2/collectConsent?sessionId=1_cc-session_237ff915-0e1f-4723-ab89-3c2dc027fcc5', 'urlToImage': None, 'publishedAt': '2025-03-10T16:37:44Z', 'content': \"If you click 'Accept all', we and our partners, including 238 who are part of the IAB Transparency &amp; Consent Framework, will also store and/or access information on a device (in other words, use … [+702 chars]\"}, {'source': {'id': None, 'name': 'Yahoo Entertainment'}, 'author': 'Vishesh Raisinghani', 'title': 'Sacramento woman stuns Ramsey Show co-hosts with story of how she turned $1K into $380K with just 1 stock.', 'description': \"They say you can't time the stock market, but you can use time to your advantage.\", 'url': 'https://finance.yahoo.com/news/sacramento-woman-stuns-ramsey-show-093000762.html', 'urlToImage': 'https://media.zenfs.com/en/moneywise_327/cfb4da1b109a973bdd5a1b51f5705e91', 'publishedAt': '2025-02-25T09:30:00Z', 'content': 'This Sacramento woman turned $1,000 into a staggering $380,000 with just 1 stock and left the Ramsey Show stunned. Heres the stock and how you can build investing riches too\\r\\nWhen you find the right … [+3444 chars]'}, {'source': {'id': 'business-insider', 'name': 'Business Insider'}, 'author': 'aaltchek@insider.com (Ana Altchek)', 'title': \"Ron Baron's firm sold some Tesla shares — but he plans to keep his\", 'description': 'Investor Ron Baron said his firm trimmed its Tesla stake because he has to \"deal with the critiques of my clientele for how large the positions are.\"', 'url': 'https://www.businessinsider.com/baron-capital-sells-some-tesla-stock-shares-2025-3', 'urlToImage': 'https://i.insider.com/67d048f8585f1dff88b1c18f?width=1200&format=jpeg', 'publishedAt': '2025-03-11T17:13:15Z', 'content': 'Ron Baron said his asset management firm Baron Capital sold Tesla shares last month after concerns that its position was becoming too large.\\r\\n\"Everyone, you know, has to deal with certain clientele,\"… [+2643 chars]'}, {'source': {'id': 'business-insider', 'name': 'Business Insider'}, 'author': 'Alex Bitter', 'title': 'Outgoing Kroger CEO Rodney McMullen lost $11 million in bonus and stock payments when he resigned from the grocery chain', 'description': \"Ex-Kroger CEO Rodney McMullen left over $11 million on the table when he left the grocer, according to the company's SEC filings.\", 'url': 'https://www.businessinsider.com/kroger-ceo-lost-11-million-in-bonus-stock-payments-resignation-2025-3', 'urlToImage': 'https://i.insider.com/67c876a1b8b41a9673f9bd5a?width=799&format=jpeg', 'publishedAt': '2025-03-05T18:00:35Z', 'content': \"Former Kroger CEO Rodney McMullenThomson Reuters\\r\\n<ul><li>Kroger's ex-CEO forfeited more than $11 million in bonus and stock payments when he resigned.</li><li>Rodney McMullen still had hundreds of m… [+1487 chars]\"}, {'source': {'id': 'business-insider', 'name': 'Business Insider'}, 'author': 'Grace Eliza Goodwin', 'title': \"A former Silicon Valley engineer wrote on Substack about why he left behind 'staggering' stock grants to work for DOGE\", 'description': 'Gavin Kliger, a former software engineer who now works for DOGE, posted an explanation of why he joined the effort in a Substack post.', 'url': 'https://www.businessinsider.com/silicon-valley-engineer-explains-why-he-works-for-doge-2025-2', 'urlToImage': 'https://i.insider.com/67af93006630eb10385cb791?width=1200&format=jpeg', 'publishedAt': '2025-02-14T21:20:28Z', 'content': 'President Donald Trump has tasked billionaire Elon Musk with leading and staffing the Department of Government Efficiency.Brandon Bell/Getty Images\\r\\n<ul><li>A young staffer at the Department of Gover… [+3591 chars]'}, {'source': {'id': None, 'name': 'Gizmodo.com'}, 'author': 'Kyle Barr', 'title': 'AMD Unleashes the Radeon RX 9070 GPUs, With the 9070 XT at $600', 'description': \"AMD's Radeon RX 9070 and RX 9070 XT offer more frames with FSR 4, but will it compete on performance for the lower price?\", 'url': 'https://gizmodo.com/amd-unleashes-the-radeon-rx-9070-gpus-2000569514', 'urlToImage': 'https://gizmodo.com/app/uploads/2025/02/AMD-Radeon-RX-9000-Series-Graphics-.jpg', 'publishedAt': '2025-02-28T13:00:59Z', 'content': 'AMDs newly revealed Radeon RX 9070 and RX 9070 XT mid-range GPUS are set to compete against the Nvidia GeForce RTX 5070 and 5070 Ti, respectively. At least, we wont have to wait long before we see ho… [+6930 chars]'}, {'source': {'id': 'business-insider', 'name': 'Business Insider'}, 'author': 'Theron Mohamed', 'title': \"Warren Buffett's Berkshire Hathaway slashed its Bank of America stake and dumped bank stocks last quarter\", 'description': \"Warren Buffett's Berkshire Hathaway reduced its Bank of America stake to less than 9% and pared bets on Citigroup and Capital One last quarter.\", 'url': 'https://www.businessinsider.com/warren-buffett-berkshire-hathaway-bank-america-constellation-brands-stock-portfolio-2025-2', 'urlToImage': 'https://i.insider.com/67b327f76630eb10385cce79?width=1200&format=jpeg', 'publishedAt': '2025-02-17T13:34:51Z', 'content': \"Berkshire Hathaway CEO Warren Buffett.Reuters/Jason Reed\\r\\n<ul><li>Warren Buffett's Berkshire Hathaway cut its Bank of America stake and other bets last quarter.</li><li>The investor's company exited … [+3177 chars]\"}, {'source': {'id': None, 'name': 'Yahoo Entertainment'}, 'author': 'editorial-team@simplywallst.com (Simply Wall St)', 'title': \"Here's What Analysts Are Forecasting For Cleveland-Cliffs Inc. (NYSE:CLF) After Its Full-Year Results\", 'description': \"It's been a mediocre week for Cleveland-Cliffs Inc. ( NYSE:CLF ) shareholders, with the stock dropping 11% to US$10.57...\", 'url': 'https://finance.yahoo.com/news/heres-analysts-forecasting-cleveland-cliffs-101511569.html', 'urlToImage': 'https://media.zenfs.com/en/simply_wall_st__316/26cebba865ed1d4633d2eacc31dceb62', 'publishedAt': '2025-02-27T10:15:11Z', 'content': \"It's been a mediocre week for Cleveland-Cliffs Inc. (NYSE:CLF) shareholders, with the stock dropping 11% to US$10.57 in the week since its latest full-year results. Revenues came in at US$19b, in lin… [+4373 chars]\"}, {'source': {'id': None, 'name': 'BBC News'}, 'author': None, 'title': \"Americans protest Elon Musk: 'He should not be disassembling our democracy'\", 'description': \"Protesters organized small #TeslaTakeover demonstrations on BlueSky, the rival to Musk's platform X.\", 'url': 'https://www.bbc.com/news/articles/cvgm21zjggro', 'urlToImage': 'https://ichef.bbci.co.uk/news/1024/branded_news/0b8f/live/157ca9d0-ebee-11ef-a319-fb4e7360c4ec.jpg', 'publishedAt': '2025-02-15T23:35:46Z', 'content': 'Lily JamaliNorth America Technology Correspondent\\r\\nReporting from\\r\\nBerkeley, CA\\r\\nLinda Koistinen and her husband Dale stood outside a Tesla dealership in Berkeley, California, on Saturday, protesting… [+3502 chars]'}, {'source': {'id': 'business-insider', 'name': 'Business Insider'}, 'author': 'nredmond@insider.com (Nora Redmond)', 'title': \"You'll soon be able to trade 24 hours a day during the week if Nasdaq gets its way\", 'description': 'The NYSE and Cboe have both made similar announcements in recent months, as US exchanges look to enable greater global trading.', 'url': 'https://www.businessinsider.com/nasdaq-trade-24-hours-new-york-stock-exchange-2025-3', 'urlToImage': 'https://i.insider.com/67caf33f585f1dff88b175e8?width=1200&format=jpeg', 'publishedAt': '2025-03-07T14:53:29Z', 'content': 'Nasdaq announced Friday that it intends to allow 24-hour trading five days a week to take advantage of investors around the world wanting to trade US markets.\\r\\nThe second-largest stock exchange in th… [+1542 chars]'}, {'source': {'id': 'business-insider', 'name': 'Business Insider'}, 'author': 'jsor@businessinsider.com (Jennifer Sor)', 'title': \"Stocks are sinking. This time Trump's team doesn't care.\", 'description': \"Trump often pointed to gains in stocks as proof of his success during his first term. Now, the president isn't flinching from tariffs even as markets tank.\", 'url': 'https://www.businessinsider.com/stock-market-trump-tariffs-trade-war-bond-market-yields-2025-3', 'urlToImage': 'https://i.insider.com/67a11f3d7bb3f854015b8da7?width=1200&format=jpeg', 'publishedAt': '2025-03-04T18:02:52Z', 'content': \"President Donald Trump isn't flinching from his sweeping tariff policy in the face of a brutal stock sell-off that has investors fleeing to safe havens this week.\\r\\nThe president plowed ahead with his… [+3233 chars]\"}, {'source': {'id': None, 'name': 'CNET'}, 'author': 'Mike Sorrentino', 'title': 'Nerf Loadout Lets You Customize Your Blaster Like a Video Game', 'description': 'The video game-inspired blaster line includes interchangeable parts, letting you build a Nerf blaster exactly as you want it.', 'url': 'https://www.cnet.com/pictures/nerf-loadout-lets-you-customize-your-blaster-like-a-video-game/', 'urlToImage': 'https://www.cnet.com/a/img/hub/2025/02/28/842211e0-8b26-4bca-84c8-7b366284d1df/nerf-loadout-arctic.jpg', 'publishedAt': '2025-03-01T13:00:02Z', 'content': 'The $50 Galactic Commander is the lead of the line, showcasing three firing modes (semi automatic, three-dart burst and automatic) along with attachments like a scope, clip storage stock and barrel a… [+9 chars]'}, {'source': {'id': None, 'name': 'Hackaday'}, 'author': 'Arya Voronova', 'title': 'The Bus Pirate 5 Sure Can Glitch', 'description': 'Own a Bus Pirate 5? Now, it can do power glitching, thanks to [Matt Brugman’s] demo and contributions to the stock code. This is also a great demo of Bus Pirate’s capabilities and progr…', 'url': 'https://hackaday.com/2025/03/01/the-bus-pirate-5-sure-can-glitch/', 'urlToImage': 'https://hackaday.com/wp-content/uploads/2025/02/hadimg_bp5_glitching_feat.png', 'publishedAt': '2025-03-02T00:00:14Z', 'content': 'Own a Bus Pirate 5? Now, it can do power glitching, thanks to [Matt Brugman’s] demo and contributions to the stock code. This is also a great demo of Bus Pirate’s capabilities and program-ability! Al… [+1093 chars]'}, {'source': {'id': None, 'name': 'Gizmodo.com'}, 'author': 'Kyle Barr', 'title': 'AMD Radeon RX 9070 XT Is So Good, It May Help You Forget About Multi-Frame Gen', 'description': \"At $600, AMD's Radeon RX 9070 XT is just where it needs to be to compete for 4K gaming against the Nvidia GeForce RTX 5070 Ti.\", 'url': 'https://gizmodo.com/amd-radeon-rx-9070-xt-is-so-good-it-may-help-you-forget-about-multi-frame-gen-2000571640', 'urlToImage': 'https://gizmodo.com/app/uploads/2025/03/AMD-Radeon-RX-9070-XT-7-2.jpg', 'publishedAt': '2025-03-05T14:00:07Z', 'content': 'How much do you need to spend to get the most out of your games at 4K? There’s no such thing as a true budget option, but the Radeon RX 9070 XT isat the momentyour best, most cost-effective recourse.… [+10830 chars]'}, {'source': {'id': 'abc-news', 'name': 'ABC News'}, 'author': 'Zunaira Zaki', 'title': 'US stock futures inch higher after selloff amid recession concerns', 'description': 'Dow futures traded up 156 points, or about 0.36%.', 'url': 'https://abcnews.go.com/US/us-stock-futures-inch-higher-after-selloff-amid/story?id=119661741', 'urlToImage': 'https://i.abcnewsfe.com/a/8d38a486-5547-4529-8d21-78fe17fa0b80/trader-main_1741692001758_hpMain_16x9.jpg?w=1600', 'publishedAt': '2025-03-11T11:23:40Z', 'content': 'U.S. stock futures traded slightly higher on Tuesday, following Monday\\'s major selloff as markets digested President Donald Trump\\'s comments that there would be a \"period of transition\" as the econom… [+1114 chars]'}, {'source': {'id': None, 'name': 'Yahoo Entertainment'}, 'author': 'Josh Fellman', 'title': 'Palantir stock has been on a tear. But a reckoning could come soon', 'description': 'Palantir Technologies (PLTR) is the top-performing stock in the S&P 500 to start 2025, soaring 50% so far this year. But the software company’s bright...', 'url': 'https://finance.yahoo.com/news/palantir-stock-tear-reckoning-could-100000008.html', 'urlToImage': 'https://media.zenfs.com/en/quartz.com/094f99b9c11cf9f59b8290dc307fa015', 'publishedAt': '2025-02-12T10:00:00Z', 'content': 'Illustration: Thomas Fuller/SOPA Images/LightRocket (Getty Images)\\r\\nPalantir Technologies (PLTR) is the top-performing stock in the S&amp;P 500 to start 2025, soaring 50% so far this year. But the so… [+2737 chars]'}, {'source': {'id': None, 'name': 'Yahoo Entertainment'}, 'author': 'Swayta Shah', 'title': 'Is Ares Capital Stock Worth Buying to Earn 8.25% Dividend Yield?', 'description': \"ARCC's attractive dividend yield of 8.25% is impressive. Is the stock worth betting on to earn this dividend yield? Let's find out.\", 'url': 'https://finance.yahoo.com/news/ares-capital-stock-worth-buying-200000011.html', 'urlToImage': 'https://media.zenfs.com/en/zacks.com/d3e6082245f05efd98282f79c39d114d', 'publishedAt': '2025-02-25T20:00:00Z', 'content': 'Ares Capital Corporation ARCC, a business development company or BDC boasting an impressive dividend yield of 8.25%, is drawing the attention of income investors. Being a BDC and maintaining its regu… [+5057 chars]'}, {'source': {'id': None, 'name': 'Yahoo Entertainment'}, 'author': 'editorial-team@simplywallst.com (Simply Wall St)', 'title': 'Top 3 Dividend Stocks To Enhance Your Portfolio', 'description': 'As the U.S. stock market grapples with volatility due to tariff concerns and recession fears, investors are increasingly seeking stability in their...', 'url': 'https://finance.yahoo.com/news/top-3-dividend-stocks-enhance-110143245.html', 'urlToImage': 'https://media.zenfs.com/en/simply_wall_st__316/4020998fe5d069537fb917fd739e4047', 'publishedAt': '2025-03-11T11:01:43Z', 'content': 'As the U.S. stock market grapples with volatility due to tariff concerns and recession fears, investors are increasingly seeking stability in their portfolios. In such uncertain times, dividend stock… [+5727 chars]'}, {'source': {'id': None, 'name': 'Yahoo Entertainment'}, 'author': None, 'title': \"VirTra, Inc.'s (NASDAQ:VTSI) Fundamentals Look Pretty Strong: Could The Market Be Wrong About The Stock?\", 'description': None, 'url': 'https://consent.yahoo.com/v2/collectConsent?sessionId=1_cc-session_e58ce987-7b1b-4dee-9e7d-5f65978dc55b', 'urlToImage': None, 'publishedAt': '2025-02-17T11:46:14Z', 'content': \"If you click 'Accept all', we and our partners, including 238 who are part of the IAB Transparency &amp; Consent Framework, will also store and/or access information on a device (in other words, use … [+702 chars]\"}, {'source': {'id': None, 'name': 'Yahoo Entertainment'}, 'author': None, 'title': \"Super Micro's Stock Skyrockets 73.5%--Can It Sustain Its AI-Driven Growth?\", 'description': None, 'url': 'https://consent.yahoo.com/v2/collectConsent?sessionId=1_cc-session_4b6cd992-7741-4e90-bb63-469a31465b89', 'urlToImage': None, 'publishedAt': '2025-02-18T21:03:38Z', 'content': \"If you click 'Accept all', we and our partners, including 238 who are part of the IAB Transparency &amp; Consent Framework, will also store and/or access information on a device (in other words, use … [+702 chars]\"}, {'source': {'id': None, 'name': 'Yahoo Entertainment'}, 'author': None, 'title': 'AMD Exec Buys Stock for First Time in 12 Years as Shares Struggle', 'description': None, 'url': 'https://consent.yahoo.com/v2/collectConsent?sessionId=1_cc-session_5100b5b3-6018-42c2-a6c8-4b41877906e7', 'urlToImage': None, 'publishedAt': '2025-02-13T16:56:37Z', 'content': \"If you click 'Accept all', we and our partners, including 239 who are part of the IAB Transparency &amp; Consent Framework, will also store and/or access information on a device (in other words, use … [+702 chars]\"}, {'source': {'id': None, 'name': 'Yahoo Entertainment'}, 'author': None, 'title': 'Is Booking Holdings Inc. (BKNG) the Highest-Priced Stock Right Now?', 'description': None, 'url': 'https://consent.yahoo.com/v2/collectConsent?sessionId=1_cc-session_ae9bccdc-a5b1-4a04-b610-2028e1a4e321', 'urlToImage': None, 'publishedAt': '2025-02-17T02:10:34Z', 'content': \"If you click 'Accept all', we and our partners, including 239 who are part of the IAB Transparency &amp; Consent Framework, will also store and/or access information on a device (in other words, use … [+702 chars]\"}, {'source': {'id': None, 'name': 'Yahoo Entertainment'}, 'author': None, 'title': \"Trump’s social media posts about the stock market have 'disappeared,' JPMorgan says\", 'description': None, 'url': 'https://consent.yahoo.com/v2/collectConsent?sessionId=1_cc-session_4ce94821-0921-4842-b4f0-d78ef1a0b98e', 'urlToImage': None, 'publishedAt': '2025-02-19T17:29:05Z', 'content': \"If you click 'Accept all', we and our partners, including 238 who are part of the IAB Transparency &amp; Consent Framework, will also store and/or access information on a device (in other words, use … [+702 chars]\"}, {'source': {'id': None, 'name': 'Yahoo Entertainment'}, 'author': None, 'title': \"Nvidia's Next AI Boom? Wall Street Thinks This Stock Is About to Explode\", 'description': None, 'url': 'https://consent.yahoo.com/v2/collectConsent?sessionId=1_cc-session_7e37d969-971c-4857-95fa-29bd025bda3f', 'urlToImage': None, 'publishedAt': '2025-02-25T16:33:23Z', 'content': \"If you click 'Accept all', we and our partners, including 238 who are part of the IAB Transparency &amp; Consent Framework, will also store and/or access information on a device (in other words, use … [+702 chars]\"}, {'source': {'id': None, 'name': 'Yahoo Entertainment'}, 'author': None, 'title': 'Is Pfizer Inc. (PFE) The Best Cheap Dividend Stock To Buy Right Now?', 'description': None, 'url': 'https://consent.yahoo.com/v2/collectConsent?sessionId=1_cc-session_1a00751a-e505-4f06-8d02-157214eaad09', 'urlToImage': None, 'publishedAt': '2025-03-08T19:19:53Z', 'content': \"If you click 'Accept all', we and our partners, including 238 who are part of the IAB Transparency &amp; Consent Framework, will also store and/or access information on a device (in other words, use … [+702 chars]\"}, {'source': {'id': None, 'name': 'Yahoo Entertainment'}, 'author': None, 'title': 'Is Adobe Inc. (ADBE) the Most Undervalued High Quality Stock to Buy According to Analysts?', 'description': None, 'url': 'https://consent.yahoo.com/v2/collectConsent?sessionId=1_cc-session_5e09bf85-4987-42b9-b6a5-d27f833d7c95', 'urlToImage': None, 'publishedAt': '2025-03-08T18:58:51Z', 'content': \"If you click 'Accept all', we and our partners, including 238 who are part of the IAB Transparency &amp; Consent Framework, will also store and/or access information on a device (in other words, use … [+702 chars]\"}, {'source': {'id': None, 'name': 'Yahoo Entertainment'}, 'author': 'Avi Kapoor', 'title': 'How To Earn $500 A Month From Best Buy Stock Ahead Of Q4 Earnings', 'description': 'Best Buy Co., Inc. (NYSE:BBY) will release its fourth-quarter financial results, before the opening bell, on Tuesday, March 4. Analysts expect the Richfield,...', 'url': 'https://finance.yahoo.com/news/earn-500-month-best-buy-134511013.html', 'urlToImage': 'https://media.zenfs.com/en/Benzinga/38331f08ac492097cbea02aa5501f069', 'publishedAt': '2025-03-03T13:45:11Z', 'content': 'Best Buy Co., Inc. (NYSE:BBY) will release its fourth-quarter financial results, before the opening bell, on Tuesday, March 4.\\r\\nAnalysts expect the Richfield, Minnesota-based company to report quarte… [+2476 chars]'}, {'source': {'id': None, 'name': 'Yahoo Entertainment'}, 'author': None, 'title': 'Archer Aviation stock takes off on new Abu Dhabi air taxi deal', 'description': None, 'url': 'https://consent.yahoo.com/v2/collectConsent?sessionId=1_cc-session_ae8fe17e-715e-4c14-9665-a52ec15e0f3a', 'urlToImage': None, 'publishedAt': '2025-02-28T20:56:39Z', 'content': \"If you click 'Accept all', we and our partners, including 238 who are part of the IAB Transparency &amp; Consent Framework, will also store and/or access information on a device (in other words, use … [+702 chars]\"}, {'source': {'id': None, 'name': 'Yahoo Entertainment'}, 'author': 'Bob Karr', 'title': 'Is Taiwan Semiconductor Manufacturing Company Limited\\xa0(TSM) the Tech Stock with High Upside Potential?', 'description': 'We recently published a list of 10 Tech Stocks with High Upside Potential. In this article, we are going to take a look at where Taiwan Semiconductor...', 'url': 'https://finance.yahoo.com/news/taiwan-semiconductor-manufacturing-company-limited-161934574.html', 'urlToImage': 'https://s.yimg.com/ny/api/res/1.2/NNwY.gZByHpNCeRTqa8TTw--/YXBwaWQ9aGlnaGxhbmRlcjt3PTEyMDA7aD02NzM-/https://media.zenfs.com/en/insidermonkey.com/f90919c411d1aa5d89e5e74b1fb5e45e', 'publishedAt': '2025-03-03T16:19:34Z', 'content': 'We recently published a list of 10 Tech Stocks with High Upside Potential. In this article, we are going to take a look at where Taiwan Semiconductor Manufacturing Company Limited\\xa0(NYSE:TSM) stands a… [+6565 chars]'}, {'source': {'id': None, 'name': 'Yahoo Entertainment'}, 'author': None, 'title': 'U.S. stock market crash: Make sure you buy some of these quality stocks', 'description': None, 'url': 'https://consent.yahoo.com/v2/collectConsent?sessionId=1_cc-session_333ec807-d9dc-4797-b282-cc59c2b12f3b', 'urlToImage': None, 'publishedAt': '2025-03-11T12:34:59Z', 'content': \"If you click 'Accept all', we and our partners, including 238 who are part of the IAB Transparency &amp; Consent Framework, will also store and/or access information on a device (in other words, use … [+702 chars]\"}, {'source': {'id': None, 'name': 'Yahoo Entertainment'}, 'author': None, 'title': 'Will Intel Xeon 6 Processors Act as a Magic Wand for INTC Stock?', 'description': None, 'url': 'https://consent.yahoo.com/v2/collectConsent?sessionId=1_cc-session_219c555c-f325-4c01-b6f3-2c477b43e5b0', 'urlToImage': None, 'publishedAt': '2025-03-07T13:54:00Z', 'content': \"If you click 'Accept all', we and our partners, including 238 who are part of the IAB Transparency &amp; Consent Framework, will also store and/or access information on a device (in other words, use … [+702 chars]\"}, {'source': {'id': None, 'name': 'Yahoo Entertainment'}, 'author': 'Vardah Gill', 'title': 'Merck & Co., Inc. (MRK) Among The Best Cheap Dividend Stock To Buy Right Now', 'description': 'We recently published a list of 13 Best Cheap Dividend Stocks To Buy Right Now. In this article, we are going to take a look at where Merck & Co., Inc...', 'url': 'https://finance.yahoo.com/news/merck-co-inc-mrk-among-205258811.html', 'urlToImage': 'https://s.yimg.com/ny/api/res/1.2/krpa0cobX2AdeFb7DJ59pg--/YXBwaWQ9aGlnaGxhbmRlcjt3PTEyMDA7aD02NzM-/https://media.zenfs.com/en/insidermonkey.com/3c1e6d485df373db04a8fd19fdaf6c3a', 'publishedAt': '2025-03-08T20:52:58Z', 'content': 'We recently published a list of 13 Best Cheap Dividend Stocks To Buy Right Now. In this article, we are going to take a look at where Merck &amp; Co., Inc. (NYSE:MRK) stands against other best cheap … [+7514 chars]'}, {'source': {'id': None, 'name': 'Gizmodo.com'}, 'author': 'Thomas Maxwell', 'title': 'GameStop CEO Scapegoats DEI for Company Troubles', 'description': \"GameStop's Ryan Cohen has run out of reasons to explain the retail chain's decline.\", 'url': 'https://gizmodo.com/gamestop-ceo-scapegoats-dei-for-company-troubles-2000565613', 'urlToImage': 'https://gizmodo.com/app/uploads/2024/05/1c9636edfd6b2dd8d5eab079479279df.jpg', 'publishedAt': '2025-02-19T17:50:17Z', 'content': 'GameStop CEO Ryan Cohen took to X on Tuesday to blame wokeness and DEI for the retail chain’s impending exit from Canada and France. The company, which managed to survive the pandemic thanks to the i… [+3980 chars]'}, {'source': {'id': None, 'name': 'Gizmodo.com'}, 'author': 'Matt Novak', 'title': 'How to Find Your Local Protest Against Elon Musk', 'description': 'Many Americans are expressing their displeasure with the oligarch.', 'url': 'https://gizmodo.com/how-to-find-your-local-protest-against-elon-musk-2000570035', 'urlToImage': 'https://gizmodo.com/app/uploads/2025/02/Elon-Musk-protest-Feb-27-2025-.jpg', 'publishedAt': '2025-02-28T18:45:11Z', 'content': 'Elon Musk has spent the past month destroying the U.S. federal government with his team of DOGE goons, taking a chainsaw to USAID, NOAA, Social Security, and countless other vital agencies. And while… [+3821 chars]'}, {'source': {'id': None, 'name': 'Gizmodo.com'}, 'author': 'James Whitbrook and Gordon Jackson', 'title': 'You’ll Be Waiting a Little Longer for That Lord of the Rings Gollum Movie', 'description': \"Plus, Kingpin's ready to stamp out vigilantes for good in a new spot for Daredevil: Born Again.\", 'url': 'https://gizmodo.com/lord-of-the-rings-gollum-movie-delay-andy-serkis-2000569532', 'urlToImage': 'https://gizmodo.com/app/uploads/2025/02/MS-0228-Lord-of-the-Rings-Gollum.jpg', 'publishedAt': '2025-02-28T14:00:35Z', 'content': 'Death of a Unicorn‘s new trailer amps up the action. Terrifier‘s David Howard Thornton becomes Mickey Mouse in yet another\\xa0Steamboat Willie horror tale. Plus, see Kelly Marie Tran take on a horrifyin… [+2247 chars]'}, {'source': {'id': 'business-insider', 'name': 'Business Insider'}, 'author': 'aaltchek@insider.com (Ana Altchek)', 'title': \"It's crunch time for Tesla\", 'description': 'Tesla\\'s lower-cost vehicle is supposed to begin production by June at the latest. Analysts tell BI the launch is \"crucial\" and a \"necessity.\"', 'url': 'https://www.businessinsider.com/tesla-low-cost-cheaper-car-production-deadline-2025-3', 'urlToImage': 'https://i.insider.com/67cf5fc7b8b41a9673fa3983?width=1200&format=jpeg', 'publishedAt': '2025-03-11T09:00:02Z', 'content': 'Time is ticking for Tesla\\'s promised lower-cost vehicle.\\r\\nThe electric car giant said in its most recent earnings call earlier this year that production for the long-awaited \"more affordable\" Tesla w… [+3181 chars]'}, {'source': {'id': None, 'name': 'BBC News'}, 'author': None, 'title': \"'I'm not tech-savvy - but within hours I could buy an illegal knife on social media'\", 'description': 'Posing as an 18-year-old, BBC reporter Ruth Green quickly finds groups selling weapons openly.', 'url': 'https://www.bbc.com/news/articles/cgm18g19013o', 'urlToImage': 'https://ichef.bbci.co.uk/news/1024/branded_news/ec92/live/9cdd25e0-f6bf-11ef-9e61-71ee71f26eb1.jpg', 'publishedAt': '2025-03-02T00:42:23Z', 'content': \"I'm 48, use social media occasionally, and I'm not very tech-savvy. Until recently I'd never used Telegram.\\r\\nBut last year, after meeting the family of Ronan Kanda - the 16-year-old who was killed in… [+6725 chars]\"}, {'source': {'id': 'abc-news', 'name': 'ABC News'}, 'author': 'Max Zahn', 'title': 'Fresh jobs report to offer snapshot of US economy under Trump', 'description': 'The latest figures arrive at a turbulent moment for the stock market and U.S. trade relations.', 'url': 'https://abcnews.go.com/Business/fresh-jobs-report-offer-snapshot-us-economy-trump/story?id=119506893', 'urlToImage': 'https://i.abcnewsfe.com/a/4013594c-8e46-4fe0-ac73-038e1b0c8231/baristas-gty-jt-250306_1741300296032_hpMain_16x9.jpg?w=1600', 'publishedAt': '2025-03-07T10:38:09Z', 'content': 'A fresh jobs report to be released on Friday will offer a snapshot of U.S. economic performance over the first full month under President Donald Trump.\\r\\nEconomists expect employers to have hired 170,… [+2352 chars]'}, {'source': {'id': 'the-verge', 'name': 'The Verge'}, 'author': 'Tom Warren', 'title': 'Nvidia GeForce RTX 5070 Ti review: a cheaper RTX 4080', 'description': 'Nvidiaâ\\x80\\x99s new RTX 5070 Ti graphics card is the most intriguing entry in the 50-series lineup so far, promising to outperform last-gen cards that were even more expensive. At $749, it comfortably beats AMDâ\\x80\\x99s $899 RX 7900 XT, trades blows with the $999 RX 79…', 'url': 'https://www.theverge.com/gpu-reviews/615075/nvidia-rtx-5070-ti-review-test-benchmark', 'urlToImage': 'https://platform.theverge.com/wp-content/uploads/sites/2/2025/02/257566_Nvidia_RTX_5070_Ti_TWarren_0001.jpg?quality=90&strip=all&crop=0%2C10.471204188482%2C100%2C79.057591623037&w=1200', 'publishedAt': '2025-02-19T13:57:42Z', 'content': 'The RTX 5070 Ti delivers almost identical performance to the RTX 4080 with slightly less power draw.\\r\\nIf you buy something from a Verge link, Vox Media may earn a commission. See our ethics statement… [+8706 chars]'}, {'source': {'id': None, 'name': 'Yahoo Entertainment'}, 'author': None, 'title': \"Billionaire Bill Ackman Just Revealed His Newest Position. Here's Why I Think the Stock Is a Screaming Buy.\", 'description': None, 'url': 'https://consent.yahoo.com/v2/collectConsent?sessionId=1_cc-session_9d4a0dc6-741d-4617-807c-2dc5ee9c592c', 'urlToImage': None, 'publishedAt': '2025-02-12T14:00:00Z', 'content': \"If you click 'Accept all', we and our partners, including 239 who are part of the IAB Transparency &amp; Consent Framework, will also store and/or access information on a device (in other words, use … [+702 chars]\"}, {'source': {'id': None, 'name': 'Yahoo Entertainment'}, 'author': None, 'title': 'Stock market today: Asian shares sag as worries over US-China trade weigh on outlook for the region', 'description': None, 'url': 'https://consent.yahoo.com/v2/collectConsent?sessionId=1_cc-session_b4ff9956-f6a7-4c84-a3b7-db96babb4d3f', 'urlToImage': None, 'publishedAt': '2025-02-25T04:58:32Z', 'content': \"If you click 'Accept all', we and our partners, including 238 who are part of the IAB Transparency &amp; Consent Framework, will also store and/or access information on a device (in other words, use … [+702 chars]\"}, {'source': {'id': None, 'name': 'Yahoo Entertainment'}, 'author': None, 'title': \"'Sell your Teslas, dump your stock' — Tesla protests, Musk's tanking popularity hit EV maker at bad time\", 'description': None, 'url': 'https://consent.yahoo.com/v2/collectConsent?sessionId=1_cc-session_fe884b07-d7a5-4aa6-a310-2d1ae61d2836', 'urlToImage': None, 'publishedAt': '2025-02-18T19:30:44Z', 'content': \"If you click 'Accept all', we and our partners, including 238 who are part of the IAB Transparency &amp; Consent Framework, will also store and/or access information on a device (in other words, use … [+702 chars]\"}, {'source': {'id': None, 'name': 'Yahoo Entertainment'}, 'author': None, 'title': 'Verizon Communications (NYSE:VZ) shareholders have endured a 7.2% loss from investing in the stock five years ago', 'description': None, 'url': 'https://consent.yahoo.com/v2/collectConsent?sessionId=1_cc-session_4512311b-97bc-437d-8088-55ad1c7f41f7', 'urlToImage': None, 'publishedAt': '2025-02-12T11:00:29Z', 'content': \"If you click 'Accept all', we and our partners, including 239 who are part of the IAB Transparency &amp; Consent Framework, will also store and/or access information on a device (in other words, use … [+702 chars]\"}, {'source': {'id': None, 'name': 'Yahoo Entertainment'}, 'author': None, 'title': \"Occidental Petroleum Stock Is Down 32% – But Warren Buffett Keeps Buying More. Does He Know Something the Market Doesn't?\", 'description': None, 'url': 'https://consent.yahoo.com/v2/collectConsent?sessionId=1_cc-session_bd68a6d2-af3d-4ba4-b90f-605f62d3bf18', 'urlToImage': None, 'publishedAt': '2025-02-15T22:33:09Z', 'content': \"If you click 'Accept all', we and our partners, including 239 who are part of the IAB Transparency &amp; Consent Framework, will also store and/or access information on a device (in other words, use … [+702 chars]\"}, {'source': {'id': None, 'name': 'Yahoo Entertainment'}, 'author': None, 'title': 'This Ultra-High Dividend Stock Is Approaching an 8% Yield: Does That Make It a Buy Right Now?', 'description': None, 'url': 'https://consent.yahoo.com/v2/collectConsent?sessionId=1_cc-session_2aee6a86-9140-4c2f-bc49-ed03768a1689', 'urlToImage': None, 'publishedAt': '2025-03-02T10:45:00Z', 'content': \"If you click 'Accept all', we and our partners, including 238 who are part of the IAB Transparency &amp; Consent Framework, will also store and/or access information on a device (in other words, use … [+702 chars]\"}, {'source': {'id': None, 'name': 'Yahoo Entertainment'}, 'author': None, 'title': 'Nasdaq Correction: 1 Unstoppable Stock to Buy Before It Soars 600%, According to 1 Wall Street Analyst', 'description': None, 'url': 'https://consent.yahoo.com/v2/collectConsent?sessionId=1_cc-session_09406eef-fc50-4e23-8cbf-d0d44e279178', 'urlToImage': None, 'publishedAt': '2025-03-10T19:50:00Z', 'content': \"If you click 'Accept all', we and our partners, including 238 who are part of the IAB Transparency &amp; Consent Framework, will also store and/or access information on a device (in other words, use … [+702 chars]\"}, {'source': {'id': None, 'name': 'Yahoo Entertainment'}, 'author': None, 'title': 'Nasdaq Correction: Why I Took Advantage of a 20% Sell-Off to Buy More of This \"Magnificent Seven\" Stock.', 'description': None, 'url': 'https://consent.yahoo.com/v2/collectConsent?sessionId=1_cc-session_3fee2073-a6c0-43b8-bdaf-3e87af3db61b', 'urlToImage': None, 'publishedAt': '2025-03-11T19:26:00Z', 'content': \"If you click 'Accept all', we and our partners, including 238 who are part of the IAB Transparency &amp; Consent Framework, will also store and/or access information on a device (in other words, use … [+702 chars]\"}, {'source': {'id': None, 'name': 'Yahoo Entertainment'}, 'author': None, 'title': 'Warren Buffett Owns $29 Billion of This Top Dividend Stock: Could It Make You a Millionaire One Day?', 'description': None, 'url': 'https://consent.yahoo.com/v2/collectConsent?sessionId=1_cc-session_41847439-1ce7-40ed-8267-01e12afa783a', 'urlToImage': None, 'publishedAt': '2025-03-07T13:00:00Z', 'content': \"If you click 'Accept all', we and our partners, including 238 who are part of the IAB Transparency &amp; Consent Framework, will also store and/or access information on a device (in other words, use … [+702 chars]\"}, {'source': {'id': None, 'name': 'Yahoo Entertainment'}, 'author': None, 'title': 'Is Nvidia Stock a Buy Now?', 'description': None, 'url': 'https://consent.yahoo.com/v2/collectConsent?sessionId=1_cc-session_cea444cd-9b84-452f-b18b-8aa4ae662589', 'urlToImage': None, 'publishedAt': '2025-03-02T11:45:00Z', 'content': \"If you click 'Accept all', we and our partners, including 238 who are part of the IAB Transparency &amp; Consent Framework, will also store and/or access information on a device (in other words, use … [+702 chars]\"}, {'source': {'id': None, 'name': 'Android Central'}, 'author': 'bradypsnyder@gmail.com (Brady Snyder)', 'title': 'The Chromecast with Google TV is officially no longer available for purchase', 'description': 'While you might be able to pick up the last few from third-party retailers, the Google Store no longer sells Chromecast with Google TV streaming dongles.', 'url': 'https://www.androidcentral.com/streaming-tv/the-chromecast-with-google-tv-is-officially-no-longer-available-for-purchase', 'urlToImage': 'https://cdn.mos.cms.futurecdn.net/CmihoNf7sLuELLGY4jvxTV-1200-80.jpg', 'publishedAt': '2025-02-21T05:37:29Z', 'content': 'What you need to know\\r\\n<ul><li>Google is done selling the Chromecast with Google TV on the Google Store.</li><li>The Chromecast with Google TV HD and Chromecast with Google TV 4K are both listed as \"… [+2450 chars]'}, {'source': {'id': 'abc-news', 'name': 'ABC News'}, 'author': \"Jay O'Brien, John Parkinson, Lauren Peller, Arthur Jones II\", 'title': 'Johnson, House GOP dismiss market turmoil in defending Trump tariff policies', 'description': \"House Speaker Mike Johnson and other Republicans are dismissing stock market turmoil and recession concerns as they defend President Donald Trump's tariff policies.\", 'url': 'https://abcnews.go.com/Politics/johnson-house-gop-dismiss-market-turmoil-defend-trump/story?id=119678617', 'urlToImage': 'https://i.abcnewsfe.com/a/7b3180cc-4d71-424e-9210-521d62a68ee6/mike-johnson-9-gty-gmh-250311_1741709007526_hpMain_16x9.jpg?w=1600', 'publishedAt': '2025-03-11T20:32:47Z', 'content': 'House Speaker Mike Johnson and other Republicans are dismissing stock market turmoil and recession concerns as they defend President Donald Trump\\'s tariff policies.\\r\\n\"It is a shake-up and he said the… [+4358 chars]'}, {'source': {'id': None, 'name': 'Gizmodo.com'}, 'author': 'Thomas Maxwell', 'title': 'Intel Delays Ohio Semiconductor Factory to 2030, Maybe 2031', 'description': 'After years of decline, the once-great Silicon Valley icon is reportedly considering a plan to split itself apart.', 'url': 'https://gizmodo.com/intel-delays-ohio-semiconductor-factory-to-2030-maybe-2031-2000570189', 'urlToImage': 'https://gizmodo.com/app/uploads/2024/09/intel-core-ultra-series-2-2-1024x683.png', 'publishedAt': '2025-03-01T12:00:30Z', 'content': 'There has been little good news to come out of Intel in recent memory, and now the storied chipmaker has announced it will postpone the opening of a new Ohio semiconductor factory that was originally… [+3097 chars]'}, {'source': {'id': None, 'name': 'Gizmodo.com'}, 'author': 'Thomas Maxwell', 'title': 'Meta Is Ready to Rock Nvidia’s Boat With Its In-House AI Chip', 'description': \"Gradually, then suddenly, the big tech companies are replacing Nvidia's pricey AI chips.\", 'url': 'https://gizmodo.com/meta-is-ready-to-rock-nvidias-boat-with-its-in-house-ai-chip-2000574428', 'urlToImage': 'https://gizmodo.com/app/uploads/2025/03/GettyImages-1693798374.jpg', 'publishedAt': '2025-03-11T17:00:59Z', 'content': 'The adage goes, “your arbitrage is my opportunity,” and could be used to sum up Meta’s push into building an in-house chip for AI training tasks. Reutersreports the company recently began a small dep… [+3250 chars]'}, {'source': {'id': 'abc-news', 'name': 'ABC News'}, 'author': 'John Parkinson', 'title': 'Rep. Ro Khanna eyes anti-corruption agenda amid criticism of Democratic Party', 'description': \"California Rep. Ro Khanna is not only taking stock of the Democrats' stinging defeat last fall, but also taking shots at his own political party.\", 'url': 'https://abcnews.go.com/Politics/rep-ro-khanna-eyes-anti-corruption-agenda-amid/story?id=119637137', 'urlToImage': 'https://i.abcnewsfe.com/a/f9b54fb8-c52c-4860-999b-41083a7f0660/ro-gty-er-250310_1741636068325_hpMain_16x9.jpg?w=1600', 'publishedAt': '2025-03-10T20:36:59Z', 'content': 'As Democrats attempt to rebound from an underwhelming showing in the 2024 election, California Democratic Rep. Ro Khanna is not only taking stock of the stinging defeat last fall, but also taking sho… [+4624 chars]'}, {'source': {'id': None, 'name': 'Gizmodo.com'}, 'author': 'Matt Novak', 'title': 'Kash Patel, Trump Media Board Member and QAnon Conspiracy Theorist, Confirmed as FBI Director', 'description': '\"We\\'re going to come after the people in the media who lied about American citizens,\" Patel said in 2023.', 'url': 'https://gizmodo.com/kash-patel-trump-media-board-member-and-qanon-conspiracy-theorist-confirmed-as-fbi-director-2000566202', 'urlToImage': 'https://gizmodo.com/app/uploads/2025/02/kash-patel-2022-americafest.jpg', 'publishedAt': '2025-02-20T19:29:50Z', 'content': 'Kash Patel has been confirmed by the U.S. Senate as director of the FBI on Thursday in a vote of 51-49. The vote to confirm Patel was mostly along party lines, with all Democrats voting against it an… [+3479 chars]'}, {'source': {'id': None, 'name': 'Gizmodo.com'}, 'author': 'AJ Dellinger', 'title': 'Trump Family’s DeFi Project Stocked Up on Crypto Assets Ahead of White House Crypto Summit', 'description': 'Surely this is all on the level.', 'url': 'https://gizmodo.com/trump-familys-defi-project-stocked-up-on-crypto-assets-ahead-of-white-house-crypto-summit-2000572583', 'urlToImage': 'https://gizmodo.com/app/uploads/2024/11/GettyImages-2163296066.jpg', 'publishedAt': '2025-03-06T19:20:12Z', 'content': 'Say what you will about the Department of Government Efficiency, but there are some ways that the Trump administration has significantly cut down on bloat. For example, it used to take at least a lit… [+2747 chars]'}, {'source': {'id': None, 'name': 'Yahoo Entertainment'}, 'author': 'Julie Hyman', 'title': \"The Fed has pulled 'a rabbit out of a hat,' strategist says\", 'description': 'Roth Capital Partners Chief Economist and Macro Strategist Michael Darda shares his outlook on inflation and Federal Reserve policy on Market Domination...', 'url': 'https://finance.yahoo.com/video/fed-pulled-rabbit-hat-strategist-210342321.html', 'urlToImage': 'https://s.yimg.com/ny/api/res/1.2/WWvlZFksQtcQJLU.Y8rv5w--/YXBwaWQ9aGlnaGxhbmRlcjt3PTEyMDA7aD02NzY-/https://s.yimg.com/os/creatr-uploaded-images/2025-02/20482600-f094-11ef-ba7b-254f0bef4264', 'publishedAt': '2025-02-21T21:03:42Z', 'content': 'Roth Capital Partners Chief Economist and Macro Strategist Michael Darda shares his outlook on inflation and Federal Reserve policy on Market Domination.\\r\\nDarda characterizes the current stock market… [+1124 chars]'}, {'source': {'id': None, 'name': 'Yahoo Entertainment'}, 'author': 'Seana Smith', 'title': 'Nvidia stock trades below 200-day moving average: What that means', 'description': \"Nvidia (NVDA) stock is in focus as Wall Street analysts examine the chipmaker's recent price action with the stock trading under the 200-day moving average. ...\", 'url': 'https://finance.yahoo.com/video/nvidia-stock-trades-below-200-144925982.html', 'urlToImage': 'https://s.yimg.com/ny/api/res/1.2/ZVaOKrNHnRlgCzrteqWOZw--/YXBwaWQ9aGlnaGxhbmRlcjt3PTEyMDA7aD02NzY-/https://s.yimg.com/os/creatr-uploaded-images/2025-03/9c28a2b0-f9cf-11ef-bceb-89980cd8516b', 'publishedAt': '2025-03-05T14:49:25Z', 'content': \"Nvidia (NVDA) stock is in focus as Wall Street analysts examine the chipmaker's recent price action with the stock trading under the 200-day moving average.\\r\\nSeana Smith and Madison Mills outline wha… [+229 chars]\"}, {'source': {'id': 'the-verge', 'name': 'The Verge'}, 'author': 'Andrew J. Hawkins', 'title': 'Car prices expected to increase by as much as $12,000 thanks to Trump’s tariffs', 'description': 'Car prices are already at record highs, and President Donald Trump’s tariffs —\\xa0if they stay in place —\\xa0could send them into the stratosphere. The situation remains extremely fluid, with Trump administration officials today announcing a one-month reprieve for …', 'url': 'https://www.theverge.com/news/624812/trump-tariff-car-price-increase-production-cut', 'urlToImage': 'https://platform.theverge.com/wp-content/uploads/sites/2/2025/02/STKS488_TARIFFS_ADOBESTOCK_D.jpg?quality=90&strip=all&crop=0%2C10.732984293194%2C100%2C78.534031413613&w=1200', 'publishedAt': '2025-03-05T19:28:44Z', 'content': 'The one-month pause is in effect, but most experts agree that tariffs on Canada and Mexico will send car prices skyrocketing. Some models could disappear altogether.\\r\\nThe one-month pause is in effect… [+4477 chars]'}, {'source': {'id': 'business-insider', 'name': 'Business Insider'}, 'author': 'Lloyd Lee,Katherine Tangalakis-Lippert', 'title': \"Vandalize a Tesla dealership? Trump says he'll label that domestic terrorism.\", 'description': 'President Donald Trump responded to a question about Tesla dealership attacks, saying they should be considered domestic terrorism.', 'url': 'https://www.businessinsider.com/trump-tesla-vandalism-domestic-terrorism-elon-musk-2025-3', 'urlToImage': 'https://i.insider.com/67d097c8b8b41a9673fa535f?width=1200&format=jpeg', 'publishedAt': '2025-03-11T20:25:03Z', 'content': 'Tesla dealerships around the country have been vandalized.Smith Collection/Gado/Getty Images\\r\\nPresident Donald Trump says he will label attacks against Tesla dealerships domestic terrorism in respons… [+540 chars]'}, {'source': {'id': 'business-insider', 'name': 'Business Insider'}, 'author': 'Grace Eliza Goodwin', 'title': \"Trump says he's buying a Tesla to show support for Elon Musk\", 'description': 'Amid backlash and protests against Tesla, Donald Trump announces his intention to purchase a Tesla, showing support for Elon Musk and his ventures.', 'url': 'https://www.businessinsider.com/donald-trump-buy-tesla-support-elon-musk-stock-protests-2025-3', 'urlToImage': 'https://i.insider.com/67d046adb8b41a9673fa4392?width=1200&format=jpeg', 'publishedAt': '2025-03-11T14:34:35Z', 'content': 'Demonstrators protesting against Elon Musk and electric car maker Tesla on February 22, 2025, in Seattle, Washington.David Ryder/Getty Images\\r\\n<ul><li>Donald Trump says he plans to buy a Tesla to sup… [+2268 chars]'}, {'source': {'id': 'business-insider', 'name': 'Business Insider'}, 'author': 'Lee Chong Ming', 'title': \"China's capital city is making AI education mandatory, even for elementary schoolers\", 'description': \"Beijing's decision to make AI education mandatory comes as China powers ahead in the AI race, with its homegrown startups gaining global attention.\", 'url': 'https://www.businessinsider.com/china-beijing-ai-education-mandatory-classrooms-elementary-schoolers-2025-3', 'urlToImage': 'https://i.insider.com/67ce988669253ccddf98b9d3?width=1200&format=jpeg', 'publishedAt': '2025-03-10T08:07:57Z', 'content': 'The commission said the initiative is meant to create a \"teacher-student-machine\" learning model and integrate AI ethics.CFOTO/Future Publishing via Getty Images\\r\\n<ul><li>Starting this fall, schools … [+2358 chars]'}, {'source': {'id': None, 'name': 'Hackaday'}, 'author': 'Arya Voronova', 'title': 'Cheap Hackable Smart Ring Gets a Command Line Client', 'description': 'Last year, we’ve featured a super cheap smart ring – BLE, accelerometer, heart sensor, and a battery, all in a tiny package that fits on your finger. Back when we covered it, we expecte…', 'url': 'https://hackaday.com/2025/03/04/cheap-hackable-smart-ring-gets-a-command-line-client/', 'urlToImage': 'https://hackaday.com/wp-content/uploads/2025/02/hadimg_ring_python_feat.png', 'publishedAt': '2025-03-04T12:00:51Z', 'content': 'Last year, we’ve featured a super cheap smart ring – BLE, accelerometer, heart sensor, and a battery, all in a tiny package that fits on your finger. Back when we covered it, we expected either rever… [+1102 chars]'}, {'source': {'id': None, 'name': 'MarketWatch'}, 'author': 'James Rogers', 'title': 'This is why AST SpaceMobile’s stock is skyrocketing again', 'description': 'AST SpaceMobile has been attracting positive attention, boosted by launch milestones and a raft of partnerhips.', 'url': 'https://www.marketwatch.com/story/this-is-why-ast-spacemobiles-stock-is-skyrocketing-again-0f938609', 'urlToImage': 'https://images.mktw.net/im-33499477/social', 'publishedAt': '2025-03-04T20:33:00Z', 'content': 'Shares of AST SpaceMobile skyrocketed more than 13% on Tuesday, boosted by the space-based broadband companys narrower-than-expected fourth-quarter loss it reported late Monday. The result marks a sh… [+221 chars]'}]}\n"
     ]
    }
   ],
   "source": [
    "import os\n",
    "import requests \n",
    "\n",
    "API_KEY = os.getenv(\"NEWS_API_KEY\")  # Fetch from environment variable\n",
    "url = f\"https://newsapi.org/v2/everything?q=stock&apiKey={API_KEY}\"\n",
    "\n",
    "response = requests.get(url).json()\n",
    "print(response)\n"
   ]
  },
  {
   "cell_type": "code",
   "execution_count": 15,
   "id": "f9c9df24-049c-466c-8aa5-c59bb9cef2ec",
   "metadata": {},
   "outputs": [
    {
     "name": "stdout",
     "output_type": "stream",
     "text": [
      "News data saved to SQLite successfully!\n"
     ]
    }
   ],
   "source": [
    "import os\n",
    "import requests\n",
    "import sqlite3\n",
    "import pandas as pd\n",
    "\n",
    "# API Key (Ensure you've set this in your environment variables)\n",
    "API_KEY = os.getenv(\"NEWS_API_KEY\")\n",
    "\n",
    "# Fetch news data from NewsAPI\n",
    "url = f\"https://newsapi.org/v2/everything?q=stock&apiKey={API_KEY}\"\n",
    "response = requests.get(url).json()\n",
    "\n",
    "# Extract relevant fields\n",
    "articles = response.get(\"articles\", [])\n",
    "\n",
    "# Convert to DataFrame\n",
    "df_news = pd.DataFrame(articles)[[\"publishedAt\", \"title\", \"description\", \"url\"]]\n",
    "\n",
    "# Convert publishedAt to datetime\n",
    "df_news[\"publishedAt\"] = pd.to_datetime(df_news[\"publishedAt\"])\n",
    "\n",
    "# Define the relative path\n",
    "#db_path = \"data/stock_dataAPPL.db\"\n",
    "\n",
    "# Ensure the \"data\" directory exists\n",
    "#os.makedirs(os.path.dirname(db_path), exist_ok=True)\n",
    "\n",
    "\n",
    "# Connect to SQLite database\n",
    "conn = sqlite3.connect(\"C:/Users/NP.MOHSENPAK/stockmarket-data-engineering/data/stock_dataAPPL.db\")\n",
    "\n",
    "# Save DataFrame to SQLite\n",
    "df_news.to_sql(\"financial_news\", conn, if_exists=\"replace\", index=False)\n",
    "\n",
    "print(\"News data saved to SQLite successfully!\")\n",
    "\n",
    "# Close connection\n",
    "conn.close()\n"
   ]
  },
  {
   "cell_type": "code",
   "execution_count": null,
   "id": "8f1f3de8-9908-4ceb-9ddc-f78a0223e175",
   "metadata": {},
   "outputs": [],
   "source": [
    "\n"
   ]
  },
  {
   "cell_type": "code",
   "execution_count": 24,
   "id": "73f170a6-7299-436c-aa4a-0519a3663654",
   "metadata": {},
   "outputs": [
    {
     "name": "stderr",
     "output_type": "stream",
     "text": [
      "[nltk_data] Downloading package vader_lexicon to\n",
      "[nltk_data]     C:\\Users\\NP.MOHSENPAK\\AppData\\Roaming\\nltk_data...\n"
     ]
    },
    {
     "data": {
      "text/plain": [
       "True"
      ]
     },
     "execution_count": 24,
     "metadata": {},
     "output_type": "execute_result"
    }
   ],
   "source": [
    "import nltk\n",
    "nltk.download('vader_lexicon')"
   ]
  },
  {
   "cell_type": "code",
   "execution_count": 25,
   "id": "a094a281-c45a-4c73-acb6-997bd3785d75",
   "metadata": {},
   "outputs": [
    {
     "name": "stdout",
     "output_type": "stream",
     "text": [
      "{'neg': 0.0, 'neu': 1.0, 'pos': 0.0, 'compound': 0.0}\n"
     ]
    }
   ],
   "source": [
    "from nltk.sentiment import SentimentIntensityAnalyzer\n",
    "\n",
    "sia = SentimentIntensityAnalyzer()\n",
    "sentiment = sia.polarity_scores(\"Stock prices are rising!\")\n",
    "print(sentiment)\n"
   ]
  },
  {
   "cell_type": "code",
   "execution_count": 2,
   "id": "26ede7c8-790e-43eb-a7ff-42a9289fbb46",
   "metadata": {},
   "outputs": [
    {
     "name": "stdout",
     "output_type": "stream",
     "text": [
      "Requirement already satisfied: sqlalchemy in c:\\users\\np.mohsenpak\\anaconda3\\lib\\site-packages (2.0.34)\n",
      "Requirement already satisfied: typing-extensions>=4.6.0 in c:\\users\\np.mohsenpak\\anaconda3\\lib\\site-packages (from sqlalchemy) (4.11.0)\n",
      "Requirement already satisfied: greenlet!=0.4.17 in c:\\users\\np.mohsenpak\\anaconda3\\lib\\site-packages (from sqlalchemy) (3.0.1)\n"
     ]
    }
   ],
   "source": [
    "!pip install sqlalchemy\n",
    "\n"
   ]
  },
  {
   "cell_type": "code",
   "execution_count": 3,
   "id": "b882d6ac-f5f3-44d9-b571-32833a1488d1",
   "metadata": {},
   "outputs": [
    {
     "name": "stdout",
     "output_type": "stream",
     "text": [
      "2.0.34\n"
     ]
    }
   ],
   "source": [
    "import sqlalchemy\n",
    "print(sqlalchemy.__version__)\n"
   ]
  },
  {
   "cell_type": "code",
   "execution_count": 17,
   "id": "0ed98a08-ffdd-40b3-a58f-12459207cdac",
   "metadata": {},
   "outputs": [
    {
     "name": "stdout",
     "output_type": "stream",
     "text": [
      "News sentiment data saved to SQLite successfully!\n"
     ]
    }
   ],
   "source": [
    "import os\n",
    "import requests\n",
    "import sqlite3\n",
    "import pandas as pd\n",
    "from nltk.sentiment import SentimentIntensityAnalyzer\n",
    "\n",
    "# Initialize Sentiment Analyzer\n",
    "sia = SentimentIntensityAnalyzer()\n",
    "\n",
    "# API Key (Ensure you've set this in your environment variables)\n",
    "API_KEY = os.getenv(\"NEWS_API_KEY\")\n",
    "\n",
    "# Fetch news data from NewsAPI\n",
    "url = f\"https://newsapi.org/v2/everything?q=stock&apiKey={API_KEY}\"\n",
    "response = requests.get(url).json()\n",
    "\n",
    "# Extract relevant fields\n",
    "articles = response.get(\"articles\", [])\n",
    "\n",
    "# Convert articles to DataFrame\n",
    "df_news = pd.DataFrame(articles)[[\"publishedAt\", \"title\", \"description\", \"url\"]]\n",
    "\n",
    "# Convert publishedAt to datetime\n",
    "df_news[\"publishedAt\"] = pd.to_datetime(df_news[\"publishedAt\"])\n",
    "\n",
    "# Perform Sentiment Analysis on each news title and add sentiment scores\n",
    "df_news[\"sentiment_score\"] = df_news[\"title\"].apply(lambda x: sia.polarity_scores(x)[\"compound\"])\n",
    "\n",
    "# Determine if sentiment is positive, neutral, or negative\n",
    "df_news[\"sentiment_label\"] = df_news[\"sentiment_score\"].apply(lambda x: \"positive\" if x > 0 else (\"negative\" if x < 0 else \"neutral\"))\n",
    "\n",
    "# Connect to SQLite database\n",
    "conn = sqlite3.connect(\"C:/Users/NP.MOHSENPAK/stockmarket-data-engineering/data/stock_dataAPPL.db\")\n",
    "\n",
    "# Save DataFrame to SQLite (add sentiment analysis results)\n",
    "df_news.to_sql(\"financial_news_sentiment\", conn, if_exists=\"replace\", index=False)\n",
    "\n",
    "print(\"News sentiment data saved to SQLite successfully!\")\n",
    "\n",
    "# Close SQLite connection\n",
    "conn.close()\n"
   ]
  },
  {
   "cell_type": "code",
   "execution_count": null,
   "id": "0e9f0192-0344-4b56-861c-c7245e7aaad8",
   "metadata": {},
   "outputs": [],
   "source": []
  }
 ],
 "metadata": {
  "kernelspec": {
   "display_name": "Python 3 (ipykernel)",
   "language": "python",
   "name": "python3"
  },
  "language_info": {
   "codemirror_mode": {
    "name": "ipython",
    "version": 3
   },
   "file_extension": ".py",
   "mimetype": "text/x-python",
   "name": "python",
   "nbconvert_exporter": "python",
   "pygments_lexer": "ipython3",
   "version": "3.12.7"
  }
 },
 "nbformat": 4,
 "nbformat_minor": 5
}
