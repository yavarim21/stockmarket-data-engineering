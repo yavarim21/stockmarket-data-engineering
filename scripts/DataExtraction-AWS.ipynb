{
 "cells": [
  {
   "cell_type": "markdown",
   "id": "42254b3c-0e4a-4d2f-b4ac-d1f353690357",
   "metadata": {},
   "source": [
    "pip install psycopg2\n"
   ]
  },
  {
   "cell_type": "code",
   "execution_count": null,
   "id": "d068de4d-3faa-4742-837a-501771729f3f",
   "metadata": {},
   "outputs": [],
   "source": [
    "\n"
   ]
  },
  {
   "cell_type": "code",
   "execution_count": 8,
   "id": "304b45b4-3a9d-46a2-bea3-eb22c9fad88f",
   "metadata": {},
   "outputs": [
    {
     "name": "stderr",
     "output_type": "stream",
     "text": [
      "[*********************100%***********************]  1 of 1 completed\n"
     ]
    },
    {
     "name": "stdout",
     "output_type": "stream",
     "text": [
      "✅ Data successfully saved to AWS RDS PostgreSQL!\n"
     ]
    }
   ],
   "source": [
    "import yfinance as yf\n",
    "import pandas as pd\n",
    "from sqlalchemy import create_engine\n",
    "import psycopg2\n",
    "\n",
    "# Step 1: Download the data\n",
    "data = yf.download(\"AAPL\", start=\"2023-01-01\", end=\"2024-01-01\")\n",
    "\n",
    "# Step 2: Flatten the MultiIndex by resetting the columns\n",
    "data.columns = [f'{col[0]}_{col[1]}' for col in data.columns]  # Flatten MultiIndex columns\n",
    "\n",
    "# Reset the index to make 'Date' a regular column\n",
    "data.reset_index(inplace=True)\n",
    "\n",
    "# Convert 'Date' column to string format\n",
    "data['Date'] = data['Date'].dt.strftime('%Y-%m-%d')  # Format: 'YYYY-MM-DD'\n",
    "\n",
    "# Step 3: AWS RDS PostgreSQL Connection Details\n",
    "rds_host = \"database-1.c2b8mmg2krpj.us-east-1.rds.amazonaws.com\"\n",
    "rds_user = \"postgres\"\n",
    "rds_password = \"d82Nb5kMAK8T37S2JCSV\"\n",
    "rds_db = \"postgres\"\n",
    "rds_port = \"5432\"\n",
    "\n",
    "# Create PostgreSQL connection using SQLAlchemy\n",
    "engine = create_engine(f'postgresql://{rds_user}:{rds_password}@{rds_host}:{rds_port}/{rds_db}')\n",
    "\n",
    "# Step 4: Create table in PostgreSQL (if it doesn’t exist)\n",
    "create_table_query = '''\n",
    "CREATE TABLE IF NOT EXISTS apple_stock (\n",
    "    Date TEXT PRIMARY KEY,\n",
    "    Close_AAPL REAL,\n",
    "    High_AAPL REAL,\n",
    "    Low_AAPL REAL,\n",
    "    Open_AAPL REAL,\n",
    "    Volume_AAPL BIGINT\n",
    ");\n",
    "'''\n",
    "\n",
    "# Execute table creation\n",
    "with engine.connect() as conn:\n",
    "    conn.execute(text(create_table_query))\n",
    "\n",
    "\n",
    "# Step 5: Insert data into PostgreSQL\n",
    "data.to_sql('apple_stock', engine, if_exists='replace', index=False)\n",
    "\n",
    "print(\"✅ Data successfully saved to AWS RDS PostgreSQL!\")\n"
   ]
  },
  {
   "cell_type": "code",
   "execution_count": 23,
   "id": "c85ee713-dfd1-4539-b862-ac792dddf21d",
   "metadata": {},
   "outputs": [
    {
     "name": "stderr",
     "output_type": "stream",
     "text": [
      "C:\\Users\\NP.MOHSENPAK\\AppData\\Local\\Temp\\ipykernel_28324\\94588379.py:21: FutureWarning: DataFrame.fillna with 'method' is deprecated and will raise in a future version. Use obj.ffill() or obj.bfill() instead.\n",
      "  df_aapl.fillna(method='ffill', inplace=True)\n"
     ]
    },
    {
     "name": "stdout",
     "output_type": "stream",
     "text": [
      "AAPL stock data cleaned and saved to PostgreSQL!\n"
     ]
    }
   ],
   "source": [
    "import pandas as pd\n",
    "from sqlalchemy import create_engine\n",
    "\n",
    "# Step 3: AWS RDS PostgreSQL Connection Details\n",
    "rds_host = \"database-1.c2b8mmg2krpj.us-east-1.rds.amazonaws.com\"\n",
    "rds_user = \"postgres\"\n",
    "rds_password = \"d82Nb5kMAK8T37S2JCSV\"\n",
    "rds_db = \"postgres\"\n",
    "rds_port = \"5432\"\n",
    "\n",
    "# Create PostgreSQL connection using SQLAlchemy\n",
    "engine = create_engine(f'postgresql://{rds_user}:{rds_password}@{rds_host}:{rds_port}/{rds_db}')\n",
    "\n",
    "# Load AAPL stock data\n",
    "df_aapl = pd.read_sql(\"SELECT * FROM apple_stock\", engine)\n",
    "\n",
    "# Convert 'date' column to datetime\n",
    "df_aapl['Date'] = pd.to_datetime(df_aapl['Date'])\n",
    "\n",
    "# Handle missing values (forward fill for stock prices)\n",
    "df_aapl.fillna(method='ffill', inplace=True)\n",
    "\n",
    "# Remove duplicates\n",
    "df_aapl.drop_duplicates(inplace=True)\n",
    "\n",
    "# Save cleaned AAPL data back to PostgreSQL\n",
    "df_aapl.to_sql(\"apple_stock\", engine, if_exists=\"replace\", index=False)\n",
    "\n",
    "print(\"AAPL stock data cleaned and saved to PostgreSQL!\")\n"
   ]
  },
  {
   "cell_type": "code",
   "execution_count": 12,
   "id": "59b43655-32e8-4733-a787-eb0cb84b5550",
   "metadata": {},
   "outputs": [
    {
     "name": "stdout",
     "output_type": "stream",
     "text": [
      "Index(['Date', 'Close_AAPL', 'High_AAPL', 'Low_AAPL', 'Open_AAPL',\n",
      "       'Volume_AAPL'],\n",
      "      dtype='object')\n"
     ]
    }
   ],
   "source": [
    "print(df_aapl.columns)\n"
   ]
  },
  {
   "cell_type": "code",
   "execution_count": 7,
   "id": "949b6fb7-e3a6-4734-bd4c-5ceeeee29ada",
   "metadata": {},
   "outputs": [
    {
     "name": "stdout",
     "output_type": "stream",
     "text": [
      "✅ News sentiment data successfully saved to AWS RDS PostgreSQL!\n"
     ]
    }
   ],
   "source": [
    "import os\n",
    "import requests\n",
    "import pandas as pd\n",
    "from nltk.sentiment import SentimentIntensityAnalyzer\n",
    "from sqlalchemy import create_engine, text\n",
    "import psycopg2\n",
    "\n",
    "# Initialize Sentiment Analyzer\n",
    "sia = SentimentIntensityAnalyzer()\n",
    "\n",
    "# Step 1: Fetch news data from NewsAPI\n",
    "API_KEY = os.getenv(\"NEWS_API_KEY\")  # Ensure API key is set\n",
    "\n",
    "url = f\"https://newsapi.org/v2/everything?q=stock&apiKey={API_KEY}\"\n",
    "response = requests.get(url).json()\n",
    "\n",
    "# Step 2: Extract relevant fields and convert to DataFrame\n",
    "articles = response.get(\"articles\", [])\n",
    "\n",
    "# Check if data is available\n",
    "if not articles:\n",
    "    raise ValueError(\"❌ No articles found in API response. Check your API key and query.\")\n",
    "\n",
    "df_news = pd.DataFrame(articles)\n",
    "\n",
    "# Check if required columns exist\n",
    "required_columns = [\"publishedAt\", \"title\", \"description\", \"url\"]\n",
    "df_news = df_news[[col for col in required_columns if col in df_news.columns]]\n",
    "\n",
    "# Convert 'publishedAt' to datetime format if it exists\n",
    "if \"publishedAt\" in df_news.columns:\n",
    "    df_news[\"publishedAt\"] = pd.to_datetime(df_news[\"publishedAt\"])\n",
    "\n",
    "# Perform Sentiment Analysis on each news title\n",
    "df_news[\"sentiment_score\"] = df_news[\"title\"].apply(lambda x: sia.polarity_scores(x)[\"compound\"] if isinstance(x, str) else 0)\n",
    "df_news[\"sentiment_label\"] = df_news[\"sentiment_score\"].apply(lambda x: \"positive\" if x > 0 else (\"negative\" if x < 0 else \"neutral\"))\n",
    "\n",
    "# AWS RDS PostgreSQL connection details\n",
    "rds_host = \"database-1.c2b8mmg2krpj.us-east-1.rds.amazonaws.com\"\n",
    "rds_user = \"postgres\"\n",
    "rds_password = \"d82Nb5kMAK8T37S2JCSV\"\n",
    "rds_db = \"postgres\"\n",
    "rds_port = \"5432\"\n",
    "\n",
    "# Step 4: Create PostgreSQL connection using SQLAlchemy\n",
    "engine = create_engine(f'postgresql://{rds_user}:{rds_password}@{rds_host}:{rds_port}/{rds_db}')\n",
    "\n",
    "# Step 5: Create table in PostgreSQL if it doesn’t exist\n",
    "create_table_query = '''\n",
    "CREATE TABLE IF NOT EXISTS financial_news_sentiment (\n",
    "    publishedAt TIMESTAMP,\n",
    "    title TEXT,\n",
    "    description TEXT,\n",
    "    url TEXT PRIMARY KEY,\n",
    "    sentiment_score REAL,\n",
    "    sentiment_label TEXT\n",
    ");\n",
    "'''\n",
    "\n",
    "# Execute table creation\n",
    "with engine.connect() as conn:\n",
    "    conn.execute(text(create_table_query))\n",
    "\n",
    "# Step 6: Insert data into AWS RDS PostgreSQL\n",
    "df_news.to_sql('financial_news_sentiment', engine, if_exists='replace', index=False)\n",
    "\n",
    "print(\"✅ News sentiment data successfully saved to AWS RDS PostgreSQL!\")\n"
   ]
  },
  {
   "cell_type": "code",
   "execution_count": 9,
   "id": "071a2258-60e3-4eb5-ad68-7e51502c50c0",
   "metadata": {},
   "outputs": [
    {
     "name": "stderr",
     "output_type": "stream",
     "text": [
      "C:\\Users\\NP.MOHSENPAK\\AppData\\Local\\Temp\\ipykernel_23184\\2885579197.py:24: UserWarning: pandas only supports SQLAlchemy connectable (engine/connection) or database string URI or sqlite3 DBAPI2 connection. Other DBAPI2 objects are not tested. Please consider using SQLAlchemy.\n",
      "  df = pd.read_sql(query, conn)\n"
     ]
    },
    {
     "name": "stdout",
     "output_type": "stream",
     "text": [
      "         Date  Close_AAPL   High_AAPL    Low_AAPL   Open_AAPL  Volume_AAPL\n",
      "0  2023-01-03  123.632538  129.395526  122.742880  128.782657    112117500\n",
      "1  2023-01-04  124.907707  127.181276  123.642420  125.431615     89113600\n",
      "2  2023-01-05  123.583099  126.301493  123.326093  125.668849     80962700\n",
      "3  2023-01-06  128.130219  128.792516  123.454587  124.561717     87754700\n",
      "4  2023-01-09  128.654129  131.876670  128.397123  128.970458     70790800\n",
      "5  2023-01-10  129.227463  129.751370  126.647460  128.762863     63896200\n",
      "6  2023-01-11  131.955765  131.975524  128.960591  129.741504     69458900\n",
      "7  2023-01-12  131.876663  132.716885  129.929304  132.341262     71379600\n",
      "8  2023-01-13  133.211166  133.369331  130.146804  130.512547     57809700\n",
      "9  2023-01-17  134.377609  135.712084  132.588414  133.280366     63646600\n"
     ]
    }
   ],
   "source": [
    "import psycopg2\n",
    "import pandas as pd\n",
    "\n",
    "# AWS RDS PostgreSQL connection details\n",
    "rds_host = \"database-1.c2b8mmg2krpj.us-east-1.rds.amazonaws.com\"\n",
    "rds_user = \"postgres\"\n",
    "rds_password = \"d82Nb5kMAK8T37S2JCSV\"\n",
    "rds_db = \"postgres\"\n",
    "rds_port = \"5432\"\n",
    "\n",
    "# Connect to PostgreSQL\n",
    "conn = psycopg2.connect(\n",
    "    host=rds_host,\n",
    "    user=rds_user,\n",
    "    password=rds_password,\n",
    "    dbname=rds_db,\n",
    "    port=rds_port\n",
    ")\n",
    "\n",
    "# Query to fetch data from the table\n",
    "query = \"SELECT * FROM apple_stock LIMIT 10;\"  # Adjust LIMIT as needed\n",
    "\n",
    "# Execute the query and fetch data\n",
    "df = pd.read_sql(query, conn)\n",
    "\n",
    "# Show the fetched data\n",
    "print(df)\n",
    "\n",
    "# Close connection\n",
    "conn.close()\n"
   ]
  },
  {
   "cell_type": "code",
   "execution_count": 24,
   "id": "dce535c6-0a39-4d9d-92ab-3cfabf115d39",
   "metadata": {},
   "outputs": [
    {
     "name": "stdout",
     "output_type": "stream",
     "text": [
      "Financial news sentiment data cleaned and saved to PostgreSQL!\n"
     ]
    }
   ],
   "source": [
    "\n",
    "# AWS RDS PostgreSQL connection details\n",
    "rds_host = \"database-1.c2b8mmg2krpj.us-east-1.rds.amazonaws.com\"\n",
    "rds_user = \"postgres\"\n",
    "rds_password = \"d82Nb5kMAK8T37S2JCSV\"\n",
    "rds_db = \"postgres\"\n",
    "rds_port = \"5432\"\n",
    "\n",
    "# Step 4: Create PostgreSQL connection using SQLAlchemy\n",
    "engine = create_engine(f'postgresql://{rds_user}:{rds_password}@{rds_host}:{rds_port}/{rds_db}')\n",
    "\n",
    "\n",
    "\n",
    "# Load financial news sentiment data\n",
    "df_news = pd.read_sql(\"SELECT * FROM financial_news_sentiment\", engine)\n",
    "\n",
    "# Convert 'publishedAt' to datetime\n",
    "df_news['publishedAt'] = pd.to_datetime(df_news['publishedAt'])\n",
    "\n",
    "# Handle missing values\n",
    "df_news.fillna({\"sentiment_score\": 0, \"sentiment_label\": \"neutral\"}, inplace=True)  # Default sentiment for missing values\n",
    "\n",
    "# Remove duplicates\n",
    "df_news.drop_duplicates(inplace=True)\n",
    "\n",
    "# Save cleaned news sentiment data back to PostgreSQL\n",
    "df_news.to_sql(\"financial_news_sentiment\", engine, if_exists=\"replace\", index=False)\n",
    "\n",
    "print(\"Financial news sentiment data cleaned and saved to PostgreSQL!\")\n"
   ]
  },
  {
   "cell_type": "code",
   "execution_count": 16,
   "id": "dfa145a2-b774-407c-8ec8-eca81237df41",
   "metadata": {},
   "outputs": [],
   "source": [
    "import os\n",
    "\n",
    "# Set the environment variable\n",
    "os.environ['NEWS_API_KEY'] = '4967d527b00948cd8b94061cf59bc78d'"
   ]
  },
  {
   "cell_type": "code",
   "execution_count": 17,
   "id": "88d451d9-9f8d-4c6d-b7f0-1da83b68679a",
   "metadata": {},
   "outputs": [
    {
     "name": "stdout",
     "output_type": "stream",
     "text": [
      "{'status': 'ok', 'totalResults': 66524, 'articles': [{'source': {'id': 'wired', 'name': 'Wired'}, 'author': 'Zeyi Yang', 'title': 'Chinese Companies Rush to Put DeepSeek in Everything', 'description': 'From video game developers to a nuclear power plant, companies across China are adopting DeepSeek’s AI models to boost stock prices and flaunt their national pride.', 'url': 'https://www.wired.com/story/deepseek-china-nationalism/', 'urlToImage': 'https://media.wired.com/photos/67c5f5496e5120fc90d42211/191:100/w_1280,c_limit/China-DeepSeek-AI-Business-2197000260.jpg', 'publishedAt': '2025-03-12T10:00:00Z', 'content': 'A mobile shooting game developed by Tencent is using DeepSeek to power an in-game assistant that can, among other things, give players fortune-telling readers about whether they are going to have a g… [+3020 chars]'}, {'source': {'id': None, 'name': 'Gizmodo.com'}, 'author': 'Matthew Gault', 'title': 'Tesla Hate Is Making Insurance More Expensive for Owners', 'description': 'As stock slumps and Americans turn against the automaker, its owners are paying higher insurance premiums.', 'url': 'https://gizmodo.com/tesla-hate-is-making-insurance-more-expensive-for-owners-2000577467', 'urlToImage': 'https://gizmodo.com/app/uploads/2025/03/TeslaProtests.jpg', 'publishedAt': '2025-03-18T16:20:34Z', 'content': 'Teslas are getting more expensive to insure thanks to the manufacturers sliding fortunes and reports of vandalism against the cars. There are few markets as pure, heartless, and single-minded as auto… [+3796 chars]'}, {'source': {'id': None, 'name': 'Gizmodo.com'}, 'author': 'Kyle Barr', 'title': 'Nvidia’s RTX 5060 and 5060 Ti GPUs May Arrive Real Soon', 'description': 'Take your bets whether you’ll be able to find Nvidia’s lower-end RTX 5060 and RTX 5050 in stock anywhere.', 'url': 'https://gizmodo.com/nvidias-rtx-5060-and-5060-ti-gpus-may-arrive-real-soon-2000574616', 'urlToImage': 'https://gizmodo.com/app/uploads/2025/03/Nvidia-RTX-5070-4.jpg', 'publishedAt': '2025-03-11T20:41:25Z', 'content': 'Like Bigfoot or the chupacabra, the Nvidia GeForce RTX 5060 is being spotted in the wild by ravenous GPU buyers ready to believe any hint of a footprint indicates how powerful a beast they are. If an… [+3242 chars]'}, {'source': {'id': None, 'name': 'Gizmodo.com'}, 'author': 'Gizmodo Deals', 'title': 'The Galaxy S25 Ultra Is Now 70% Off, Samsung Is Clearing Out Stock', 'description': \"Samsung's latest deal on its website makes the Galaxy S25 Ultra the must-have smartphone for... everyone.\", 'url': 'https://gizmodo.com/the-galaxy-s25-ultra-is-now-70-off-samsung-is-clearing-out-stock-2000566727', 'urlToImage': 'https://gizmodo.com/app/uploads/2025/01/s25ultra.jpg', 'publishedAt': '2025-02-22T12:15:29Z', 'content': 'Premium smartphones are usually synonymous of hefty price tags, but Samsung has released an irresistible offer that feels almost too good to be true. Just a month after its grand debut, the Galaxy S2… [+3437 chars]'}, {'source': {'id': None, 'name': 'Gizmodo.com'}, 'author': 'Brittany Vincent', 'title': 'Amazon Offers a Self-Heating Coffee Mug at an All-Time Low to Clear Out Stock', 'description': 'Your cup of Joe can remain eternally hot with this discounted Nextmug.', 'url': 'https://gizmodo.com/amazon-offers-a-self-heating-coffee-mug-at-an-all-time-low-to-clear-out-stock-2000572344', 'urlToImage': 'https://gizmodo.com/app/uploads/2025/03/nextmug.jpg', 'publishedAt': '2025-03-06T21:20:26Z', 'content': 'For coffee enthusiasts who’ve experienced the disappointment of a lukewarm brew, the Nextmug Temperature-Controlled Self-Heating Coffee Mug offers an elegant solution. This innovative mug, designed i… [+2854 chars]'}, {'source': {'id': 'the-verge', 'name': 'The Verge'}, 'author': 'Sean Hollister', 'title': 'AMD says the $549 RX 9070 is real, but doesn’t deny reports of possible bait-and-switch', 'description': 'Yesterday, reviewers agreed: AMD is finally beating Nvidia with its RX 9070 and RX 9070 XT graphics cards, assuming they actually launch with sufficient stock at their $549 and $599 prices. But this morning’s launch, while better than recent Nvidia launches i…', 'url': 'https://www.theverge.com/news/625502/amd-rx-9070-xt-launch-pricing-msrp-possible-bait-switch', 'urlToImage': 'https://platform.theverge.com/wp-content/uploads/sites/2/2025/02/radeon-9070-xt.jpg?quality=90&strip=all&crop=0%2C0%2C100%2C80.498149432554&w=1200', 'publishedAt': '2025-03-06T20:25:56Z', 'content': 'It is inaccurate that $549/$599 MSRP is launch-only pricing, AMD tells The Verge.\\r\\nIt is inaccurate that $549/$599 MSRP is launch-only pricing, AMD tells The Verge.\\r\\nYesterday, reviewers agreed: AMD … [+3050 chars]'}, {'source': {'id': 'the-verge', 'name': 'The Verge'}, 'author': 'Andrew J. Hawkins', 'title': 'Is Tesla cooked?', 'description': 'Tesla stock plunged 15 percent on Monday, its steepest drop in five years. The price is down over 50 percent since its December highs. Tesla owners, disgusted with Elon Muskâ\\x80\\x99s slash-and-burn tactics for the Trump administration, are selling their vehicles a…', 'url': 'https://www.theverge.com/tesla/627894/tesla-stock-sales-protest-musk-trump-doge', 'urlToImage': 'https://platform.theverge.com/wp-content/uploads/sites/2/2025/03/STK022_ELON_MUSK_4_CVIRGINIA_B.webp?quality=90&strip=all&crop=0%2C10.732984293194%2C100%2C78.534031413613&w=1200', 'publishedAt': '2025-03-11T22:17:04Z', 'content': 'The CEO is absent, the stocks are plummeting, and the brand is toxic. Teslas future looks grim. \\r\\nThe CEO is absent, the stocks are plummeting, and the brand is toxic. Teslas future looks grim. \\r\\nTes… [+10200 chars]'}, {'source': {'id': 'wired', 'name': 'Wired'}, 'author': 'Brian Barrett', 'title': 'The United States of Elon Musk Inc.', 'description': 'The degree to which Donald Trump and Elon Musk’s interests are intertwined is unprecedented—and ultimately unsustainable.', 'url': 'https://www.wired.com/story/elon-musk-donald-trump-doge-congress-takeover/', 'urlToImage': 'https://media.wired.com/photos/67d21b81e3dd1d52d70b101e/191:100/w_1280,c_limit/politics_newsletter_united_states_musk_inc.jpg', 'publishedAt': '2025-03-13T14:00:00Z', 'content': 'Where do Elon Musks business interests end and Donald Trumps political interests begin? Trick questiontheyre one and the same.\\r\\nHow else do you explain the jarring sight of the President of the Unite… [+2965 chars]'}, {'source': {'id': 'the-verge', 'name': 'The Verge'}, 'author': 'Andrew Liszewski', 'title': 'Cricut’s new crafting machines are more accurate, faster, and cheaper', 'description': 'Cricut has announced new versions of its crafting machines designed to print, cut, and emboss various materials using a collection of swappable tools. The new Cricut Maker 4 and Cricut Explore 4 are the first updates to both machines in nearly four years and …', 'url': 'https://www.theverge.com/news/621116/cricut-maker-explore-4-crafting-cutting-machine', 'urlToImage': 'https://platform.theverge.com/wp-content/uploads/sites/2/2025/02/cricut1.jpg?quality=90&strip=all&crop=0,10.715693665406,100,78.568612669189', 'publishedAt': '2025-02-27T21:15:11Z', 'content': 'The new Cricut Maker 4 and Cricut Explore 4 come with enough crafting materials for 10 initial projects.\\r\\nThe new Cricut Maker 4 and Cricut Explore 4 come with enough crafting materials for 10 initia… [+2650 chars]'}, {'source': {'id': None, 'name': 'NPR'}, 'author': 'Maria Aspan', 'title': \"U.S. stock market plunge as Trump's tariffs spark fears about a trade war\", 'description': 'U.S. stock markets plummeted on Tuesday morning as a new global trade war began.', 'url': 'https://www.npr.org/2025/03/04/nx-s1-5317515/u-s-stock-markets-plunge-trump-tariffs-canada-mexico-china', 'urlToImage': 'https://npr.brightspotcdn.com/dims3/default/strip/false/crop/4112x2313+0+239/resize/1400/quality/100/format/jpeg/?url=http%3A%2F%2Fnpr-brightspot.s3.amazonaws.com%2Fcf%2F23%2F294cbe004e778fd147eab607c2dd%2Fgettyimages-2202696767.jpg', 'publishedAt': '2025-03-04T16:06:37Z', 'content': \"U.S. stock markets plummeted on Tuesday morning as a new global trade war began.\\r\\nChina and Canada announced new retaliatory measures on Tuesday after President Trump's long-promised tariffs took eff… [+1134 chars]\"}, {'source': {'id': 'business-insider', 'name': 'Business Insider'}, 'author': 'Grace Kay', 'title': \"Tesla's stock slump is driving Wall Street crazy — but not Elon Musk's employees\", 'description': \"Wall Street is sounding the alarm over Tesla's stock slump. The sentiment among employees? Shrug.\", 'url': 'https://www.businessinsider.com/tesla-stock-price-drop-employees-react-2025-3', 'urlToImage': 'https://i.insider.com/67d9a13eb8b41a9673fafa66?width=1200&format=jpeg', 'publishedAt': '2025-03-18T20:11:32Z', 'content': \"Getty Images; Emojipedia; Rebecca Zisser/BI\\r\\n<ul><li>Tesla's stock is down 44% year-to-date amid sales woes and CEO Elon Musk's involvement in DOGE.</li><li>Inside Tesla, however, workers say they're… [+4104 chars]\"}, {'source': {'id': None, 'name': 'Yahoo Entertainment'}, 'author': None, 'title': 'Nvidia stock rises ahead of 2025 GTC', 'description': None, 'url': 'https://consent.yahoo.com/v2/collectConsent?sessionId=1_cc-session_c0ab8cf3-211c-4dcf-ae08-656b062eebd1', 'urlToImage': None, 'publishedAt': '2025-03-14T20:17:57Z', 'content': \"If you click 'Accept all', we and our partners, including 238 who are part of the IAB Transparency &amp; Consent Framework, will also store and/or access information on a device (in other words, use … [+702 chars]\"}, {'source': {'id': None, 'name': 'Yahoo Entertainment'}, 'author': None, 'title': 'Why Amazon Stock Is Slipping Today', 'description': None, 'url': 'https://consent.yahoo.com/v2/collectConsent?sessionId=1_cc-session_a2bc6519-ee60-40fd-9321-1037a9832ee9', 'urlToImage': None, 'publishedAt': '2025-02-25T20:47:00Z', 'content': \"If you click 'Accept all', we and our partners, including 238 who are part of the IAB Transparency &amp; Consent Framework, will also store and/or access information on a device (in other words, use … [+702 chars]\"}, {'source': {'id': None, 'name': 'Yahoo Entertainment'}, 'author': None, 'title': 'Why Cava Stock Plunged 30% in February', 'description': None, 'url': 'https://consent.yahoo.com/v2/collectConsent?sessionId=1_cc-session_2186f3a6-d244-4487-b804-540af1953e09', 'urlToImage': None, 'publishedAt': '2025-03-04T13:39:48Z', 'content': \"If you click 'Accept all', we and our partners, including 238 who are part of the IAB Transparency &amp; Consent Framework, will also store and/or access information on a device (in other words, use … [+702 chars]\"}, {'source': {'id': None, 'name': 'Yahoo Entertainment'}, 'author': None, 'title': 'Why Rocket Lab Stock Just Crashed', 'description': None, 'url': 'https://consent.yahoo.com/v2/collectConsent?sessionId=1_cc-session_e9fc51fc-08ee-4f65-9fab-8d817844e50a', 'urlToImage': None, 'publishedAt': '2025-02-25T19:29:00Z', 'content': \"If you click 'Accept all', we and our partners, including 238 who are part of the IAB Transparency &amp; Consent Framework, will also store and/or access information on a device (in other words, use … [+702 chars]\"}, {'source': {'id': 'business-insider', 'name': 'Business Insider'}, 'author': 'wedwards@businessinsider.com (William Edwards)', 'title': 'Morgan Stanley says to load up on these 18 stocks most insulated from the trade war', 'description': 'One way to keep tariffs from sinking your stock portfolio? Invest in companies with products so good that they can raise their prices at will.', 'url': 'https://www.businessinsider.com/stocks-most-insulated-from-trade-war-trump-tariffs-morgan-stanley-2025-3', 'urlToImage': 'https://i.insider.com/678fbeb92fcded5e9073f8d5?width=1200&format=jpeg', 'publishedAt': '2025-03-05T19:37:18Z', 'content': \"One way to keep tariffs from sinking your stock portfolio? Invest in companies with products so good that they can raise their prices at will.\\r\\nThat's the thinking behind a list of stocks Morgan Stan… [+1235 chars]\"}, {'source': {'id': 'business-insider', 'name': 'Business Insider'}, 'author': 'tmohamed@businessinsider.com (Theron Mohamed)', 'title': \"'Shark Tank' star Kevin O'Leary says it's a good time to buy stocks — and doesn't see a recession yet\", 'description': \"Celebrity investor Kevin O'Leary said Trump's tariffs are temporary, and the stock market's correction is throwing up bargains for bold buyers.\", 'url': 'https://www.businessinsider.com/shark-tank-kevin-oleary-stock-market-correction-trump-tariffs-recession-2025-3', 'urlToImage': 'https://i.insider.com/66ec3b13d17aa3c7b2b41c3f?width=1024&format=jpeg', 'publishedAt': '2025-03-14T12:58:29Z', 'content': \"The S&amp;P 500 may have followed the Nasdaq Composite into correction territory on Thursday, but Kevin O'Leary has said the pain will be temporary and bargain hunters should buy the dip.\\r\\nPresident … [+1877 chars]\"}, {'source': {'id': 'business-insider', 'name': 'Business Insider'}, 'author': 'wedwards@businessinsider.com (William Edwards)', 'title': \"Here's when the stock market sell-off could force Trump to drop his trade war\", 'description': \"President Donald Trump says he's not concerned with how the stock market performs as he implements his protectionist agenda. That might soon change.\", 'url': 'https://www.businessinsider.com/stock-market-sell-off-force-trump-drop-trade-war-tariffs-2025-3', 'urlToImage': 'https://i.insider.com/67d1d900b8b41a9673fa703a?width=1200&format=jpeg', 'publishedAt': '2025-03-13T15:09:43Z', 'content': \"President Donald Trump says he's not concerned with how the stock market performs as he implements his protectionist agenda.\\r\\nThat might soon change.\\r\\nThe S&amp;P 500 is down nearly 9% from its Febru… [+2977 chars]\"}, {'source': {'id': 'business-insider', 'name': 'Business Insider'}, 'author': 'Erica Star Domena,Rachel Cohn', 'title': \"Tesla shareholders fear Elon Musk's focus on DOGE is tanking stock prices\", 'description': \"Tesla shareholders are frustrated with Elon Musk as he focuses more on DOGE and Tesla's stock price crashes.\", 'url': 'https://www.businessinsider.com/tesla-shareholders-fear-elon-musks-focus-on-doge-tanking-stock-2025-3', 'urlToImage': 'https://i.insider.com/67d092e6b8b41a9673fa520e?width=1200&format=jpeg', 'publishedAt': '2025-03-11T20:04:53Z', 'content': \"Tesla shareholders are frustrated with Elon Musk as he focuses more on DOGE and Tesla's stock price crashes.Read the original article on Business Insider\"}, {'source': {'id': 'business-insider', 'name': 'Business Insider'}, 'author': 'Kwan Wei Kevin Tan', 'title': \"Tesla 'armageddon,' a 'legion' of Optimus robots, and no mention of DOGE: 5 takeaways from Elon Musk's livestream\", 'description': '\"So what I am saying is, \\'Hang on to your stock,\\'\" Musk told employees in the Texas Gigafactory.', 'url': 'https://www.businessinsider.com/5-big-takeaways-elon-musk-tesla-all-hands-meeting-2025-3', 'urlToImage': 'https://i.insider.com/67dce3b563d72727e197db04?width=1200&format=jpeg', 'publishedAt': '2025-03-21T08:04:31Z', 'content': '\"So what I am saying is, \\'Hang on to your stock,\\'\" Elon Musk said at a Tesla all-hands meeting on Thursday night.Andrew Harnik via Getty Images\\r\\n<ul><li>Elon Musk held a last-minute all-hands meeting… [+8213 chars]'}, {'source': {'id': None, 'name': 'NPR'}, 'author': 'Brittney Melton', 'title': 'Stock markets fall over tariff concerns. And, fentanyl deaths drop in every state', 'description': \"The stock market fell yesterday as investors worry that Trump's tariffs will slow the economy and possibly lead the U.S. into a recession. And, fatal fentanyl overdoses are down in every U.S. state.\", 'url': 'https://www.npr.org/2025/03/11/g-s1-53114/up-first-newsletter-stock-market-trump-tariffs-fentanyl-crisis-mahmoud-khalil', 'urlToImage': 'https://npr.brightspotcdn.com/dims3/default/strip/false/crop/6517x3666+0+341/resize/1400/quality/100/format/jpeg/?url=http%3A%2F%2Fnpr-brightspot.s3.amazonaws.com%2Faf%2F38%2Fbddfade04311a9f4bd7c8a2ebece%2Fgettyimages-2203800831.jpg', 'publishedAt': '2025-03-11T11:03:43Z', 'content': \"Good morning. You're reading the Up First newsletter.\\xa0Subscribe\\xa0here to get it delivered to your inbox, and\\xa0listen\\xa0to the Up First podcast for all the news you need to start your day.\\r\\nToday's top st… [+5748 chars]\"}, {'source': {'id': 'business-insider', 'name': 'Business Insider'}, 'author': 'Katherine Li', 'title': \"Markets rallied after Trump's commerce secretary said a tariff deal may be around the corner\", 'description': \"US stock futures recovered after Trump's commerce secretary said imminent tariff compromises with Canada and Mexico could come as soon as Wednesday.\", 'url': 'https://www.businessinsider.com/markets-trump-tariff-compromise-lutnick-commerce-canadia-mexico-stocks-2025-3', 'urlToImage': 'https://i.insider.com/67c7a0cfb8b41a9673f9af6c?width=1200&format=jpeg', 'publishedAt': '2025-03-05T03:05:58Z', 'content': \"US Commerce Secretary Howard Lutnick speaks next to President Trump at the White House.Leah Millis/REUTERS\\r\\n<ul><li>US stock futures rose after Trump's commerce secretary hinted at tariff compromises… [+2082 chars]\"}, {'source': {'id': 'business-insider', 'name': 'Business Insider'}, 'author': 'Kelsey Vlamis', 'title': \"Elon Musk said he's running his businesses with 'great difficulty' as Tesla stock falls 15%\", 'description': 'Elon Musk said in an interview that running his businesses while working with the White House has not been easy. Tesla stock declined 15% on Monday.', 'url': 'https://www.businessinsider.com/elon-musk-running-companies-great-difficulty-doge-2025-3', 'urlToImage': 'https://i.insider.com/67cf55b5585f1dff88b1b612?width=1200&format=jpeg', 'publishedAt': '2025-03-10T21:25:51Z', 'content': \"Elon Musk said it hasn't been easy to run his businesses while working closely with the White House on government efficiency efforts.Saul Loeb/AFP/Getty Images\\r\\n<ul><li>Elon Musk said running his bus… [+1058 chars]\"}, {'source': {'id': 'business-insider', 'name': 'Business Insider'}, 'author': 'John L. Dorman', 'title': \"Treasury Secretary Scott Bessent says he can't rule out the possibility of a recession\", 'description': \"Treasury Secretary Scott Bessent said on Sunday there are 'no guarantees' there won't be a recession, but expressed confidence in the stock market.\", 'url': 'https://www.businessinsider.com/scott-bessent-recession-economy-stock-market-fluctuations-tariffs-trump-2025-3', 'urlToImage': 'https://i.insider.com/67d6f7a069253ccddf996547?width=1200&format=jpeg', 'publishedAt': '2025-03-16T16:30:44Z', 'content': \"US Treasury Secretary Scott Bessent expressed confidence in the stock market.Andrew Harnik/Getty Images\\r\\n<ul><li>Scott Bessent told NBC News on Sunday that there are 'no guarantees' there won't be a … [+2338 chars]\"}, {'source': {'id': 'business-insider', 'name': 'Business Insider'}, 'author': 'Allie Kelly', 'title': \"Don't call it a recession — but bad vibes are back in a big way\", 'description': \"Tariffs, stock market dips, and job cuts are driving a new vibecession. It's impacting retirees' 401(k)s, consumer spending, and job market outlooks.\", 'url': 'https://www.businessinsider.com/tariffs-inflation-recession-fears-consumer-sentiment-doge-layoffs-economy-2025-3', 'urlToImage': 'https://i.insider.com/67d98dff585f1dff88b272ec?width=1200&format=jpeg', 'publishedAt': '2025-03-19T08:02:01Z', 'content': 'Getty Images; Jenny Chang-Rodriguez/BI\\r\\n<ul><li>Both employees and employers are worried about their finances under Trump 2.0.</li><li>Consumer sentiment has dropped sharply because of economic uncer… [+8091 chars]'}, {'source': {'id': 'business-insider', 'name': 'Business Insider'}, 'author': 'Kwan Wei Kevin Tan', 'title': \"Commerce Secretary Howard Lutnick hawks Tesla stock on TV: 'It'll never be this cheap again'\", 'description': '\"It\\'s unbelievable that this guy\\'s stock is this cheap. It\\'ll never be this cheap again,\" Lutnick said of Elon Musk\\'s EV company, Tesla.', 'url': 'https://www.businessinsider.com/commerce-secretary-howard-lutnick-hawks-tesla-stock-on-tv-2025-3', 'urlToImage': 'https://i.insider.com/67db766a69253ccddf99c691?width=1200&format=jpeg', 'publishedAt': '2025-03-20T04:02:15Z', 'content': '\"It\\'s unbelievable that this guy\\'s stock is this cheap. It\\'ll never be this cheap again,\" Commerce Secretary Howard Lutnick said of Elon Musk\\'s EV company, Tesla.Roberto Schmidt/AFP via Getty Images\\r… [+3031 chars]'}, {'source': {'id': 'business-insider', 'name': 'Business Insider'}, 'author': 'Kelsey Vlamis', 'title': \"Elon Musk's net worth dropped $29 billion in one day as Tesla stock tanks\", 'description': \"Elon Musk's net worth fell by $29 billion on Monday. Tesla's stock free fall has some investors concerned about the CEO's focus.\", 'url': 'https://www.businessinsider.com/elon-musk-net-worth-drops-billion-tesla-stock-2025-3', 'urlToImage': 'https://i.insider.com/67cf6f90585f1dff88b1b7d5?width=1200&format=jpeg', 'publishedAt': '2025-03-10T23:29:55Z', 'content': \"Elon Musk's net worth has dropped by $132 billion this year as Tesla's stock price has tanked.Andrew Harnik/Getty Images\\r\\n<ul><li>Elon Musk's net worth fell by $29 billion as Monday as Tesla's stock … [+2222 chars]\"}, {'source': {'id': 'business-insider', 'name': 'Business Insider'}, 'author': 'Nora Redmond', 'title': \"Elon Musk's slice of SpaceX is now worth $43 billion more than his Tesla stake\", 'description': \"The value gap between Elon Musk's stakes in Tesla and SpaceX has widened following the slide in the EV maker's stock this year.\", 'url': 'https://www.businessinsider.com/elon-musk-spacex-tesla-stock-stakes-value-net-worth-2025-3', 'urlToImage': 'https://i.insider.com/67dabab5b8b41a9673fb10ea?width=1024&format=jpeg', 'publishedAt': '2025-03-19T14:26:19Z', 'content': \"Elon Musk's SpaceX stake is his most valuable asset.Andrew Harnik/Getty Image\\r\\n<ul><li>Elon Musk's slice of SpaceX is worth $43 billion more than his Tesla stake, per Bloomberg.</li><li>Tesla stock h… [+1678 chars]\"}, {'source': {'id': 'business-insider', 'name': 'Business Insider'}, 'author': 'Theron Mohamed', 'title': '8 tech titans suffer $266 billion wealth wipeout as Trump spooks the stock market', 'description': \"Elon Musk's net worth has plunged by $132 billion, or 30%, in 2025 following Tesla's stock slide, while Oracle's Larry Ellison is down $23 billion.\", 'url': 'https://www.businessinsider.com/tech-billionaires-wealth-stocks-musk-trump-bezos-crash-recession-economy-2025-3', 'urlToImage': 'https://i.insider.com/5cab4318c6cc5046b34fe9a3?width=1200&format=jpeg', 'publishedAt': '2025-03-11T12:09:46Z', 'content': 'Amazon founder Jeff Bezos and Tesla CEO Elon Musk.REUTERS/Joshua Roberts\\r\\n<ul><li>Eight tech titans have taken a $266 billion blow to their collective wealth this year.</li><li>Their combined net wor… [+3215 chars]'}, {'source': {'id': 'business-insider', 'name': 'Business Insider'}, 'author': 'Matthew Fox', 'title': 'Nvidia earnings: What investors should know about recent revenue, profits', 'description': \"With all eyes on Nvidia, here's a look at the company's recent earnings trends. Read about the chipmaker's revenues, profits, and stock price moves.\", 'url': 'https://www.businessinsider.com/nvidia-earnings', 'urlToImage': 'https://i.insider.com/67b77cc6eb4be2fff9a52582?width=1200&format=jpeg', 'publishedAt': '2025-03-04T16:38:06Z', 'content': 'Jaque Silva/NurPhoto via Getty Images\\r\\n<ul><li>Nvidia releases earnings quarterly.</li><li>On calls with investors, CEO Jensen Huang answers questions about the underlying trends impacting AI.</li><l… [+4279 chars]'}, {'source': {'id': 'business-insider', 'name': 'Business Insider'}, 'author': 'Emmalyse Brownstein', 'title': 'Inside the stock contest a $23 billion hedge fund uses to recruit interns', 'description': 'Balyasny Asset Management has adopted a new approach to recruiting young talent. A contest participant and two firm execs explain.', 'url': 'https://www.businessinsider.com/balyasny-careers-stock-pitch-competition-internship-campus-recruiting-schools-2025-3', 'urlToImage': 'https://i.insider.com/67d0e47369253ccddf98f35b?width=1041&format=jpeg', 'publishedAt': '2025-03-12T14:19:39Z', 'content': \"Sophia Guiter, a participant in Balyasny's fall 2024 stock-picking competition, landed a summer 2026 internship at the hedge fund.Balyasny Asset Management\\r\\n<ul><li>$23 billion hedge fund Balyasny ha… [+8795 chars]\"}, {'source': {'id': None, 'name': 'Gizmodo.com'}, 'author': 'Kyle Barr', 'title': 'Intel’s New CEO Promises ‘The New Intel’ Will Be Better Than the Old One', 'description': \"CEO Lip-Bu Tan's wants Intel to be a “engineering-focused company.”\", 'url': 'https://gizmodo.com/intels-new-ceo-promises-the-new-intel-will-be-better-than-the-old-one-2000575503', 'urlToImage': 'https://gizmodo.com/app/uploads/2025/03/Intel-Lip-Bu-Tan-CEO.jpg', 'publishedAt': '2025-03-13T13:31:19Z', 'content': 'Intel has a new boss. The new chief executive officer is Lip-Bu Tan, a former Intel board of directors member and chip software maker Cadence Design Systems. Hes promising to double down on things th… [+2530 chars]'}, {'source': {'id': None, 'name': 'Gizmodo.com'}, 'author': 'Kyle Barr', 'title': 'Nvidia’s RTX 5060 May Have Just Joined the Queue of Hardware Delayed This Week', 'description': 'I’m sure everything at Nvidia is fine, and big tech is certainly unconcerned about tariffs.', 'url': 'https://gizmodo.com/nvidias-rtx-5060-may-have-just-joined-the-queue-of-hardware-delayed-this-week-2000578802', 'urlToImage': 'https://gizmodo.com/app/uploads/2025/01/Nvidia-Geforce-RTX-5090-5080-5070.jpg', 'publishedAt': '2025-03-20T21:00:53Z', 'content': 'Those hoping to finally see Nvidias lower-end graphics cards in-personor at least see a pretty picture next to the dreaded words out of stockmay need to wait several weeks more. The Nvidia GeForce RT… [+3083 chars]'}, {'source': {'id': 'the-verge', 'name': 'The Verge'}, 'author': 'Nilay Patel', 'title': 'How the Tesla brand turned so toxic', 'description': 'Today we’re talking about the protests against Tesla, which have been branded on social media under the hashtag Tesla Takedown. The protests are, of course, a reaction to Elon Musk, who has managed to install himself as basically a not-so-shadow president who…', 'url': 'https://www.theverge.com/decoder-podcast-with-nilay-patel/633200/tesla-takedown-protest-elon-musk-toxic', 'urlToImage': 'https://platform.theverge.com/wp-content/uploads/sites/2/2025/03/DCD_0320.jpg?quality=90&strip=all&crop=0%2C10.732984293194%2C100%2C78.534031413613&w=1200', 'publishedAt': '2025-03-20T13:19:47Z', 'content': 'How the Tesla brand turned so toxic\\r\\nThe Tesla Takedown movement is rallying against Elon Musk, and its only getting bigger.\\r\\nHow the Tesla brand turned so toxic\\r\\nThe Tesla Takedown movement is rally… [+3899 chars]'}, {'source': {'id': None, 'name': 'Yahoo Entertainment'}, 'author': None, 'title': 'Musk Melts Down as Tesla Stock Price Plunges', 'description': None, 'url': 'https://consent.yahoo.com/v2/collectConsent?sessionId=1_cc-session_a42ceb12-76ff-4d1a-8fd5-8e85f7d1a6c1', 'urlToImage': None, 'publishedAt': '2025-03-10T21:25:04Z', 'content': \"If you click 'Accept all', we and our partners, including 238 who are part of the IAB Transparency &amp; Consent Framework, will also store and/or access information on a device (in other words, use … [+702 chars]\"}, {'source': {'id': None, 'name': 'Yahoo Entertainment'}, 'author': None, 'title': 'D-Wave Quantum Stock Tumbles, Giving Back Monday Gains', 'description': None, 'url': 'https://consent.yahoo.com/v2/collectConsent?sessionId=1_cc-session_264a491e-8aea-44b1-b7dd-8622abfc6ad5', 'urlToImage': None, 'publishedAt': '2025-03-18T13:52:19Z', 'content': \"If you click 'Accept all', we and our partners, including 239 who are part of the IAB Transparency &amp; Consent Framework, will also store and/or access information on a device (in other words, use … [+702 chars]\"}, {'source': {'id': None, 'name': 'Yahoo Entertainment'}, 'author': None, 'title': 'Palantir stock slips 8% as the bleeding gets worse', 'description': None, 'url': 'https://consent.yahoo.com/v2/collectConsent?sessionId=1_cc-session_e67d466c-118e-46b5-bd82-a8611c9483e8', 'urlToImage': None, 'publishedAt': '2025-02-24T18:17:00Z', 'content': \"If you click 'Accept all', we and our partners, including 238 who are part of the IAB Transparency &amp; Consent Framework, will also store and/or access information on a device (in other words, use … [+702 chars]\"}, {'source': {'id': None, 'name': 'Yahoo Entertainment'}, 'author': None, 'title': \"3 Reasons to Buy Celsius Stock Like There's No Tomorrow\", 'description': None, 'url': 'https://consent.yahoo.com/v2/collectConsent?sessionId=1_cc-session_c75c836f-6f08-4489-b0fe-c3f15eb876d3', 'urlToImage': None, 'publishedAt': '2025-03-01T08:15:00Z', 'content': \"If you click 'Accept all', we and our partners, including 238 who are part of the IAB Transparency &amp; Consent Framework, will also store and/or access information on a device (in other words, use … [+702 chars]\"}, {'source': {'id': None, 'name': 'Yahoo Entertainment'}, 'author': None, 'title': 'Redfin Stock Soars as Rocket Companies Acquires Firm for $1.75B', 'description': None, 'url': 'https://consent.yahoo.com/v2/collectConsent?sessionId=1_cc-session_55257996-bc42-4e11-97e7-95b856328e60', 'urlToImage': None, 'publishedAt': '2025-03-10T12:36:37Z', 'content': \"If you click 'Accept all', we and our partners, including 238 who are part of the IAB Transparency &amp; Consent Framework, will also store and/or access information on a device (in other words, use … [+702 chars]\"}, {'source': {'id': None, 'name': 'Yahoo Entertainment'}, 'author': None, 'title': 'Nvidia leads chip stock sell-off on AI cost concerns', 'description': None, 'url': 'https://consent.yahoo.com/v2/collectConsent?sessionId=1_cc-session_237ff915-0e1f-4723-ab89-3c2dc027fcc5', 'urlToImage': None, 'publishedAt': '2025-03-10T16:37:44Z', 'content': \"If you click 'Accept all', we and our partners, including 238 who are part of the IAB Transparency &amp; Consent Framework, will also store and/or access information on a device (in other words, use … [+702 chars]\"}, {'source': {'id': None, 'name': 'Yahoo Entertainment'}, 'author': None, 'title': 'The Smartest Growth Stock to Buy With $1,000 Right Now', 'description': None, 'url': 'https://consent.yahoo.com/v2/collectConsent?sessionId=1_cc-session_82dd6dec-b8a9-421c-8636-4509a8595665', 'urlToImage': None, 'publishedAt': '2025-03-19T07:55:00Z', 'content': \"If you click 'Accept all', we and our partners, including 239 who are part of the IAB Transparency &amp; Consent Framework, will also store and/or access information on a device (in other words, use … [+702 chars]\"}, {'source': {'id': None, 'name': 'Yahoo Entertainment'}, 'author': None, 'title': 'Are You Looking for a High-Growth Dividend Stock?', 'description': None, 'url': 'https://consent.yahoo.com/v2/collectConsent?sessionId=1_cc-session_37780871-5347-4197-82b3-2ac4c74eaa76', 'urlToImage': None, 'publishedAt': '2025-03-17T15:45:10Z', 'content': \"If you click 'Accept all', we and our partners, including 238 who are part of the IAB Transparency &amp; Consent Framework, will also store and/or access information on a device (in other words, use … [+702 chars]\"}, {'source': {'id': None, 'name': 'Yahoo Entertainment'}, 'author': 'Vishesh Raisinghani', 'title': 'Sacramento woman stuns Ramsey Show co-hosts with story of how she turned $1K into $380K with just 1 stock.', 'description': \"They say you can't time the stock market, but you can use time to your advantage.\", 'url': 'https://finance.yahoo.com/news/sacramento-woman-stuns-ramsey-show-093000762.html', 'urlToImage': 'https://media.zenfs.com/en/moneywise_327/cfb4da1b109a973bdd5a1b51f5705e91', 'publishedAt': '2025-02-25T09:30:00Z', 'content': 'This Sacramento woman turned $1,000 into a staggering $380,000 with just 1 stock and left the Ramsey Show stunned. Heres the stock and how you can build investing riches too\\r\\nWhen you find the right … [+3444 chars]'}, {'source': {'id': 'business-insider', 'name': 'Business Insider'}, 'author': 'aaltchek@insider.com (Ana Altchek)', 'title': \"Ron Baron's firm sold some Tesla shares — but he plans to keep his\", 'description': 'Investor Ron Baron said his firm trimmed its Tesla stake because he has to \"deal with the critiques of my clientele for how large the positions are.\"', 'url': 'https://www.businessinsider.com/baron-capital-sells-some-tesla-stock-shares-2025-3', 'urlToImage': 'https://i.insider.com/67d048f8585f1dff88b1c18f?width=1200&format=jpeg', 'publishedAt': '2025-03-11T17:13:15Z', 'content': 'Ron Baron said his asset management firm Baron Capital sold Tesla shares last month after concerns that its position was becoming too large.\\r\\n\"Everyone, you know, has to deal with certain clientele,\"… [+2643 chars]'}, {'source': {'id': 'business-insider', 'name': 'Business Insider'}, 'author': 'Alex Bitter', 'title': 'Outgoing Kroger CEO Rodney McMullen lost $11 million in bonus and stock payments when he resigned from the grocery chain', 'description': \"Ex-Kroger CEO Rodney McMullen left over $11 million on the table when he left the grocer, according to the company's SEC filings.\", 'url': 'https://www.businessinsider.com/kroger-ceo-lost-11-million-in-bonus-stock-payments-resignation-2025-3', 'urlToImage': 'https://i.insider.com/67c876a1b8b41a9673f9bd5a?width=799&format=jpeg', 'publishedAt': '2025-03-05T18:00:35Z', 'content': \"Former Kroger CEO Rodney McMullenThomson Reuters\\r\\n<ul><li>Kroger's ex-CEO forfeited more than $11 million in bonus and stock payments when he resigned.</li><li>Rodney McMullen still had hundreds of m… [+1487 chars]\"}, {'source': {'id': None, 'name': 'Gizmodo.com'}, 'author': 'Kyle Barr', 'title': 'AMD Unleashes the Radeon RX 9070 GPUs, With the 9070 XT at $600', 'description': \"AMD's Radeon RX 9070 and RX 9070 XT offer more frames with FSR 4, but will it compete on performance for the lower price?\", 'url': 'https://gizmodo.com/amd-unleashes-the-radeon-rx-9070-gpus-2000569514', 'urlToImage': 'https://gizmodo.com/app/uploads/2025/02/AMD-Radeon-RX-9000-Series-Graphics-.jpg', 'publishedAt': '2025-02-28T13:00:59Z', 'content': 'AMDs newly revealed Radeon RX 9070 and RX 9070 XT mid-range GPUS are set to compete against the Nvidia GeForce RTX 5070 and 5070 Ti, respectively. At least, we wont have to wait long before we see ho… [+6930 chars]'}, {'source': {'id': None, 'name': 'Yahoo Entertainment'}, 'author': 'editorial-team@simplywallst.com (Simply Wall St)', 'title': \"Here's What Analysts Are Forecasting For Cleveland-Cliffs Inc. (NYSE:CLF) After Its Full-Year Results\", 'description': \"It's been a mediocre week for Cleveland-Cliffs Inc. ( NYSE:CLF ) shareholders, with the stock dropping 11% to US$10.57...\", 'url': 'https://finance.yahoo.com/news/heres-analysts-forecasting-cleveland-cliffs-101511569.html', 'urlToImage': 'https://media.zenfs.com/en/simply_wall_st__316/26cebba865ed1d4633d2eacc31dceb62', 'publishedAt': '2025-02-27T10:15:11Z', 'content': \"It's been a mediocre week for Cleveland-Cliffs Inc. (NYSE:CLF) shareholders, with the stock dropping 11% to US$10.57 in the week since its latest full-year results. Revenues came in at US$19b, in lin… [+4373 chars]\"}, {'source': {'id': 'business-insider', 'name': 'Business Insider'}, 'author': 'nredmond@insider.com (Nora Redmond)', 'title': \"You'll soon be able to trade 24 hours a day during the week if Nasdaq gets its way\", 'description': 'The NYSE and Cboe have both made similar announcements in recent months, as US exchanges look to enable greater global trading.', 'url': 'https://www.businessinsider.com/nasdaq-trade-24-hours-new-york-stock-exchange-2025-3', 'urlToImage': 'https://i.insider.com/67caf33f585f1dff88b175e8?width=1200&format=jpeg', 'publishedAt': '2025-03-07T14:53:29Z', 'content': 'Nasdaq announced Friday that it intends to allow 24-hour trading five days a week to take advantage of investors around the world wanting to trade US markets.\\r\\nThe second-largest stock exchange in th… [+1542 chars]'}, {'source': {'id': 'business-insider', 'name': 'Business Insider'}, 'author': 'jsor@businessinsider.com (Jennifer Sor)', 'title': \"Stocks are sinking. This time Trump's team doesn't care.\", 'description': \"Trump often pointed to gains in stocks as proof of his success during his first term. Now, the president isn't flinching from tariffs even as markets tank.\", 'url': 'https://www.businessinsider.com/stock-market-trump-tariffs-trade-war-bond-market-yields-2025-3', 'urlToImage': 'https://i.insider.com/67a11f3d7bb3f854015b8da7?width=1200&format=jpeg', 'publishedAt': '2025-03-04T18:02:52Z', 'content': \"President Donald Trump isn't flinching from his sweeping tariff policy in the face of a brutal stock sell-off that has investors fleeing to safe havens this week.\\r\\nThe president plowed ahead with his… [+3233 chars]\"}, {'source': {'id': None, 'name': 'CNET'}, 'author': 'Mike Sorrentino', 'title': 'Nerf Loadout Lets You Customize Your Blaster Like a Video Game', 'description': 'The video game-inspired blaster line includes interchangeable parts, letting you build a Nerf blaster exactly as you want it.', 'url': 'https://www.cnet.com/pictures/nerf-loadout-lets-you-customize-your-blaster-like-a-video-game/', 'urlToImage': 'https://www.cnet.com/a/img/hub/2025/02/28/842211e0-8b26-4bca-84c8-7b366284d1df/nerf-loadout-arctic.jpg', 'publishedAt': '2025-03-01T13:00:02Z', 'content': 'The $50 Galactic Commander is the lead of the line, showcasing three firing modes (semi automatic, three-dart burst and automatic) along with attachments like a scope, clip storage stock and barrel a… [+9 chars]'}, {'source': {'id': None, 'name': 'Hackaday'}, 'author': 'Arya Voronova', 'title': 'The Bus Pirate 5 Sure Can Glitch', 'description': 'Own a Bus Pirate 5? Now, it can do power glitching, thanks to [Matt Brugman’s] demo and contributions to the stock code. This is also a great demo of Bus Pirate’s capabilities and progr…', 'url': 'https://hackaday.com/2025/03/01/the-bus-pirate-5-sure-can-glitch/', 'urlToImage': 'https://hackaday.com/wp-content/uploads/2025/02/hadimg_bp5_glitching_feat.png', 'publishedAt': '2025-03-02T00:00:14Z', 'content': 'Own a Bus Pirate 5? Now, it can do power glitching, thanks to [Matt Brugman’s] demo and contributions to the stock code. This is also a great demo of Bus Pirate’s capabilities and program-ability! Al… [+1093 chars]'}, {'source': {'id': None, 'name': 'Gizmodo.com'}, 'author': 'Kyle Barr', 'title': 'AMD Radeon RX 9070 XT Is So Good, It May Help You Forget About Multi-Frame Gen', 'description': \"At $600, AMD's Radeon RX 9070 XT is just where it needs to be to compete for 4K gaming against the Nvidia GeForce RTX 5070 Ti.\", 'url': 'https://gizmodo.com/amd-radeon-rx-9070-xt-is-so-good-it-may-help-you-forget-about-multi-frame-gen-2000571640', 'urlToImage': 'https://gizmodo.com/app/uploads/2025/03/AMD-Radeon-RX-9070-XT-7-2.jpg', 'publishedAt': '2025-03-05T14:00:07Z', 'content': 'How much do you need to spend to get the most out of your games at 4K? There’s no such thing as a true budget option, but the Radeon RX 9070 XT isat the momentyour best, most cost-effective recourse.… [+10830 chars]'}, {'source': {'id': 'abc-news', 'name': 'ABC News'}, 'author': 'Zunaira Zaki', 'title': 'US stock futures inch higher after selloff amid recession concerns', 'description': 'Dow futures traded up 156 points, or about 0.36%.', 'url': 'https://abcnews.go.com/US/us-stock-futures-inch-higher-after-selloff-amid/story?id=119661741', 'urlToImage': 'https://i.abcnewsfe.com/a/8d38a486-5547-4529-8d21-78fe17fa0b80/trader-main_1741692001758_hpMain_16x9.jpg?w=1600', 'publishedAt': '2025-03-11T11:23:40Z', 'content': 'U.S. stock futures traded slightly higher on Tuesday, following Monday\\'s major selloff as markets digested President Donald Trump\\'s comments that there would be a \"period of transition\" as the econom… [+1114 chars]'}, {'source': {'id': None, 'name': 'Yahoo Entertainment'}, 'author': 'editorial-team@simplywallst.com (Simply Wall St)', 'title': 'Top 3 Dividend Stocks To Enhance Your Portfolio', 'description': 'As the U.S. stock market grapples with volatility due to tariff concerns and recession fears, investors are increasingly seeking stability in their...', 'url': 'https://finance.yahoo.com/news/top-3-dividend-stocks-enhance-110143245.html', 'urlToImage': 'https://media.zenfs.com/en/simply_wall_st__316/4020998fe5d069537fb917fd739e4047', 'publishedAt': '2025-03-11T11:01:43Z', 'content': 'As the U.S. stock market grapples with volatility due to tariff concerns and recession fears, investors are increasingly seeking stability in their portfolios. In such uncertain times, dividend stock… [+5727 chars]'}, {'source': {'id': None, 'name': 'Yahoo Entertainment'}, 'author': 'Swayta Shah', 'title': 'Is Ares Capital Stock Worth Buying to Earn 8.25% Dividend Yield?', 'description': \"ARCC's attractive dividend yield of 8.25% is impressive. Is the stock worth betting on to earn this dividend yield? Let's find out.\", 'url': 'https://finance.yahoo.com/news/ares-capital-stock-worth-buying-200000011.html', 'urlToImage': 'https://media.zenfs.com/en/zacks.com/d3e6082245f05efd98282f79c39d114d', 'publishedAt': '2025-02-25T20:00:00Z', 'content': 'Ares Capital Corporation ARCC, a business development company or BDC boasting an impressive dividend yield of 8.25%, is drawing the attention of income investors. Being a BDC and maintaining its regu… [+5057 chars]'}, {'source': {'id': None, 'name': 'Yahoo Entertainment'}, 'author': None, 'title': 'Is Pfizer Inc. (PFE) The Best Cheap Dividend Stock To Buy Right Now?', 'description': None, 'url': 'https://consent.yahoo.com/v2/collectConsent?sessionId=1_cc-session_1a00751a-e505-4f06-8d02-157214eaad09', 'urlToImage': None, 'publishedAt': '2025-03-08T19:19:53Z', 'content': \"If you click 'Accept all', we and our partners, including 238 who are part of the IAB Transparency &amp; Consent Framework, will also store and/or access information on a device (in other words, use … [+702 chars]\"}, {'source': {'id': None, 'name': 'Yahoo Entertainment'}, 'author': None, 'title': 'Is Adobe Inc. (ADBE) the Most Undervalued High Quality Stock to Buy According to Analysts?', 'description': None, 'url': 'https://consent.yahoo.com/v2/collectConsent?sessionId=1_cc-session_5e09bf85-4987-42b9-b6a5-d27f833d7c95', 'urlToImage': None, 'publishedAt': '2025-03-08T18:58:51Z', 'content': \"If you click 'Accept all', we and our partners, including 238 who are part of the IAB Transparency &amp; Consent Framework, will also store and/or access information on a device (in other words, use … [+702 chars]\"}, {'source': {'id': None, 'name': 'Yahoo Entertainment'}, 'author': None, 'title': 'Tesla stock bleeds, recession fears — and Bitcoin $200,000: Markets news roundup', 'description': None, 'url': 'https://consent.yahoo.com/v2/collectConsent?sessionId=1_cc-session_727f1cc2-6c7b-4c70-af7c-70304b3d6233', 'urlToImage': None, 'publishedAt': '2025-03-15T13:00:00Z', 'content': \"If you click 'Accept all', we and our partners, including 238 who are part of the IAB Transparency &amp; Consent Framework, will also store and/or access information on a device (in other words, use … [+702 chars]\"}, {'source': {'id': None, 'name': 'Yahoo Entertainment'}, 'author': None, 'title': \"Nvidia's Next AI Boom? Wall Street Thinks This Stock Is About to Explode\", 'description': None, 'url': 'https://consent.yahoo.com/v2/collectConsent?sessionId=1_cc-session_7e37d969-971c-4857-95fa-29bd025bda3f', 'urlToImage': None, 'publishedAt': '2025-02-25T16:33:23Z', 'content': \"If you click 'Accept all', we and our partners, including 238 who are part of the IAB Transparency &amp; Consent Framework, will also store and/or access information on a device (in other words, use … [+702 chars]\"}, {'source': {'id': None, 'name': 'Yahoo Entertainment'}, 'author': None, 'title': 'Is Exxon Mobil (XOM) the Most Undervalued S&P 500 Stock to Buy Now?', 'description': None, 'url': 'https://consent.yahoo.com/v2/collectConsent?sessionId=1_cc-session_aac97470-2f05-44af-b5d2-f2fafb644759', 'urlToImage': None, 'publishedAt': '2025-03-17T18:02:40Z', 'content': \"If you click 'Accept all', we and our partners, including 238 who are part of the IAB Transparency &amp; Consent Framework, will also store and/or access information on a device (in other words, use … [+702 chars]\"}, {'source': {'id': None, 'name': 'Yahoo Entertainment'}, 'author': None, 'title': 'Tesla beware: Rival BYD unveils ultra-fast chargers, giving its stock a jolt', 'description': None, 'url': 'https://consent.yahoo.com/v2/collectConsent?sessionId=1_cc-session_51243a8f-df83-44e0-9edc-7d2a6a190bab', 'urlToImage': None, 'publishedAt': '2025-03-17T20:03:00Z', 'content': \"If you click 'Accept all', we and our partners, including 238 who are part of the IAB Transparency &amp; Consent Framework, will also store and/or access information on a device (in other words, use … [+702 chars]\"}, {'source': {'id': None, 'name': 'Yahoo Entertainment'}, 'author': None, 'title': 'Is Shell plc (SHEL) The Best Energy Stock to Buy According to Billionaire Ken Fisher?', 'description': None, 'url': 'https://consent.yahoo.com/v2/collectConsent?sessionId=1_cc-session_263eeb7d-3475-4d99-9415-a7102e82c4e1', 'urlToImage': None, 'publishedAt': '2025-03-21T14:06:13Z', 'content': \"If you click 'Accept all', we and our partners, including 239 who are part of the IAB Transparency &amp; Consent Framework, will also store and/or access information on a device (in other words, use … [+702 chars]\"}, {'source': {'id': None, 'name': 'Yahoo Entertainment'}, 'author': None, 'title': \"Dividend Investor Earning $9,400 a Month Shares Top 8 Stock Picks — 'I'm 6 Years From Retirement'\", 'description': None, 'url': 'https://consent.yahoo.com/v2/collectConsent?sessionId=1_cc-session_37da90f8-6dc7-45b4-9e54-ec4e5cdc2269', 'urlToImage': None, 'publishedAt': '2025-03-19T17:07:32Z', 'content': \"If you click 'Accept all', we and our partners, including 239 who are part of the IAB Transparency &amp; Consent Framework, will also store and/or access information on a device (in other words, use … [+702 chars]\"}, {'source': {'id': None, 'name': 'Yahoo Entertainment'}, 'author': 'Avi Kapoor', 'title': 'How To Earn $500 A Month From Best Buy Stock Ahead Of Q4 Earnings', 'description': 'Best Buy Co., Inc. (NYSE:BBY) will release its fourth-quarter financial results, before the opening bell, on Tuesday, March 4. Analysts expect the Richfield,...', 'url': 'https://finance.yahoo.com/news/earn-500-month-best-buy-134511013.html', 'urlToImage': 'https://media.zenfs.com/en/Benzinga/38331f08ac492097cbea02aa5501f069', 'publishedAt': '2025-03-03T13:45:11Z', 'content': 'Best Buy Co., Inc. (NYSE:BBY) will release its fourth-quarter financial results, before the opening bell, on Tuesday, March 4.\\r\\nAnalysts expect the Richfield, Minnesota-based company to report quarte… [+2476 chars]'}, {'source': {'id': None, 'name': 'Yahoo Entertainment'}, 'author': None, 'title': 'Archer Aviation stock takes off on new Abu Dhabi air taxi deal', 'description': None, 'url': 'https://consent.yahoo.com/v2/collectConsent?sessionId=1_cc-session_ae8fe17e-715e-4c14-9665-a52ec15e0f3a', 'urlToImage': None, 'publishedAt': '2025-02-28T20:56:39Z', 'content': \"If you click 'Accept all', we and our partners, including 238 who are part of the IAB Transparency &amp; Consent Framework, will also store and/or access information on a device (in other words, use … [+702 chars]\"}, {'source': {'id': None, 'name': 'Yahoo Entertainment'}, 'author': 'Bob Karr', 'title': 'Is Taiwan Semiconductor Manufacturing Company Limited\\xa0(TSM) the Tech Stock with High Upside Potential?', 'description': 'We recently published a list of 10 Tech Stocks with High Upside Potential. In this article, we are going to take a look at where Taiwan Semiconductor...', 'url': 'https://finance.yahoo.com/news/taiwan-semiconductor-manufacturing-company-limited-161934574.html', 'urlToImage': 'https://s.yimg.com/ny/api/res/1.2/NNwY.gZByHpNCeRTqa8TTw--/YXBwaWQ9aGlnaGxhbmRlcjt3PTEyMDA7aD02NzM-/https://media.zenfs.com/en/insidermonkey.com/f90919c411d1aa5d89e5e74b1fb5e45e', 'publishedAt': '2025-03-03T16:19:34Z', 'content': 'We recently published a list of 10 Tech Stocks with High Upside Potential. In this article, we are going to take a look at where Taiwan Semiconductor Manufacturing Company Limited\\xa0(NYSE:TSM) stands a… [+6565 chars]'}, {'source': {'id': None, 'name': 'Yahoo Entertainment'}, 'author': None, 'title': 'U.S. stock market crash: Make sure you buy some of these quality stocks', 'description': None, 'url': 'https://consent.yahoo.com/v2/collectConsent?sessionId=1_cc-session_333ec807-d9dc-4797-b282-cc59c2b12f3b', 'urlToImage': None, 'publishedAt': '2025-03-11T12:34:59Z', 'content': \"If you click 'Accept all', we and our partners, including 238 who are part of the IAB Transparency &amp; Consent Framework, will also store and/or access information on a device (in other words, use … [+702 chars]\"}, {'source': {'id': None, 'name': 'Yahoo Entertainment'}, 'author': None, 'title': 'Will Intel Xeon 6 Processors Act as a Magic Wand for INTC Stock?', 'description': None, 'url': 'https://consent.yahoo.com/v2/collectConsent?sessionId=1_cc-session_219c555c-f325-4c01-b6f3-2c477b43e5b0', 'urlToImage': None, 'publishedAt': '2025-03-07T13:54:00Z', 'content': \"If you click 'Accept all', we and our partners, including 238 who are part of the IAB Transparency &amp; Consent Framework, will also store and/or access information on a device (in other words, use … [+702 chars]\"}, {'source': {'id': None, 'name': 'Yahoo Entertainment'}, 'author': 'Vardah Gill', 'title': 'Merck & Co., Inc. (MRK) Among The Best Cheap Dividend Stock To Buy Right Now', 'description': 'We recently published a list of 13 Best Cheap Dividend Stocks To Buy Right Now. In this article, we are going to take a look at where Merck & Co., Inc...', 'url': 'https://finance.yahoo.com/news/merck-co-inc-mrk-among-205258811.html', 'urlToImage': 'https://s.yimg.com/ny/api/res/1.2/krpa0cobX2AdeFb7DJ59pg--/YXBwaWQ9aGlnaGxhbmRlcjt3PTEyMDA7aD02NzM-/https://media.zenfs.com/en/insidermonkey.com/3c1e6d485df373db04a8fd19fdaf6c3a', 'publishedAt': '2025-03-08T20:52:58Z', 'content': 'We recently published a list of 13 Best Cheap Dividend Stocks To Buy Right Now. In this article, we are going to take a look at where Merck &amp; Co., Inc. (NYSE:MRK) stands against other best cheap … [+7514 chars]'}, {'source': {'id': None, 'name': 'Yahoo Entertainment'}, 'author': 'Madison Mills', 'title': 'This is the Magnificent 7 stock to buy on the dip, strategist says', 'description': 'The \"Magnificent Seven\" stocks haven\\'t been immune to the overall market decline. BMO Capital Markets Chief investment Strategist Brian Belski says there\\'s...', 'url': 'https://finance.yahoo.com/video/magnificent-7-stock-buy-dip-202944833.html', 'urlToImage': 'https://s.yimg.com/ny/api/res/1.2/zE_qf0_n55.irIVpKXNcEQ--/YXBwaWQ9aGlnaGxhbmRlcjt3PTEyMDA7aD02NzY-/https://s.yimg.com/os/creatr-uploaded-images/2025-03/a2d7b4d0-0112-11f0-bfff-4cc371c2a1cf', 'publishedAt': '2025-03-14T20:29:44Z', 'content': 'The \"Magnificent Seven\" stocks haven\\'t been immune to the overall market decline. BMO Capital Markets Chief investment Strategist Brian Belski says there\\'s one Mag 7 stock he would buy on the dip. Fi… [+140 chars]'}, {'source': {'id': None, 'name': 'Yahoo Entertainment'}, 'author': None, 'title': 'Boeing Stock Surges on Japan Airlines Order, CFO Comments on Tariffs, Cash Burn', 'description': None, 'url': 'https://consent.yahoo.com/v2/collectConsent?sessionId=1_cc-session_370982a1-7b32-4dfa-b405-0ffb24f5fe2a', 'urlToImage': None, 'publishedAt': '2025-03-19T16:33:18Z', 'content': \"If you click 'Accept all', we and our partners, including 238 who are part of the IAB Transparency &amp; Consent Framework, will also store and/or access information on a device (in other words, use … [+702 chars]\"}, {'source': {'id': None, 'name': 'Gizmodo.com'}, 'author': 'Matt Novak', 'title': 'How to Find Your Local Protest Against Elon Musk', 'description': 'Many Americans are expressing their displeasure with the oligarch.', 'url': 'https://gizmodo.com/how-to-find-your-local-protest-against-elon-musk-2000570035', 'urlToImage': 'https://gizmodo.com/app/uploads/2025/02/Elon-Musk-protest-Feb-27-2025-.jpg', 'publishedAt': '2025-02-28T18:45:11Z', 'content': 'Elon Musk has spent the past month destroying the U.S. federal government with his team of DOGE goons, taking a chainsaw to USAID, NOAA, Social Security, and countless other vital agencies. And while… [+3821 chars]'}, {'source': {'id': None, 'name': 'Gizmodo.com'}, 'author': 'James Whitbrook and Gordon Jackson', 'title': 'You’ll Be Waiting a Little Longer for That Lord of the Rings Gollum Movie', 'description': \"Plus, Kingpin's ready to stamp out vigilantes for good in a new spot for Daredevil: Born Again.\", 'url': 'https://gizmodo.com/lord-of-the-rings-gollum-movie-delay-andy-serkis-2000569532', 'urlToImage': 'https://gizmodo.com/app/uploads/2025/02/MS-0228-Lord-of-the-Rings-Gollum.jpg', 'publishedAt': '2025-02-28T14:00:35Z', 'content': 'Death of a Unicorn‘s new trailer amps up the action. Terrifier‘s David Howard Thornton becomes Mickey Mouse in yet another\\xa0Steamboat Willie horror tale. Plus, see Kelly Marie Tran take on a horrifyin… [+2247 chars]'}, {'source': {'id': 'business-insider', 'name': 'Business Insider'}, 'author': 'aaltchek@insider.com (Ana Altchek)', 'title': \"It's crunch time for Tesla\", 'description': 'Tesla\\'s lower-cost vehicle is supposed to begin production by June at the latest. Analysts tell BI the launch is \"crucial\" and a \"necessity.\"', 'url': 'https://www.businessinsider.com/tesla-low-cost-cheaper-car-production-deadline-2025-3', 'urlToImage': 'https://i.insider.com/67cf5fc7b8b41a9673fa3983?width=1200&format=jpeg', 'publishedAt': '2025-03-11T09:00:02Z', 'content': 'Time is ticking for Tesla\\'s promised lower-cost vehicle.\\r\\nThe electric car giant said in its most recent earnings call earlier this year that production for the long-awaited \"more affordable\" Tesla w… [+3181 chars]'}, {'source': {'id': 'time', 'name': 'Time'}, 'author': 'Philip Elliott', 'title': 'As Schumer’s Stock Falls, Here’s Who’s Vying to Lead Democrats Against Trump', 'description': \"From Tim Walz to Gavin Newsom to AOC, prominent Democrats are trying to tap into voters' interest in fighting Donald Trump and Elon Musk.\", 'url': 'https://time.com/7269584/democrats-schumer-tim-walz-aoc/', 'urlToImage': 'https://api.time.com/wp-content/uploads/2025/03/who-should-lead-democrats.png?w=1200&h=628&crop=1', 'publishedAt': '2025-03-19T20:17:57Z', 'content': 'This article is part of The D.C. Brief, TIMEs politics newsletter. Sign up here to get stories like this sent to your inbox.\\r\\nIts never been more clear that the Democratic Partyboth activist and rank… [+7143 chars]'}, {'source': {'id': None, 'name': 'BBC News'}, 'author': None, 'title': \"'I'm not tech-savvy - but within hours I could buy an illegal knife on social media'\", 'description': 'Posing as an 18-year-old, BBC reporter Ruth Green quickly finds groups selling weapons openly.', 'url': 'https://www.bbc.com/news/articles/cgm18g19013o', 'urlToImage': 'https://ichef.bbci.co.uk/news/1024/branded_news/ec92/live/9cdd25e0-f6bf-11ef-9e61-71ee71f26eb1.jpg', 'publishedAt': '2025-03-02T00:42:23Z', 'content': \"I'm 48, use social media occasionally, and I'm not very tech-savvy. Until recently I'd never used Telegram.\\r\\nBut last year, after meeting the family of Ronan Kanda - the 16-year-old who was killed in… [+6725 chars]\"}, {'source': {'id': 'abc-news', 'name': 'ABC News'}, 'author': 'Max Zahn', 'title': 'Fresh jobs report to offer snapshot of US economy under Trump', 'description': 'The latest figures arrive at a turbulent moment for the stock market and U.S. trade relations.', 'url': 'https://abcnews.go.com/Business/fresh-jobs-report-offer-snapshot-us-economy-trump/story?id=119506893', 'urlToImage': 'https://i.abcnewsfe.com/a/4013594c-8e46-4fe0-ac73-038e1b0c8231/baristas-gty-jt-250306_1741300296032_hpMain_16x9.jpg?w=1600', 'publishedAt': '2025-03-07T10:38:09Z', 'content': 'A fresh jobs report to be released on Friday will offer a snapshot of U.S. economic performance over the first full month under President Donald Trump.\\r\\nEconomists expect employers to have hired 170,… [+2352 chars]'}, {'source': {'id': 'business-insider', 'name': 'Business Insider'}, 'author': 'Ana Altchek', 'title': 'Add Australia to the list of countries where Tesla sales are sliding', 'description': 'Tesla sales dropped 71% year over year in Australia in February, joining a number of recent countries with slumping Tesla sales.', 'url': 'https://www.businessinsider.com/tesla-sales-fall-australia-elon-musk-protests-2025-3', 'urlToImage': 'https://i.insider.com/67d1a581585f1dff88b1e350?width=1200&format=jpeg', 'publishedAt': '2025-03-12T17:54:07Z', 'content': 'Elon Musk is CEO of Tesla.Kayla Bartkowski/Getty Images\\r\\n<ul><li>Tesla sales in Australia fell 71% in February compared with the same month last year.</li><li>The drop comes as the country also exper… [+2156 chars]'}, {'source': {'id': None, 'name': 'Gizmodo.com'}, 'author': 'Thomas Maxwell', 'title': 'Roomba-Maker Warns Investors It Could Die, Stock Craters', 'description': 'The early innovator in robot vacuums has in recent years seen its lead eaten away by competitors.', 'url': 'https://gizmodo.com/roomba-maker-warns-investors-it-could-die-stock-craters-2000574985', 'urlToImage': 'https://gizmodo.com/app/uploads/2025/02/Roomba.jpg', 'publishedAt': '2025-03-12T16:00:08Z', 'content': 'iRobot’s stock fell nearly 40% early Wednesday after the maker of robot vacuums told investors that it has “substantial doubt about the companys ability to continue.” Sales were down 44% in the last … [+2541 chars]'}, {'source': {'id': None, 'name': 'Yahoo Entertainment'}, 'author': None, 'title': \"Marjorie Taylor Greene Wants Tesla Protests Investigated, Presumably Because They're Hurting The Value Of Her Tesla Stock\", 'description': None, 'url': 'https://consent.yahoo.com/v2/collectConsent?sessionId=1_cc-session_047f1e09-477d-4813-93a6-36794d69b3f0', 'urlToImage': None, 'publishedAt': '2025-03-13T22:06:00Z', 'content': \"If you click 'Accept all', we and our partners, including 238 who are part of the IAB Transparency &amp; Consent Framework, will also store and/or access information on a device (in other words, use … [+702 chars]\"}, {'source': {'id': None, 'name': 'Yahoo Entertainment'}, 'author': None, 'title': 'Stock market today: Asian shares sag as worries over US-China trade weigh on outlook for the region', 'description': None, 'url': 'https://consent.yahoo.com/v2/collectConsent?sessionId=1_cc-session_b4ff9956-f6a7-4c84-a3b7-db96babb4d3f', 'urlToImage': None, 'publishedAt': '2025-02-25T04:58:32Z', 'content': \"If you click 'Accept all', we and our partners, including 238 who are part of the IAB Transparency &amp; Consent Framework, will also store and/or access information on a device (in other words, use … [+702 chars]\"}, {'source': {'id': None, 'name': 'Yahoo Entertainment'}, 'author': None, 'title': \"It's Been 25 Years Since Plug Power Stock Set Its All-Time High. Here's 1 Reason to Buy Today.\", 'description': None, 'url': 'https://consent.yahoo.com/v2/collectConsent?sessionId=1_cc-session_a8f153e7-0924-4ddf-9c7e-76bb10c98632', 'urlToImage': None, 'publishedAt': '2025-03-21T12:15:00Z', 'content': \"If you click 'Accept all', we and our partners, including 239 who are part of the IAB Transparency &amp; Consent Framework, will also store and/or access information on a device (in other words, use … [+702 chars]\"}, {'source': {'id': None, 'name': 'Yahoo Entertainment'}, 'author': None, 'title': 'This Ultra-High Dividend Stock Is Approaching an 8% Yield: Does That Make It a Buy Right Now?', 'description': None, 'url': 'https://consent.yahoo.com/v2/collectConsent?sessionId=1_cc-session_2aee6a86-9140-4c2f-bc49-ed03768a1689', 'urlToImage': None, 'publishedAt': '2025-03-02T10:45:00Z', 'content': \"If you click 'Accept all', we and our partners, including 238 who are part of the IAB Transparency &amp; Consent Framework, will also store and/or access information on a device (in other words, use … [+702 chars]\"}, {'source': {'id': None, 'name': 'Yahoo Entertainment'}, 'author': None, 'title': 'Nasdaq Correction: 1 Unstoppable Stock to Buy Before It Soars 600%, According to 1 Wall Street Analyst', 'description': None, 'url': 'https://consent.yahoo.com/v2/collectConsent?sessionId=1_cc-session_09406eef-fc50-4e23-8cbf-d0d44e279178', 'urlToImage': None, 'publishedAt': '2025-03-10T19:50:00Z', 'content': \"If you click 'Accept all', we and our partners, including 238 who are part of the IAB Transparency &amp; Consent Framework, will also store and/or access information on a device (in other words, use … [+702 chars]\"}, {'source': {'id': None, 'name': 'Yahoo Entertainment'}, 'author': None, 'title': 'Nasdaq Correction: Why I Took Advantage of a 20% Sell-Off to Buy More of This \"Magnificent Seven\" Stock.', 'description': None, 'url': 'https://consent.yahoo.com/v2/collectConsent?sessionId=1_cc-session_3fee2073-a6c0-43b8-bdaf-3e87af3db61b', 'urlToImage': None, 'publishedAt': '2025-03-11T19:26:00Z', 'content': \"If you click 'Accept all', we and our partners, including 238 who are part of the IAB Transparency &amp; Consent Framework, will also store and/or access information on a device (in other words, use … [+702 chars]\"}, {'source': {'id': None, 'name': 'Yahoo Entertainment'}, 'author': None, 'title': 'Warren Buffett Owns $29 Billion of This Top Dividend Stock: Could It Make You a Millionaire One Day?', 'description': None, 'url': 'https://consent.yahoo.com/v2/collectConsent?sessionId=1_cc-session_41847439-1ce7-40ed-8267-01e12afa783a', 'urlToImage': None, 'publishedAt': '2025-03-07T13:00:00Z', 'content': \"If you click 'Accept all', we and our partners, including 238 who are part of the IAB Transparency &amp; Consent Framework, will also store and/or access information on a device (in other words, use … [+702 chars]\"}, {'source': {'id': None, 'name': 'Yahoo Entertainment'}, 'author': None, 'title': 'Stock Market Correction: Here Are My Top 5 Stocks That Could Soar By The End of 2025', 'description': None, 'url': 'https://consent.yahoo.com/v2/collectConsent?sessionId=1_cc-session_1160fa34-dacc-415e-9a8a-d1f94f5a1c7e', 'urlToImage': None, 'publishedAt': '2025-03-21T11:45:00Z', 'content': \"If you click 'Accept all', we and our partners, including 239 who are part of the IAB Transparency &amp; Consent Framework, will also store and/or access information on a device (in other words, use … [+702 chars]\"}, {'source': {'id': 'business-insider', 'name': 'Business Insider'}, 'author': 'Dominick Reuter', 'title': \"FedEx warns of 'continued weakness and uncertainty' in the US industrial economy\", 'description': 'FedEx revised its outlook downward saying that soft demand from business customers is likely to hamper earnings this year.', 'url': 'https://www.businessinsider.com/fedex-warns-of-weakness-and-uncertainty-in-us-industrial-economy-2025-3', 'urlToImage': 'https://i.insider.com/67dc94ad69253ccddf99e60b?width=1200&format=jpeg', 'publishedAt': '2025-03-20T22:53:05Z', 'content': 'FedEx revised its outlook downward saying that soft demand from business customers is likely to hamper earnings this year.Etienne DE MALGLAIVE/Getty Images\\r\\n<ul><li>FedEx revised its outlook downward… [+1775 chars]'}, {'source': {'id': 'business-insider', 'name': 'Business Insider'}, 'author': 'Grace Kay', 'title': 'Tesla springs last-minute public all hands on staffers, confusion ensues', 'description': 'Tesla notified employees of an all-hands shortly before the event, according to a memo viewed by Business Insider.', 'url': 'https://www.businessinsider.com/tesla-springs-last-minute-public-all-hands-on-staffers-2025-3', 'urlToImage': 'https://i.insider.com/67dcc39b63d72727e197d9bb?width=1200&format=jpeg', 'publishedAt': '2025-03-21T01:45:25Z', 'content': 'Tesla announced an all-hands meeting with short notice, causing employee confusion.Frederic J. Brown/AFP via Getty Images\\r\\n<ul><li>Tesla announced an all-hands meeting with short notice, causing some… [+1640 chars]'}, {'source': {'id': None, 'name': 'Yahoo Entertainment'}, 'author': None, 'title': 'Is Nvidia Stock a Buy Now?', 'description': None, 'url': 'https://consent.yahoo.com/v2/collectConsent?sessionId=1_cc-session_cea444cd-9b84-452f-b18b-8aa4ae662589', 'urlToImage': None, 'publishedAt': '2025-03-02T11:45:00Z', 'content': \"If you click 'Accept all', we and our partners, including 238 who are part of the IAB Transparency &amp; Consent Framework, will also store and/or access information on a device (in other words, use … [+702 chars]\"}, {'source': {'id': None, 'name': 'CNET'}, 'author': 'Omar Gallaga', 'title': \"China's BYD Claims 5-Minute EV Battery Charge Gives 250 Miles of Range\", 'description': 'An apparent battery breakthrough could be good news for the EV industry from a Chinese company that previously pledged to work with Tesla.', 'url': 'https://www.cnet.com/home/electric-vehicles/chinas-byd-claims-5-minute-ev-battery-charging-gives-250-miles-of-range/', 'urlToImage': 'https://www.cnet.com/a/img/resize/f183835b97e257af64efb187474d782c5614fac4/hub/2025/03/18/448efd44-d3c0-426b-aad7-314fca5b446f/gettyimages-2153819146.jpg?auto=webp&fit=crop&height=675&width=1200', 'publishedAt': '2025-03-18T15:03:00Z', 'content': 'Chinese auto manufacturer BYD says it has developed technology that speeds up electric vehicle battery charging to as little as five minutes at 1,000 kilowatts, providing enough energy for nearly 250… [+684 chars]'}, {'source': {'id': None, 'name': 'Gizmodo.com'}, 'author': 'AJ Dellinger', 'title': 'Trump Family’s DeFi Project Stocked Up on Crypto Assets Ahead of White House Crypto Summit', 'description': 'Surely this is all on the level.', 'url': 'https://gizmodo.com/trump-familys-defi-project-stocked-up-on-crypto-assets-ahead-of-white-house-crypto-summit-2000572583', 'urlToImage': 'https://gizmodo.com/app/uploads/2024/11/GettyImages-2163296066.jpg', 'publishedAt': '2025-03-06T19:20:12Z', 'content': 'Say what you will about the Department of Government Efficiency, but there are some ways that the Trump administration has significantly cut down on bloat. For example, it used to take at least a lit… [+2747 chars]'}, {'source': {'id': None, 'name': 'Gizmodo.com'}, 'author': 'Thomas Maxwell', 'title': 'Meta Is Ready to Rock Nvidia’s Boat With Its In-House AI Chip', 'description': \"Gradually, then suddenly, the big tech companies are replacing Nvidia's pricey AI chips.\", 'url': 'https://gizmodo.com/meta-is-ready-to-rock-nvidias-boat-with-its-in-house-ai-chip-2000574428', 'urlToImage': 'https://gizmodo.com/app/uploads/2025/03/GettyImages-1693798374.jpg', 'publishedAt': '2025-03-11T17:00:59Z', 'content': 'The adage goes, “your arbitrage is my opportunity,” and could be used to sum up Meta’s push into building an in-house chip for AI training tasks. Reutersreports the company recently began a small dep… [+3250 chars]'}, {'source': {'id': None, 'name': 'Gizmodo.com'}, 'author': 'Thomas Maxwell', 'title': 'Intel Delays Ohio Semiconductor Factory to 2030, Maybe 2031', 'description': 'After years of decline, the once-great Silicon Valley icon is reportedly considering a plan to split itself apart.', 'url': 'https://gizmodo.com/intel-delays-ohio-semiconductor-factory-to-2030-maybe-2031-2000570189', 'urlToImage': 'https://gizmodo.com/app/uploads/2024/09/intel-core-ultra-series-2-2-1024x683.png', 'publishedAt': '2025-03-01T12:00:30Z', 'content': 'There has been little good news to come out of Intel in recent memory, and now the storied chipmaker has announced it will postpone the opening of a new Ohio semiconductor factory that was originally… [+3097 chars]'}, {'source': {'id': 'abc-news', 'name': 'ABC News'}, 'author': \"Jay O'Brien, John Parkinson, Lauren Peller, Arthur Jones II\", 'title': 'Johnson, House GOP dismiss market turmoil in defending Trump tariff policies', 'description': \"House Speaker Mike Johnson and other Republicans are dismissing stock market turmoil and recession concerns as they defend President Donald Trump's tariff policies.\", 'url': 'https://abcnews.go.com/Politics/johnson-house-gop-dismiss-market-turmoil-defend-trump/story?id=119678617', 'urlToImage': 'https://i.abcnewsfe.com/a/7b3180cc-4d71-424e-9210-521d62a68ee6/mike-johnson-9-gty-gmh-250311_1741709007526_hpMain_16x9.jpg?w=1600', 'publishedAt': '2025-03-11T20:32:47Z', 'content': 'House Speaker Mike Johnson and other Republicans are dismissing stock market turmoil and recession concerns as they defend President Donald Trump\\'s tariff policies.\\r\\n\"It is a shake-up and he said the… [+4358 chars]'}, {'source': {'id': 'abc-news', 'name': 'ABC News'}, 'author': 'John Parkinson', 'title': 'Rep. Ro Khanna eyes anti-corruption agenda amid criticism of Democratic Party', 'description': \"California Rep. Ro Khanna is not only taking stock of the Democrats' stinging defeat last fall, but also taking shots at his own political party.\", 'url': 'https://abcnews.go.com/Politics/rep-ro-khanna-eyes-anti-corruption-agenda-amid/story?id=119637137', 'urlToImage': 'https://i.abcnewsfe.com/a/f9b54fb8-c52c-4860-999b-41083a7f0660/ro-gty-er-250310_1741636068325_hpMain_16x9.jpg?w=1600', 'publishedAt': '2025-03-10T20:36:59Z', 'content': 'As Democrats attempt to rebound from an underwhelming showing in the 2024 election, California Democratic Rep. Ro Khanna is not only taking stock of the stinging defeat last fall, but also taking sho… [+4624 chars]'}, {'source': {'id': 'abc-news', 'name': 'ABC News'}, 'author': 'Zunaira Zaki', 'title': 'Stock futures even Thursday amid trade war and looming government shutdown', 'description': \"Stocks futures were again showing jitters early Thursday, after a reprieve for the S&P and NASDAQ on Wednesday amid President Donald Trump's trade war.\", 'url': 'https://abcnews.go.com/Business/stock-futures-thursday-trump-trade-war-wall-street/story?id=119745099', 'urlToImage': 'https://i.abcnewsfe.com/a/ce27bb94-c9c6-4c09-ab1f-a57f22c38ffa/dow-main_1741862318448_hpMain_16x9.jpg?w=1600', 'publishedAt': '2025-03-13T11:11:55Z', 'content': \"Stocks futures were again showing jitters early Thursday, after a reprieve for the S&amp;P and NASDAQ on Wednesday amid President Donald Trump's trade war.\\r\\nA back-and-forth over internationaltariffs… [+971 chars]\"}]}\n"
     ]
    }
   ],
   "source": [
    "import os\n",
    "import requests \n",
    "\n",
    "API_KEY = os.getenv(\"NEWS_API_KEY\")  # Fetch from environment variable\n",
    "url = f\"https://newsapi.org/v2/everything?q=stock&apiKey={API_KEY}\"\n",
    "\n",
    "response = requests.get(url).json()\n",
    "print(response)\n"
   ]
  },
  {
   "cell_type": "code",
   "execution_count": 19,
   "id": "e088f448-ab90-4c92-b030-32d4a47cc869",
   "metadata": {},
   "outputs": [
    {
     "name": "stderr",
     "output_type": "stream",
     "text": [
      "C:\\Users\\NP.MOHSENPAK\\AppData\\Local\\Temp\\ipykernel_28324\\2125908355.py:23: FutureWarning: A value is trying to be set on a copy of a DataFrame or Series through chained assignment using an inplace method.\n",
      "The behavior will change in pandas 3.0. This inplace method will never work because the intermediate object on which we are setting values always behaves as a copy.\n",
      "\n",
      "For example, when doing 'df[col].method(value, inplace=True)', try using 'df.method({col: value}, inplace=True)' or df[col] = df[col].method(value) instead, to perform the operation inplace on the original object.\n",
      "\n",
      "\n",
      "  df_news[\"title\"].fillna(\"No title\", inplace=True)\n",
      "C:\\Users\\NP.MOHSENPAK\\AppData\\Local\\Temp\\ipykernel_28324\\2125908355.py:24: FutureWarning: A value is trying to be set on a copy of a DataFrame or Series through chained assignment using an inplace method.\n",
      "The behavior will change in pandas 3.0. This inplace method will never work because the intermediate object on which we are setting values always behaves as a copy.\n",
      "\n",
      "For example, when doing 'df[col].method(value, inplace=True)', try using 'df.method({col: value}, inplace=True)' or df[col] = df[col].method(value) instead, to perform the operation inplace on the original object.\n",
      "\n",
      "\n",
      "  df_news[\"description\"].fillna(\"No description\", inplace=True)\n"
     ]
    },
    {
     "name": "stdout",
     "output_type": "stream",
     "text": [
      "                publishedAt  \\\n",
      "0 2025-03-12 10:00:00+00:00   \n",
      "1 2025-03-18 16:20:34+00:00   \n",
      "2 2025-03-11 20:41:25+00:00   \n",
      "3 2025-02-22 12:15:29+00:00   \n",
      "4 2025-03-06 21:20:26+00:00   \n",
      "\n",
      "                                               title  \\\n",
      "0  chinese companies rush to put deepseek in ever...   \n",
      "1  tesla hate is making insurance more expensive ...   \n",
      "2  nvidias rtx 5060 and 5060 ti gpus may arrive r...   \n",
      "3  the galaxy s25 ultra is now 70 off samsung is ...   \n",
      "4  amazon offers a selfheating coffee mug at an a...   \n",
      "\n",
      "                                         description  \\\n",
      "0  from video game developers to a nuclear power ...   \n",
      "1  as stock slumps and americans turn against the...   \n",
      "2  take your bets whether youll be able to find n...   \n",
      "3  samsungs latest deal on its website makes the ...   \n",
      "4  your cup of joe can remain eternally hot with ...   \n",
      "\n",
      "                                                 url  \n",
      "0  https://www.wired.com/story/deepseek-china-nat...  \n",
      "1  https://gizmodo.com/tesla-hate-is-making-insur...  \n",
      "2  https://gizmodo.com/nvidias-rtx-5060-and-5060-...  \n",
      "3  https://gizmodo.com/the-galaxy-s25-ultra-is-no...  \n",
      "4  https://gizmodo.com/amazon-offers-a-self-heati...  \n",
      "Financial news cleaned and saved to AWS RDS PostgreSQL successfully!\n"
     ]
    }
   ],
   "source": [
    "import os\n",
    "import requests\n",
    "import pandas as pd\n",
    "from sqlalchemy import create_engine\n",
    "\n",
    "# Fetch API Key from environment variables\n",
    "API_KEY = os.getenv(\"NEWS_API_KEY\")\n",
    "\n",
    "# Fetch financial news from NewsAPI\n",
    "url = f\"https://newsapi.org/v2/everything?q=stock&apiKey={API_KEY}\"\n",
    "response = requests.get(url).json()\n",
    "\n",
    "# Extract relevant fields from the response\n",
    "articles = response.get(\"articles\", [])\n",
    "\n",
    "# Convert to DataFrame\n",
    "df_news = pd.DataFrame(articles)[[\"publishedAt\", \"title\", \"description\", \"url\"]]\n",
    "\n",
    "# 1️⃣ Convert `publishedAt` to datetime format\n",
    "df_news[\"publishedAt\"] = pd.to_datetime(df_news[\"publishedAt\"], errors='coerce')\n",
    "\n",
    "# 2️⃣ Handle missing values\n",
    "df_news[\"title\"].fillna(\"No title\", inplace=True)\n",
    "df_news[\"description\"].fillna(\"No description\", inplace=True)\n",
    "\n",
    "# 3️⃣ Remove duplicate articles (based on title & description)\n",
    "df_news.drop_duplicates(subset=[\"title\", \"description\"], inplace=True)\n",
    "\n",
    "# 4️⃣ Perform text cleaning (optional)\n",
    "df_news[\"title\"] = df_news[\"title\"].str.replace(r\"[^\\w\\s]\", \"\", regex=True).str.lower()\n",
    "df_news[\"description\"] = df_news[\"description\"].str.replace(r\"[^\\w\\s]\", \"\", regex=True).str.lower()\n",
    "\n",
    "# ✅ Print cleaned data preview\n",
    "print(df_news.head())\n",
    "\n",
    "# 5️⃣ Save cleaned data to AWS RDS PostgreSQL\n",
    "# Step 4: AWS RDS PostgreSQL Connection Details\n",
    "# AWS RDS PostgreSQL connection details\n",
    "rds_host = \"database-1.c2b8mmg2krpj.us-east-1.rds.amazonaws.com\"\n",
    "rds_user = \"postgres\"\n",
    "rds_password = \"d82Nb5kMAK8T37S2JCSV\"\n",
    "rds_db = \"postgres\"\n",
    "rds_port = \"5432\"\n",
    "\n",
    "# Create PostgreSQL connection using SQLAlchemy\n",
    "engine = create_engine(f'postgresql://{rds_user}:{rds_password}@{rds_host}:{rds_port}/{rds_db}')\n",
    "\n",
    "\n",
    "# Save to PostgreSQL\n",
    "df_news.to_sql(\"financial_news\", engine, if_exists=\"replace\", index=False)\n",
    "\n",
    "print(\"Financial news cleaned and saved to AWS RDS PostgreSQL successfully!\")\n"
   ]
  },
  {
   "cell_type": "code",
   "execution_count": 2,
   "id": "88154a65-8b45-487c-8868-1f08e857a168",
   "metadata": {},
   "outputs": [
    {
     "name": "stdout",
     "output_type": "stream",
     "text": [
      "Collecting fredapi\n",
      "  Downloading fredapi-0.5.2-py3-none-any.whl.metadata (5.0 kB)\n",
      "Requirement already satisfied: pandas in c:\\users\\np.mohsenpak\\anaconda3\\lib\\site-packages (from fredapi) (2.2.2)\n",
      "Requirement already satisfied: numpy>=1.26.0 in c:\\users\\np.mohsenpak\\anaconda3\\lib\\site-packages (from pandas->fredapi) (1.26.4)\n",
      "Requirement already satisfied: python-dateutil>=2.8.2 in c:\\users\\np.mohsenpak\\anaconda3\\lib\\site-packages (from pandas->fredapi) (2.9.0.post0)\n",
      "Requirement already satisfied: pytz>=2020.1 in c:\\users\\np.mohsenpak\\anaconda3\\lib\\site-packages (from pandas->fredapi) (2024.1)\n",
      "Requirement already satisfied: tzdata>=2022.7 in c:\\users\\np.mohsenpak\\anaconda3\\lib\\site-packages (from pandas->fredapi) (2023.3)\n",
      "Requirement already satisfied: six>=1.5 in c:\\users\\np.mohsenpak\\anaconda3\\lib\\site-packages (from python-dateutil>=2.8.2->pandas->fredapi) (1.16.0)\n",
      "Downloading fredapi-0.5.2-py3-none-any.whl (11 kB)\n",
      "Installing collected packages: fredapi\n",
      "Successfully installed fredapi-0.5.2\n"
     ]
    }
   ],
   "source": [
    "!pip install fredapi\n"
   ]
  },
  {
   "cell_type": "code",
   "execution_count": 20,
   "id": "ad6eeb41-b31a-42d1-9dfa-59491fc70c54",
   "metadata": {},
   "outputs": [],
   "source": [
    "import os\n",
    "os.environ[\"FRED_API_KEY\"] = \"661467c458ce41671d637d95e1057f05\"\n"
   ]
  },
  {
   "cell_type": "code",
   "execution_count": 21,
   "id": "efbb6101-12bf-431b-a5b8-e930d862c0ee",
   "metadata": {},
   "outputs": [
    {
     "name": "stdout",
     "output_type": "stream",
     "text": [
      "API Key: 661467c458ce41671d637d95e1057f05\n"
     ]
    }
   ],
   "source": [
    "import os\n",
    "print(f\"API Key: {os.getenv('FRED_API_KEY')}\")  # Should print your API key\n",
    "\n"
   ]
  },
  {
   "cell_type": "code",
   "execution_count": 22,
   "id": "700ad28a-4227-473f-a2e2-ff5fb92a585b",
   "metadata": {},
   "outputs": [
    {
     "name": "stdout",
     "output_type": "stream",
     "text": [
      "Economic indicators data cleaned and saved to AWS RDS PostgreSQL successfully!\n"
     ]
    }
   ],
   "source": [
    "from fredapi import Fred\n",
    "import os\n",
    "import pandas as pd\n",
    "from sqlalchemy import create_engine\n",
    "\n",
    "# Get FRED API Key from environment variable\n",
    "API_KEY = os.getenv(\"FRED_API_KEY\")\n",
    "\n",
    "if not API_KEY:\n",
    "    raise ValueError(\"FRED_API_KEY not found in environment variables\")\n",
    "\n",
    "fred = Fred(api_key=API_KEY)\n",
    "\n",
    "# Fetch economic indicators\n",
    "gdp = fred.get_series(\"GDP\")  # Gross Domestic Product (GDP)\n",
    "unemployment = fred.get_series(\"UNRATE\")  # Unemployment Rate\n",
    "\n",
    "# Create DataFrame\n",
    "df_economic = pd.DataFrame({\"GDP\": gdp, \"Unemployment_Rate\": unemployment})\n",
    "\n",
    "# Data Cleaning\n",
    "# Drop any null values\n",
    "df_economic.dropna(inplace=True)\n",
    "\n",
    "# Remove duplicate rows if any\n",
    "df_economic.drop_duplicates(inplace=True)\n",
    "\n",
    "# Reset index\n",
    "df_economic.reset_index(inplace=True)\n",
    "df_economic.rename(columns={'index': 'Date'}, inplace=True)\n",
    "\n",
    "# Convert Date column to datetime format\n",
    "df_economic['Date'] = pd.to_datetime(df_economic['Date'])\n",
    "\n",
    "# AWS RDS PostgreSQL connection details\n",
    "rds_host = \"database-1.c2b8mmg2krpj.us-east-1.rds.amazonaws.com\"\n",
    "rds_user = \"postgres\"\n",
    "rds_password = \"d82Nb5kMAK8T37S2JCSV\"\n",
    "rds_db = \"postgres\"\n",
    "rds_port = \"5432\"\n",
    "\n",
    "# Create PostgreSQL connection string\n",
    "conn_str = f\"postgresql://{rds_user}:{rds_password}@{rds_host}:{rds_port}/{rds_db}\"\n",
    "\n",
    "# Create a database connection using SQLAlchemy\n",
    "engine = create_engine(conn_str)\n",
    "\n",
    "# Save DataFrame to AWS PostgreSQL (replace existing table)\n",
    "df_economic.to_sql(\"economic_indicators\", engine, if_exists=\"replace\", index=False)\n",
    "\n",
    "print(\"Economic indicators data cleaned and saved to AWS RDS PostgreSQL successfully!\")\n",
    "\n"
   ]
  },
  {
   "cell_type": "code",
   "execution_count": 9,
   "id": "56168218-4db1-40a9-b750-e040bd83d71c",
   "metadata": {},
   "outputs": [
    {
     "name": "stdout",
     "output_type": "stream",
     "text": [
      "           GDP  Unemployment_Rate\n",
      "0          NaN                NaN\n",
      "1          NaN                NaN\n",
      "2          NaN                NaN\n",
      "3          NaN                NaN\n",
      "4      243.164                NaN\n",
      "..         ...                ...\n",
      "929  29719.647                4.1\n",
      "930        NaN                4.2\n",
      "931        NaN                4.1\n",
      "932        NaN                4.0\n",
      "933        NaN                4.1\n",
      "\n",
      "[934 rows x 2 columns]\n"
     ]
    }
   ],
   "source": [
    "import pandas as pd\n",
    "\n",
    "# Query the data from AWS PostgreSQL\n",
    "with engine.connect() as connection:\n",
    "    df_check = pd.read_sql(\"SELECT * FROM economic_indicators\", connection)\n",
    "\n",
    "print(df_check)  # Display first few rows\n"
   ]
  },
  {
   "cell_type": "code",
   "execution_count": null,
   "id": "bf1d134a-cbb0-4f17-976d-1244e754fc3f",
   "metadata": {},
   "outputs": [],
   "source": []
  }
 ],
 "metadata": {
  "kernelspec": {
   "display_name": "Python 3 (ipykernel)",
   "language": "python",
   "name": "python3"
  },
  "language_info": {
   "codemirror_mode": {
    "name": "ipython",
    "version": 3
   },
   "file_extension": ".py",
   "mimetype": "text/x-python",
   "name": "python",
   "nbconvert_exporter": "python",
   "pygments_lexer": "ipython3",
   "version": "3.12.7"
  }
 },
 "nbformat": 4,
 "nbformat_minor": 5
}
