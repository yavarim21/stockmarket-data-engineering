{
 "cells": [
  {
   "cell_type": "code",
   "execution_count": 1,
   "id": "541e9c8a-0733-4c24-a536-54cc82b707eb",
   "metadata": {},
   "outputs": [
    {
     "name": "stdout",
     "output_type": "stream",
     "text": [
      "                 publishedAt  \\\n",
      "0  2025-03-11 20:41:25+00:00   \n",
      "1  2025-03-06 21:20:26+00:00   \n",
      "2  2025-02-22 12:15:29+00:00   \n",
      "3  2025-03-11 22:17:04+00:00   \n",
      "4  2025-03-06 20:25:56+00:00   \n",
      "\n",
      "                                               title  \\\n",
      "0  Nvidia’s RTX 5060 and 5060 Ti GPUs May Arrive ...   \n",
      "1  Amazon Offers a Self-Heating Coffee Mug at an ...   \n",
      "2  The Galaxy S25 Ultra Is Now 70% Off, Samsung I...   \n",
      "3                                   Is Tesla cooked?   \n",
      "4  AMD says the $549 RX 9070 is real, but doesn’t...   \n",
      "\n",
      "                                         description  \\\n",
      "0  Take your bets whether you’ll be able to find ...   \n",
      "1  Your cup of Joe can remain eternally hot with ...   \n",
      "2  Samsung's latest deal on its website makes the...   \n",
      "3  Tesla stock plunged 15 percent on Monday, its ...   \n",
      "4  Yesterday, reviewers agreed: AMD is finally be...   \n",
      "\n",
      "                                                 url  sentiment_score  \\\n",
      "0  https://gizmodo.com/nvidias-rtx-5060-and-5060-...           0.0000   \n",
      "1  https://gizmodo.com/amazon-offers-a-self-heati...           0.2960   \n",
      "2  https://gizmodo.com/the-galaxy-s25-ultra-is-no...           0.0000   \n",
      "3  https://www.theverge.com/tesla/627894/tesla-st...           0.0000   \n",
      "4  https://www.theverge.com/news/625502/amd-rx-90...          -0.4767   \n",
      "\n",
      "  sentiment_label  \n",
      "0         neutral  \n",
      "1        positive  \n",
      "2         neutral  \n",
      "3         neutral  \n",
      "4        negative  \n"
     ]
    }
   ],
   "source": [
    "import sqlite3\n",
    "import pandas as pd\n",
    "\n",
    "# Connect to SQLite\n",
    "conn = sqlite3.connect(\"C:/Users/NP.MOHSENPAK/stockmarket-data-engineering/data/stock_dataAPPL.db\")\n",
    "\n",
    "# Read the sentiment analysis data\n",
    "df_sentiment = pd.read_sql(\"SELECT * FROM financial_news_sentiment\", conn)\n",
    "\n",
    "# Display the first few rows\n",
    "print(df_sentiment.head())\n",
    "\n",
    "# Close connection\n",
    "conn.close()\n"
   ]
  },
  {
   "cell_type": "code",
   "execution_count": null,
   "id": "a93c5d44-089c-48e5-8ad9-86d7bbc8eb27",
   "metadata": {},
   "outputs": [],
   "source": []
  }
 ],
 "metadata": {
  "kernelspec": {
   "display_name": "Python 3 (ipykernel)",
   "language": "python",
   "name": "python3"
  },
  "language_info": {
   "codemirror_mode": {
    "name": "ipython",
    "version": 3
   },
   "file_extension": ".py",
   "mimetype": "text/x-python",
   "name": "python",
   "nbconvert_exporter": "python",
   "pygments_lexer": "ipython3",
   "version": "3.12.7"
  }
 },
 "nbformat": 4,
 "nbformat_minor": 5
}
