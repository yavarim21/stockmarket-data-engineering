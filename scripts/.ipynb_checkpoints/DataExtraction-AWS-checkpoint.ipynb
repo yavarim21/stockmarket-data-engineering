{
 "cells": [
  {
   "cell_type": "markdown",
   "id": "42254b3c-0e4a-4d2f-b4ac-d1f353690357",
   "metadata": {},
   "source": [
    "pip install psycopg2\n"
   ]
  },
  {
   "cell_type": "code",
   "execution_count": 4,
   "id": "d068de4d-3faa-4742-837a-501771729f3f",
   "metadata": {},
   "outputs": [
    {
     "name": "stdout",
     "output_type": "stream",
     "text": [
      "Requirement already satisfied: python-dotenv in c:\\users\\np.mohsenpak\\anaconda3\\lib\\site-packages (0.21.0)\n"
     ]
    }
   ],
   "source": [
    "!pip install python-dotenv\n",
    "\n"
   ]
  },
  {
   "cell_type": "code",
   "execution_count": 1,
   "id": "9fd59550-73a6-4511-962b-f2cc88ab0c21",
   "metadata": {},
   "outputs": [],
   "source": [
    "from dotenv import load_dotenv\n",
    "import os\n",
    "\n",
    "load_dotenv()\n",
    "\n",
    "rds_host = os.getenv(\"RDS_HOST\")\n",
    "rds_user = os.getenv(\"RDS_USER\")\n",
    "rds_password = os.getenv(\"RDS_PASSWORD\")\n",
    "rds_db = os.getenv(\"RDS_DB\")\n",
    "rds_port = os.getenv(\"RDS_PORT\")"
   ]
  },
  {
   "cell_type": "code",
   "execution_count": 2,
   "id": "37acb7d2-2188-4450-b38e-0174afd32c57",
   "metadata": {},
   "outputs": [
    {
     "name": "stdout",
     "output_type": "stream",
     "text": [
      "RDS Host: database-1.c2b8mmg2krpj.us-east-1.rds.amazonaws.com\n"
     ]
    }
   ],
   "source": [
    "print(f\"RDS Host: {rds_host}\")\n"
   ]
  },
  {
   "cell_type": "code",
   "execution_count": 5,
   "id": "8423a104-d811-4580-b071-8828604a4eed",
   "metadata": {},
   "outputs": [
    {
     "name": "stderr",
     "output_type": "stream",
     "text": [
      "[*********************100%***********************]  1 of 1 completed\n"
     ]
    },
    {
     "name": "stdout",
     "output_type": "stream",
     "text": [
      "✅ Data successfully saved to AWS RDS PostgreSQL!\n"
     ]
    }
   ],
   "source": [
    "import yfinance as yf\n",
    "import pandas as pd\n",
    "from sqlalchemy import create_engine, text  # <-- Added text\n",
    "import psycopg2\n",
    "from dotenv import load_dotenv\n",
    "import os\n",
    "\n",
    "# Step 1: Load environment variables\n",
    "load_dotenv()\n",
    "\n",
    "rds_host = os.getenv('RDS_HOST')\n",
    "rds_user = os.getenv('RDS_USER')\n",
    "rds_password = os.getenv('RDS_PASSWORD')\n",
    "rds_db = os.getenv('RDS_DB')\n",
    "rds_port = os.getenv('RDS_PORT')\n",
    "\n",
    "# Step 2: Download Apple stock data\n",
    "data = yf.download(\"AAPL\", start=\"2023-01-01\", end=\"2024-01-01\")\n",
    "\n",
    "# Step 3: Flatten MultiIndex columns if necessary\n",
    "if isinstance(data.columns, pd.MultiIndex):\n",
    "    data.columns = [f'{col[0]}_{col[1]}' for col in data.columns]\n",
    "\n",
    "# Reset the index to make 'Date' a regular column\n",
    "data.reset_index(inplace=True)\n",
    "\n",
    "# Convert 'Date' column to string format\n",
    "data['Date'] = data['Date'].dt.strftime('%Y-%m-%d')\n",
    "\n",
    "# Step 4: Connect to AWS RDS PostgreSQL\n",
    "engine = create_engine(f'postgresql://{rds_user}:{rds_password}@{rds_host}:{rds_port}/{rds_db}')\n",
    "\n",
    "# Step 5: Create table if not exists\n",
    "create_table_query = '''\n",
    "CREATE TABLE IF NOT EXISTS apple_stock (\n",
    "    Date TEXT PRIMARY KEY,\n",
    "    Open_AAPL REAL,\n",
    "    High_AAPL REAL,\n",
    "    Low_AAPL REAL,\n",
    "    Close_AAPL REAL,\n",
    "    \"Adj Close_AAPL\" REAL,\n",
    "    Volume_AAPL BIGINT\n",
    ");\n",
    "'''\n",
    "\n",
    "# Execute the table creation query\n",
    "with engine.connect() as conn:\n",
    "    conn.execute(text(create_table_query))\n",
    "\n",
    "# Step 6: Insert data into PostgreSQL\n",
    "data.to_sql('apple_stock', engine, if_exists='replace', index=False)\n",
    "\n",
    "print(\"✅ Data successfully saved to AWS RDS PostgreSQL!\")\n"
   ]
  },
  {
   "cell_type": "code",
   "execution_count": null,
   "id": "ccf074e4-6f5f-48f0-8df1-bbb7ae9a20ed",
   "metadata": {},
   "outputs": [],
   "source": []
  },
  {
   "cell_type": "code",
   "execution_count": 6,
   "id": "c85ee713-dfd1-4539-b862-ac792dddf21d",
   "metadata": {},
   "outputs": [
    {
     "name": "stderr",
     "output_type": "stream",
     "text": [
      "C:\\Users\\NP.MOHSENPAK\\AppData\\Local\\Temp\\ipykernel_33640\\1872282955.py:27: FutureWarning: DataFrame.fillna with 'method' is deprecated and will raise in a future version. Use obj.ffill() or obj.bfill() instead.\n",
      "  df_aapl.fillna(method='ffill', inplace=True)\n"
     ]
    },
    {
     "name": "stdout",
     "output_type": "stream",
     "text": [
      "AAPL stock data cleaned and saved to PostgreSQL!\n"
     ]
    }
   ],
   "source": [
    "import pandas as pd\n",
    "from sqlalchemy import create_engine\n",
    "\n",
    "# Step 3: AWS RDS PostgreSQL Connection Details\n",
    "from dotenv import load_dotenv\n",
    "import os\n",
    "\n",
    "# Step 1: Load environment variables\n",
    "load_dotenv()\n",
    "\n",
    "rds_host = os.getenv('RDS_HOST')\n",
    "rds_user = os.getenv('RDS_USER')\n",
    "rds_password = os.getenv('RDS_PASSWORD')\n",
    "rds_db = os.getenv('RDS_DB')\n",
    "rds_port = os.getenv('RDS_PORT')\n",
    "\n",
    "# Create PostgreSQL connection using SQLAlchemy\n",
    "engine = create_engine(f'postgresql://{rds_user}:{rds_password}@{rds_host}:{rds_port}/{rds_db}')\n",
    "\n",
    "# Load AAPL stock data\n",
    "df_aapl = pd.read_sql(\"SELECT * FROM apple_stock\", engine)\n",
    "\n",
    "# Convert 'date' column to datetime\n",
    "df_aapl['Date'] = pd.to_datetime(df_aapl['Date'])\n",
    "\n",
    "# Handle missing values (forward fill for stock prices)\n",
    "df_aapl.fillna(method='ffill', inplace=True)\n",
    "\n",
    "# Remove duplicates\n",
    "df_aapl.drop_duplicates(inplace=True)\n",
    "\n",
    "# Save cleaned AAPL data back to PostgreSQL\n",
    "df_aapl.to_sql(\"apple_stock\", engine, if_exists=\"replace\", index=False)\n",
    "\n",
    "print(\"AAPL stock data cleaned and saved to PostgreSQL!\")\n"
   ]
  },
  {
   "cell_type": "code",
   "execution_count": 7,
   "id": "59b43655-32e8-4733-a787-eb0cb84b5550",
   "metadata": {},
   "outputs": [
    {
     "name": "stdout",
     "output_type": "stream",
     "text": [
      "Index(['Date', 'Close_AAPL', 'High_AAPL', 'Low_AAPL', 'Open_AAPL',\n",
      "       'Volume_AAPL'],\n",
      "      dtype='object')\n"
     ]
    }
   ],
   "source": [
    "print(df_aapl.columns)\n"
   ]
  },
  {
   "cell_type": "code",
   "execution_count": 1,
   "id": "949b6fb7-e3a6-4734-bd4c-5ceeeee29ada",
   "metadata": {},
   "outputs": [
    {
     "name": "stdout",
     "output_type": "stream",
     "text": [
      "✅ News sentiment data successfully saved to AWS RDS PostgreSQL!\n"
     ]
    }
   ],
   "source": [
    "#sentiment Analysis\n",
    "import os\n",
    "import requests\n",
    "import pandas as pd\n",
    "from nltk.sentiment import SentimentIntensityAnalyzer\n",
    "from sqlalchemy import create_engine, text\n",
    "import psycopg2\n",
    "\n",
    "from dotenv import load_dotenv\n",
    "load_dotenv()\n",
    "# Initialize Sentiment Analyzer\n",
    "sia = SentimentIntensityAnalyzer()\n",
    "\n",
    "# Step 1: Fetch news data from NewsAPI\n",
    "API_KEY = os.getenv(\"NEWS_API_KEY\")  # Ensure API key is set\n",
    "\n",
    "url = f\"https://newsapi.org/v2/everything?q=stock&apiKey={API_KEY}\"\n",
    "response = requests.get(url).json()\n",
    "\n",
    "# Step 2: Extract relevant fields and convert to DataFrame\n",
    "articles = response.get(\"articles\", [])\n",
    "\n",
    "# Check if data is available\n",
    "if not articles:\n",
    "    raise ValueError(\"❌ No articles found in API response. Check your API key and query.\")\n",
    "\n",
    "df_news = pd.DataFrame(articles)\n",
    "\n",
    "# Check if required columns exist\n",
    "required_columns = [\"publishedAt\", \"title\", \"description\", \"url\"]\n",
    "df_news = df_news[[col for col in required_columns if col in df_news.columns]]\n",
    "\n",
    "# Convert 'publishedAt' to datetime format if it exists\n",
    "if \"publishedAt\" in df_news.columns:\n",
    "    df_news[\"publishedAt\"] = pd.to_datetime(df_news[\"publishedAt\"])\n",
    "\n",
    "# Perform Sentiment Analysis on each news title\n",
    "df_news[\"sentiment_score\"] = df_news[\"title\"].apply(lambda x: sia.polarity_scores(x)[\"compound\"] if isinstance(x, str) else 0)\n",
    "df_news[\"sentiment_label\"] = df_news[\"sentiment_score\"].apply(lambda x: \"positive\" if x > 0 else (\"negative\" if x < 0 else \"neutral\"))\n",
    "\n",
    "# AWS RDS PostgreSQL connection details\n",
    "\n",
    "\n",
    "# Step 1: Load environment variables\n",
    "\n",
    "\n",
    "rds_host = os.getenv('RDS_HOST')\n",
    "rds_user = os.getenv('RDS_USER')\n",
    "rds_password = os.getenv('RDS_PASSWORD')\n",
    "rds_db = os.getenv('RDS_DB')\n",
    "rds_port = os.getenv('RDS_PORT')\n",
    "\n",
    "# Step 4: Create PostgreSQL connection using SQLAlchemy\n",
    "engine = create_engine(f'postgresql://{rds_user}:{rds_password}@{rds_host}:{rds_port}/{rds_db}')\n",
    "\n",
    "# Step 5: Create table in PostgreSQL if it doesn’t exist\n",
    "create_table_query = '''\n",
    "CREATE TABLE IF NOT EXISTS financial_news_sentiment (\n",
    "    publishedAt TIMESTAMP,\n",
    "    title TEXT,\n",
    "    description TEXT,\n",
    "    url TEXT PRIMARY KEY,\n",
    "    sentiment_score REAL,\n",
    "    sentiment_label TEXT\n",
    ");\n",
    "'''\n",
    "\n",
    "# Execute table creation\n",
    "with engine.connect() as conn:\n",
    "    conn.execute(text(create_table_query))\n",
    "\n",
    "# Step 6: Insert data into AWS RDS PostgreSQL\n",
    "df_news.to_sql('financial_news_sentiment', engine, if_exists='replace', index=False)\n",
    "\n",
    "print(\"✅ News sentiment data successfully saved to AWS RDS PostgreSQL!\")\n"
   ]
  },
  {
   "cell_type": "code",
   "execution_count": null,
   "id": "071a2258-60e3-4eb5-ad68-7e51502c50c0",
   "metadata": {},
   "outputs": [],
   "source": []
  },
  {
   "cell_type": "code",
   "execution_count": 3,
   "id": "dce535c6-0a39-4d9d-92ab-3cfabf115d39",
   "metadata": {},
   "outputs": [
    {
     "name": "stdout",
     "output_type": "stream",
     "text": [
      "Financial news sentiment data cleaned and saved to PostgreSQL!\n"
     ]
    }
   ],
   "source": [
    "from dotenv import load_dotenv\n",
    "load_dotenv()\n",
    "# AWS RDS PostgreSQL connection details\n",
    "# Step 1: Load environment variables\n",
    "rds_host = os.getenv('RDS_HOST')\n",
    "rds_user = os.getenv('RDS_USER')\n",
    "rds_password = os.getenv('RDS_PASSWORD')\n",
    "rds_db = os.getenv('RDS_DB')\n",
    "rds_port = os.getenv('RDS_PORT')\n",
    "# Step 4: Create PostgreSQL connection using SQLAlchemy\n",
    "engine = create_engine(f'postgresql://{rds_user}:{rds_password}@{rds_host}:{rds_port}/{rds_db}')\n",
    "\n",
    "\n",
    "\n",
    "# Load financial news sentiment data\n",
    "df_news = pd.read_sql(\"SELECT * FROM financial_news_sentiment\", engine)\n",
    "\n",
    "# Convert 'publishedAt' to datetime\n",
    "df_news['publishedAt'] = pd.to_datetime(df_news['publishedAt'])\n",
    "\n",
    "# Handle missing values\n",
    "df_news.fillna({\"sentiment_score\": 0, \"sentiment_label\": \"neutral\"}, inplace=True)  # Default sentiment for missing values\n",
    "\n",
    "# Remove duplicates\n",
    "df_news.drop_duplicates(inplace=True)\n",
    "\n",
    "# Save cleaned news sentiment data back to PostgreSQL\n",
    "df_news.to_sql(\"financial_news_sentiment\", engine, if_exists=\"replace\", index=False)\n",
    "\n",
    "print(\"Financial news sentiment data cleaned and saved to PostgreSQL!\")\n"
   ]
  },
  {
   "cell_type": "code",
   "execution_count": null,
   "id": "dfa145a2-b774-407c-8ec8-eca81237df41",
   "metadata": {},
   "outputs": [],
   "source": []
  },
  {
   "cell_type": "code",
   "execution_count": 2,
   "id": "88d451d9-9f8d-4c6d-b7f0-1da83b68679a",
   "metadata": {},
   "outputs": [
    {
     "name": "stdout",
     "output_type": "stream",
     "text": [
      "{'status': 'ok', 'totalResults': 94248, 'articles': [{'source': {'id': 'wired', 'name': 'Wired'}, 'author': 'Louryn Strampe', 'title': '7 Best Eco-Friendly Cleaning Products (2025)', 'description': 'Next time you stock up on supplies, consider these green cleaning alternatives, from refillable sprays to reusable dishcloths.', 'url': 'https://www.wired.com/gallery/best-eco-friendly-cleaning-products/', 'urlToImage': 'https://media.wired.com/photos/6806c89c7fb285ced215f5f5/191:100/w_2580,c_limit/The-Best-Eco-Friendly-Cleaning-Products-for-Your-Home_042025_Lede.jpg', 'publishedAt': '2025-04-22T11:09:00Z', 'content': \"Papaya Reusable Paper Towels for $13: I mostly liked these cute, bright reusable paper towels, which are made from a mix of cotton and cellulose. Theyre composable and absorbent. The reason they're a… [+1922 chars]\"}, {'source': {'id': 'the-verge', 'name': 'The Verge'}, 'author': 'Todd Haselton', 'title': 'Apple has its biggest stock drop in five years because of Trump’s tariffs', 'description': 'Shares of Apple, Amazon, and other tech stocks are getting walloped on Thursday as the markets digest the impact of President Donald Trump’s new round of tariffs announced on Wednesday evening. Shares of Apple were down about 9 percent on Thursday morning, wh…', 'url': 'https://www.theverge.com/news/642598/apple-stock-trump-tariffs', 'urlToImage': 'https://platform.theverge.com/wp-content/uploads/sites/2/2025/03/STKS501_STOCKS_CVIRGINIA_D.jpg?quality=90&strip=all&crop=0%2C10.732984293194%2C100%2C78.534031413613&w=1200', 'publishedAt': '2025-04-03T14:38:12Z', 'content': 'Amazon and Meta shares are down about 7 percent.\\r\\nAmazon and Meta shares are down about 7 percent.\\r\\nShares of Apple, Amazon, and other tech stocks are getting walloped on Thursday as the markets dige… [+1268 chars]'}, {'source': {'id': 'the-verge', 'name': 'The Verge'}, 'author': 'Todd Haselton', 'title': 'Apple has its biggest stock drop in five years because of Trump’s tariffs', 'description': 'Shares of Apple, Amazon and other tech stocks are getting walloped on Thursday as the markets digest the impact of Trump’s new round of tariffs announced on Wednesday evening. Shares of Apple were down about 9 percent on Thursday morning, which would mark the…', 'url': 'https://www.theverge.com/news/642598/apple-amazon-microsoft-and-other-tech-stocks-are-getting-walloped-by-trumps-tariffs', 'urlToImage': 'https://platform.theverge.com/wp-content/uploads/sites/2/2025/03/STKS501_STOCKS_CVIRGINIA_D.jpg?quality=90&strip=all&crop=0%2C10.732984293194%2C100%2C78.534031413613&w=1200', 'publishedAt': '2025-04-03T14:13:00Z', 'content': 'Amazon and Meta shares are down about 7 percent.\\r\\nAmazon and Meta shares are down about 7 percent.\\r\\nShares of Apple, Amazon, and other tech stocks are getting walloped on Thursday as the markets dige… [+1268 chars]'}, {'source': {'id': None, 'name': 'Gizmodo.com'}, 'author': 'Lucas Ropek', 'title': 'Stocks Plunge After Trump Declares Web Rumor on Tariffs ‘Fake News’', 'description': 'The stock market had a brief moment of hope on Monday morning thanks to a false rumor.', 'url': 'https://gizmodo.com/stocks-plunge-after-trump-declares-web-rumor-on-tariffs-fake-news-2000585932', 'urlToImage': 'https://gizmodo.com/app/uploads/2025/01/Donald-Trump-press-conference-plane-crash-Jan.-30-2025.jpg', 'publishedAt': '2025-04-07T17:32:00Z', 'content': 'The stock market went on a rollercoaster ride this morning, shooting upwards after news circulated online that President Donald Trump was considering a 90-day pause of his global tariff policy. Howev… [+4104 chars]'}, {'source': {'id': None, 'name': 'Gizmodo.com'}, 'author': 'Gizmodo Deals', 'title': 'Star Wars, Harry Potter: Amazon Clears Stock Of Popular Lego Sets Up To 40% Off', 'description': 'First come, first served.', 'url': 'https://gizmodo.com/star-wars-harry-potter-amazon-clears-stock-of-popular-lego-sets-up-to-40-off-2000583343', 'urlToImage': 'https://gizmodo.com/app/uploads/2025/04/lego-police.jpg', 'publishedAt': '2025-04-01T14:10:07Z', 'content': 'Spring has arrived and with it, Easter holiday shopping season! Amazon offers incredible deals on several LEGO sets and it’s the perfect time to pick up some exciting gifts for kids or treat yourself… [+2338 chars]'}, {'source': {'id': None, 'name': 'Gizmodo.com'}, 'author': 'Mike Fazioli', 'title': 'SanDisk Portable SSDs Are Back In Stock on Amazon, Now Priced at Their Lowest Ever', 'description': 'Head to Amazon and grab the 2TB version of this top-rated external drive for over $60 off, or the 4TB model for over $100 off.', 'url': 'https://gizmodo.com/sandisk-portable-ssds-are-back-in-stock-on-amazon-now-priced-at-their-lowest-ever-2000582290', 'urlToImage': 'https://gizmodo.com/app/uploads/2024/12/sandisk-extreme-portable-ssd.jpg', 'publishedAt': '2025-03-29T11:10:05Z', 'content': 'Your yard and your garage shouldn’t be the only spring cleanings on your to-do list. Your laptop or PC could benefit from a cleanup too, which thankfully won’t leave you sore the next day like those … [+2541 chars]'}, {'source': {'id': None, 'name': 'Gizmodo.com'}, 'author': 'Thomas Maxwell', 'title': 'Autonomous AI Could Wreak Havoc on Stock Market, Bank of England Warns', 'description': 'The Bank of England warned that AI bots could converge on similar trading strategies, exacerbating downturns or bubbles.', 'url': 'https://gizmodo.com/autonomous-ai-could-wreak-havoc-on-stock-market-bank-of-england-warns-2000587145', 'urlToImage': 'https://gizmodo.com/app/uploads/2020/03/lpfiuy2esnmlyn7jteex.jpg', 'publishedAt': '2025-04-09T18:50:17Z', 'content': 'The stock market is already an unpredictable place, and now the Bank of England has warned that the adoption of generative AI in financial markets could produce a monoculture and amplify stock moveme… [+3192 chars]'}, {'source': {'id': None, 'name': 'Gizmodo.com'}, 'author': 'Gizmodo Deals', 'title': 'Amazon Is Clearing Out Its Stock of These Older MacBook Airs, Now Almost 40% Off', 'description': 'Probably the best MacBook Air deal on the market today.', 'url': 'https://gizmodo.com/amazon-is-clearing-out-its-stock-of-these-older-macbook-airs-now-almost-40-off-2000591130', 'urlToImage': 'https://gizmodo.com/app/uploads/2024/12/macbook-air.jpg', 'publishedAt': '2025-04-18T11:44:06Z', 'content': 'If youve been waiting for the perfect moment to buy a premium MacBook Air, Amazons current deal on the 2022 MacBook Air (M2 chip, 8GB of RAM, 512GB of storage) is almost too good to be true. At $799 … [+2722 chars]'}, {'source': {'id': None, 'name': 'Gizmodo.com'}, 'author': 'Joe Tilleli', 'title': 'Amazon Just Marked Down This Lightning-Fast Portable SanDisk Flash Drive to Clear Out Stock', 'description': 'This USB flash drive has size options all the way up to 1TB and each one is on sale for a limited time.', 'url': 'https://gizmodo.com/amazon-just-marked-down-this-lightning-fast-portable-sandisk-flash-drive-to-clear-out-stock-2000585485', 'urlToImage': 'https://gizmodo.com/app/uploads/2025/04/SanDiskFlashDrive.jpg', 'publishedAt': '2025-04-07T15:50:48Z', 'content': 'If you work with photo and video editing, youll know that any bit of storage space you can muster up is an incredible luxury. Rather than delete files we may still need, best to get more storage. Luc… [+2081 chars]'}, {'source': {'id': None, 'name': 'Gizmodo.com'}, 'author': 'Gizmodo Deals', 'title': 'The 2025 MacBook Air Has Never Been So Cheap, Amazon Clears Out Stock at a Record Low Price', 'description': 'This is an unprecedented 2025 MacBook Air deal that’s unlikely to last long.', 'url': 'https://gizmodo.com/the-2025-macbook-air-has-never-been-so-cheap-amazon-clears-out-stock-at-a-record-low-price-2000594622', 'urlToImage': 'https://gizmodo.com/app/uploads/2025/01/MacBook-Air-2024.jpg', 'publishedAt': '2025-04-25T19:52:28Z', 'content': 'Apple is famous for keeping prices close to the chest, especially for its latest releases. If you go to Apple’s website, you’ll find that discounts are virtually… non-existent.\\r\\nThat’s why today’s Am… [+2601 chars]'}, {'source': {'id': 'the-verge', 'name': 'The Verge'}, 'author': 'Wes Davis', 'title': 'Jaguar Land Rover pauses US shipments over Trump tariffs', 'description': 'Jaguar Land Rover (JLR) says it’s delaying shipments to the US this month while it works out how it will deal with the wide-ranging tariffs President Donald Trump announced this week, according to The Guardian. “As we work to address the new trading terms wit…', 'url': 'https://www.theverge.com/news/644055/jaguar-land-rover-shipments-pause-april-trump-tariffs', 'urlToImage': 'https://platform.theverge.com/wp-content/uploads/sites/2/2025/04/Range-Rover.png?quality=90&strip=all&crop=0%2C10.723165084465%2C100%2C78.55366983107&w=1200', 'publishedAt': '2025-04-05T15:28:55Z', 'content': 'The British carmaker says it wont ship to the US during the month of April.\\r\\nThe British carmaker says it wont ship to the US during the month of April.\\r\\nJaguar Land Rover (JLR) says its delaying shi… [+1617 chars]'}, {'source': {'id': None, 'name': 'MacRumors'}, 'author': 'Juli Clover', 'title': 'Apple CEO Tim Cook Sells Stock Worth $24 Million', 'description': 'Apple CEO Tim Cook today earned over $24 million selling Apple stock, according to a filing with the SEC. Cook sold 108,136 shares that he received on April 1 when restricted stock units vested.\\n\\n\\n\\n\\n\\nThe RSUs that vested yesterday were part of a time-based st…', 'url': 'https://www.macrumors.com/2025/04/02/apple-ceo-tim-cook-stock-april-2025/', 'urlToImage': 'https://images.macrumors.com/t/f3VEEbWYtJRKFzkdAIZytTWXIpg=/2676x/article-new/2022/01/Apple-Logo-Cash-Feature-Mint.jpg', 'publishedAt': '2025-04-02T21:30:29Z', 'content': 'Apple CEO Tim Cook today earned over $24 million selling Apple stock, according to a filing with the SEC. Cook sold 108,136 shares that he received on April 1 when restricted stock units vested.\\r\\nThe… [+798 chars]'}, {'source': {'id': 'business-insider', 'name': 'Business Insider'}, 'author': 'mfox@businessinsider.com (Matthew Fox)', 'title': 'The stock market is flirting with a dangerous technical level', 'description': '\"Our intermediate-term indicators suggest the correction will resume mid- to late April,\" technical analyst Katie Stockton said this week.', 'url': 'https://www.businessinsider.com/stock-market-outlook-bearish-signal-200-day-moving-average-2025-3', 'urlToImage': 'https://i.insider.com/672500b29b3250dbbcebb0a5?width=1200&format=jpeg', 'publishedAt': '2025-03-28T14:22:35Z', 'content': 'Stocks are in a danger zone closely watched by technical analysts for signs of further weakness ahead. \\r\\nThe S&amp;P 500 and the Nasdaq 100 have both been trading below theur 200-day moving average, … [+1609 chars]'}, {'source': {'id': None, 'name': 'BBC News'}, 'author': None, 'title': \"Trump's tariffs have shaken the markets - how worried should we be?\", 'description': 'Workers are right to fear for their pensions, but the greater worry is the here and now - the economy they live in.', 'url': 'https://www.bbc.com/news/articles/c77njdlvj66o', 'urlToImage': 'https://ichef.bbci.co.uk/news/1024/branded_news/6ea2/live/af4d2300-1196-11f0-9c0d-3d00dc5c90d6.jpg', 'publishedAt': '2025-04-04T21:15:00Z', 'content': 'Simon Jack\\r\\nAs stock markets continue to tumble after the US imposition of sweeping and swingeing tariffs, many are asking does this qualify as a stock market \"crash\" and what that could mean for the… [+3227 chars]'}, {'source': {'id': None, 'name': 'MacRumors'}, 'author': 'Tim Hardwick', 'title': 'Apple Stock Sell-Off Continues After China Unveils Matching Tariffs', 'description': \"Apple stock dropped 4% in early Friday trading, broadly following yesterday's trend after China announced reciprocal tariffs in response to U.S. President Trump's trade policies. \\n\\n\\n\\n\\n\\nThe latest decline follows Thursday's dramatic 9% plunge that erased nearl…\", 'url': 'https://www.macrumors.com/2025/04/04/apple-shares-plunge-china-unveils-tariffs/', 'urlToImage': 'https://images.macrumors.com/t/EUB4U9IA54nor9e6KKtdb7gamGI=/2000x/article-new/2021/04/Apple-Logo-Cash-Orange.jpg', 'publishedAt': '2025-04-04T14:05:45Z', 'content': \"Apple stock dropped 4% in early Friday trading, broadly following yesterday's trend after China announced reciprocal tariffs in response to U.S. President Trump's trade policies. \\r\\nThe latest decline… [+1599 chars]\"}, {'source': {'id': None, 'name': 'MacRumors'}, 'author': 'Juli Clover', 'title': 'Apple Stock Falls as Trump Tariffs Target Supply Chain', 'description': \"Apple's efforts to diversify its supply chain may have been for naught with the Trump administration's new tariffs that target multiple countries where Apple sources components for its iPhones, iPads, and Macs.\\n\\n\\n\\n\\n\\nApple has worked to move some of its manufa…\", 'url': 'https://www.macrumors.com/2025/04/02/apple-stock-trump-tariffs/', 'urlToImage': 'https://images.macrumors.com/t/HUt_KjzI5gOTbWcT39CmjWi8pzw=/2000x/article-new/2024/09/iphone-16-lineup-colors.jpg', 'publishedAt': '2025-04-02T23:26:39Z', 'content': \"Apple's efforts to diversify its supply chain may have been for naught with the Trump administration's new tariffs that target multiple countries where Apple sources components for its iPhones, iPads… [+1848 chars]\"}, {'source': {'id': 'business-insider', 'name': 'Business Insider'}, 'author': 'Laura Italiano', 'title': 'Drivers, start your evidence: NY jury to hear roaring tale of a NASCAR superfan and his allegedly crooked hedge fund', 'description': 'Prosecutors say Andrew Franzone went from stock cars to stock fraud. He says his investment in Nvidia-backed CoreWeave shows his risk-taking paid off.', 'url': 'https://www.businessinsider.com/hedge-fund-founder-nascar-superfan-trial-for-fraud-andrew-franzone-2025-4', 'urlToImage': 'https://i.insider.com/67f97ab0c6ad288d147dff5a?width=1200&format=jpeg', 'publishedAt': '2025-04-13T09:03:02Z', 'content': 'Laura Italiano, RacingOne/Getty, Alan_Lagadu/Getty, Ava Horton/BI\\r\\n<ul><li>NASCAR enthusiast and Miami hedge-fund founder Andrew Franzone goes on trial in Manhattan on Monday.</li><li>Federal prosecu… [+6831 chars]'}, {'source': {'id': None, 'name': 'Gizmodo.com'}, 'author': 'Matt Novak', 'title': 'UnitedHealth Shares Plummet as Too Many People Go to the Doctor', 'description': 'The CEO said the company\\'s performance was \"unusual and unacceptable.\"', 'url': 'https://gizmodo.com/unitedhealth-shares-plummet-as-too-many-people-go-to-the-doctor-2000590755', 'urlToImage': 'https://gizmodo.com/app/uploads/2025/04/unitedhealth-unitedhealthcare-united-health-building-2023.jpg', 'publishedAt': '2025-04-17T18:10:29Z', 'content': 'UnitedHealth Group, the parent company of UnitedHealthcare and Optum Health, saw its stock price plummet over 20% Thursday morning after the healthcare giant downgraded expected performance for the y… [+2608 chars]'}, {'source': {'id': None, 'name': 'Gizmodo.com'}, 'author': 'AJ Dellinger', 'title': 'Trump May Finally Move to Cash Out His $2 Billion Stake in Truth Social', 'description': 'Other Trump orbiters might sell, too.', 'url': 'https://gizmodo.com/trump-may-finally-move-to-cash-out-his-2-billion-stake-in-truth-social-2000584733', 'urlToImage': 'https://gizmodo.com/app/uploads/2024/10/Truth-Social-on-a-mobile-phone-.jpg', 'publishedAt': '2025-04-04T13:10:25Z', 'content': 'Trump Media and Technology Group, the parent company of Truth Social, is ostensibly a tech company that operates a middling social media platform. In practice, it’s something closer to a way for oppo… [+2878 chars]'}, {'source': {'id': None, 'name': 'Gizmodo.com'}, 'author': 'Kyle Barr', 'title': 'Gamers Are Mobbing Nintendo Switch 2 Preorders Worldwide Despite Calls to ‘Drop the Price’', 'description': 'Judging by these sales numbers, the U.S. Switch 2 preorder scene will be hectic midnight on Thursday.', 'url': 'https://gizmodo.com/gamers-are-mobbing-nintendo-switch-2-preorders-worldwide-despite-calls-to-drop-the-price-2000593549', 'urlToImage': 'https://gizmodo.com/app/uploads/2025/04/Nintendo-Switch-2-HAndheld-and-Controller-1-HEro-1.jpg', 'publishedAt': '2025-04-23T22:00:58Z', 'content': 'Absence only makes the heart grow fonder. If that idiom holds true, it means bad tidings for Americans looking to get their hands on the Switch 2. U.S. and Canada-based Nintendo fans will be some of … [+5083 chars]'}, {'source': {'id': 'the-verge', 'name': 'The Verge'}, 'author': 'Umar Shakir', 'title': 'Tesla’s Cybertruck is getting deeper discounts and production cuts', 'description': 'Tesla has plenty of Cybertrucks listed on its website, and they’ve got some hefty discounts, including many for about $10,000 off, Electrek reports. Many are from the 2024 model year and include limited “Foundation Series” Cybertrucks that ended production in…', 'url': 'https://www.theverge.com/news/652164/tesla-cybertruck-discounts-production-cuts-2024-foundation-series', 'urlToImage': 'https://platform.theverge.com/wp-content/uploads/sites/2/2025/03/STK086_TeslaD.jpg?quality=90&strip=all&crop=0%2C10.732984293194%2C100%2C78.534031413613&w=1200', 'publishedAt': '2025-04-18T22:14:16Z', 'content': 'The low-poly truck is still not all its cracked up to be.\\r\\nThe low-poly truck is still not all its cracked up to be.\\r\\nTesla has plenty of Cybertrucks listed on its website, and theyve got some hefty … [+1209 chars]'}, {'source': {'id': 'the-verge', 'name': 'The Verge'}, 'author': 'Emma Roth', 'title': 'Nintendo Switch 2 preorders are sold out everywhere', 'description': 'Nintendo Switch 2 preorders have sold out online across the major retailers selling them in the US. Walmart, Best Buy, and Target sold out of their inventory early Thursday morning, while GameStop says it sold out of online preorders hours after they opened a…', 'url': 'https://www.theverge.com/news/655361/nintendo-switch-2-preorders-sold-out-walmart-gamestop-target', 'urlToImage': 'https://platform.theverge.com/wp-content/uploads/sites/2/2025/03/STKR001_NINTENDO_SWITCH_3_I.png?quality=90&strip=all&crop=0%2C10.732984293194%2C100%2C78.534031413613&w=1200', 'publishedAt': '2025-04-24T18:04:02Z', 'content': 'Walmart, Target, Best Buy, and GameStop are no longer taking online preorders in the US.\\r\\nWalmart, Target, Best Buy, and GameStop are no longer taking online preorders in the US.\\r\\nNintendo Switch 2 p… [+1236 chars]'}, {'source': {'id': None, 'name': 'CNET'}, 'author': 'Robin Hartill', 'title': \"US Stock Market Is Plummeting Amid Tariff Mania. Should You 'Buy the Dip' or Stay the Course?\", 'description': 'New tariff policies have prompted a huge sell-off in the US stock markets and caused uncertainty for investors.', 'url': 'https://www.cnet.com/personal-finance/investing/us-stock-market-is-plummeting-amid-tariff-mania-should-you-buy-the-dip-or-stay-the-course/', 'urlToImage': 'https://www.cnet.com/a/img/resize/ba7baba64514990caae217b757f652fa773c1810/hub/2025/03/21/a1fc3d8d-f0dc-466f-a791-afb1ebaedfaa/gettyimages-2203826114.jpg?auto=webp&fit=crop&height=675&width=1200', 'publishedAt': '2025-04-07T18:56:00Z', 'content': 'The longterm impact of the\\xa0new US tariffs implemented by President Donald Trump\\xa0may be unclear, but the short-term effects are causing a downturn in the leading US markets.\\xa0\\r\\nAfter plunging into bear… [+5257 chars]'}, {'source': {'id': None, 'name': 'CNET'}, 'author': 'Robin Hartill', 'title': 'US Stock Market Sees Chaotic Swings Amid Tariff Mania. What Can You Do to Protect Your Retirement Savings?', 'description': 'New tariff policies have prompted a huge sell-off in the US stock markets and caused uncertainty for investors.', 'url': 'https://www.cnet.com/personal-finance/investing/us-stock-market-sees-chaotic-swings-amid-tariff-mania-what-can-you-do-to-protect-your-retirement-savings/', 'urlToImage': 'https://www.cnet.com/a/img/resize/ba7baba64514990caae217b757f652fa773c1810/hub/2025/03/21/a1fc3d8d-f0dc-466f-a791-afb1ebaedfaa/gettyimages-2203826114.jpg?auto=webp&fit=crop&height=675&width=1200', 'publishedAt': '2025-04-07T16:15:59Z', 'content': 'The longterm impact of the\\xa0new US tariffs implemented by President Donald Trump\\xa0may be unclear, but the short-term effects are causing chaos in the leading US markets.\\xa0\\r\\nAfter plunging into bear mark… [+4502 chars]'}, {'source': {'id': None, 'name': 'CNET'}, 'author': 'Robin Hartill', 'title': \"US Stock Market Plummets: Get Investing Experts' Advice for Protecting Your Savings\", 'description': 'New tariff policies have prompted a huge sell-off in the US stock markets and uncertainty for investors.', 'url': 'https://www.cnet.com/personal-finance/us-stock-market-plummets-get-investing-experts-advice-for-protecting-your-savings/', 'urlToImage': 'https://www.cnet.com/a/img/resize/ba7baba64514990caae217b757f652fa773c1810/hub/2025/03/21/a1fc3d8d-f0dc-466f-a791-afb1ebaedfaa/gettyimages-2203826114.jpg?auto=webp&fit=crop&height=675&width=1200', 'publishedAt': '2025-04-04T18:52:04Z', 'content': 'The long-term impact of the new US tariffs implemented by President Donald Trump may be uncertain, but the short-term effects have been obvious -- stock prices in the leading US markets are crumbling… [+4239 chars]'}, {'source': {'id': 'business-insider', 'name': 'Business Insider'}, 'author': 'hbullock@insider.com (Hallam Bullock)', 'title': \"Netflix's earnings report looked different this time around\", 'description': 'Despite worries about an economic slowdown, Netflix continues to prove itself to be a recession-resistant stock.', 'url': 'https://www.businessinsider.com/netflixs-earnings-report-beat-expectations-stock-rises-first-quarter-2025-4', 'urlToImage': 'https://i.insider.com/680237f93fe8d3928363711d?width=1200&format=jpeg', 'publishedAt': '2025-04-18T11:52:26Z', 'content': 'Good morning. President Donald Trump said Thursday that he expects an agreement \"over the next three to four weeks\" that would end the escalating trade war with China. Experts told BI which country h… [+4814 chars]'}, {'source': {'id': 'business-insider', 'name': 'Business Insider'}, 'author': 'Kwan Wei Kevin Tan', 'title': \"Trump says he doesn't want stocks to crater, but 'sometimes you have to take medicine'\", 'description': 'Trump announced reciprocal tariffs on over 180 countries. The move sparked panic in the stock market.', 'url': 'https://www.businessinsider.com/trump-stock-sell-off-sometimes-you-have-to-take-medicine-2025-4', 'urlToImage': 'https://i.insider.com/67f32b13b8b41a9673fcc81e?width=1200&format=jpeg', 'publishedAt': '2025-04-07T02:06:44Z', 'content': '\"I don\\'t want anything to go down, but sometimes you have to take medicine to fix something,\" President Donald Trump told reporters on Sunday.Chip Somodevilla via Getty Images\\r\\n<ul><li>President Dona… [+1610 chars]'}, {'source': {'id': None, 'name': 'Gizmodo.com'}, 'author': 'Gizmodo Deals', 'title': 'Pre-order Switch 2: Where to Buy the Switch 2 with Guaranteed Delivery on Launch Day?', 'description': 'You’ll want to pick the right place to preorder your Switch 2.', 'url': 'https://gizmodo.com/pre-order-switch-2-where-to-buy-the-switch-2-with-guaranteed-delivery-on-launch-day-2000593228', 'urlToImage': 'https://gizmodo.com/app/uploads/2025/04/nintendo-switch2.jpg', 'publishedAt': '2025-04-23T13:04:38Z', 'content': 'The Nintendo Switch 2 is now available to pre-order starting tonight with the official release date as June 5, 2025. Walmart is beginning pre-orders of the Switch 2 precisely at midnight Eastern Time… [+3469 chars]'}, {'source': {'id': 'business-insider', 'name': 'Business Insider'}, 'author': 'Shubhangi Goel', 'title': \"Read 4 brutal quotes of Dave & Buster's interim CEO absolutely tearing into the company's previous leadership\", 'description': \"The gaming and restaurant company's stock is down 70% in the last year.\", 'url': 'https://www.businessinsider.com/dave-and-busters-interim-ceo-tore-into-restaurants-old-leadership-2025-4', 'urlToImage': 'https://i.insider.com/67f756a23fe8d3928362a9d0?width=1024&format=jpeg', 'publishedAt': '2025-04-10T08:04:12Z', 'content': \"Dave & Buster's interim CEO tore into past leadership's management decisions.Mark Davis/Getty Images\\r\\n<ul><li>Dave & Buster's interim CEO criticized past leadership's management decisions.</li><li>Th… [+3047 chars]\"}, {'source': {'id': 'business-insider', 'name': 'Business Insider'}, 'author': 'Bradley Saacks', 'title': 'The markets are melting down. So far, the financial plumbing is intact.', 'description': 'Officials in the US and UK say bond and stock markets are stressed, but are OK.', 'url': 'https://www.businessinsider.com/markets-turmoil-financial-plumbing-hedge-funds-basis-trade-treasurys-bessent-2025-4', 'urlToImage': 'https://i.insider.com/66cf3671397a16897201eca6?width=1200&format=jpeg', 'publishedAt': '2025-04-09T16:39:58Z', 'content': 'A trading booth on the New York Stock Exchange.Brendan McDermid/Reuters\\r\\n<ul><li>Market volatility and trading volumes are sky-high, but the systems have so far handled the stress.</li><li>Regulators… [+2539 chars]'}, {'source': {'id': None, 'name': 'CNET'}, 'author': 'Christine Chan', 'title': \"More Than 20 4K Blu-rays are Available for $13 or Less During Amazon's Big Spring Sale\", 'description': \"Stock up on the physical copies of your favorite movies with these 4K Blu-ray deals at great discounts during Amazon's Big Spring Sale.\", 'url': 'https://www.cnet.com/tech/more-than-20-4k-blu-rays-are-available-at-a-massive-discount-during-amazon-big-spring-sale/', 'urlToImage': 'https://www.cnet.com/a/img/resize/dcd34f05dd578f334a1f9e0c7ce02b3446bff01d/hub/2025/03/28/4343eff5-00c7-4c11-a693-658b0bcc4e77/blu-ray.png?auto=webp&fit=crop&height=675&width=1200', 'publishedAt': '2025-03-29T00:00:00Z', 'content': 'Streaming services are the default choice for watching movies these days for most because they are fast and just a click away. However, owning physical copies of your favorite movies and shows still … [+2784 chars]'}, {'source': {'id': 'business-insider', 'name': 'Business Insider'}, 'author': 'ktangalakislippert@businessinsider.com (Katherine Tangalakis-Lippert,Lloyd Lee)', 'title': 'Elon Musk says xAI acquired X in an all-stock deal', 'description': 'Elon Musk announced in a post on X that his artificial intelligence company, xAI, had acquired the social media platform in an all-stock deal.', 'url': 'https://www.businessinsider.com/elon-musk-says-xai-acquired-x-in-all-stock-deal-2025-3', 'urlToImage': 'https://i.insider.com/67d87c42585f1dff88b25fba?width=1200&format=jpeg', 'publishedAt': '2025-03-28T21:37:22Z', 'content': 'Elon Musk on Friday announced in a post on X that his artificial intelligence company, xAI, had acquired his social media platform, X, in an all-stock deal.\\r\\n\"The combination values xAI at $80 billio… [+1393 chars]'}, {'source': {'id': 'business-insider', 'name': 'Business Insider'}, 'author': 'hbullock@insider.com (Hallam Bullock)', 'title': 'Investors are stunned after the stock market closed its worst quarter in 3 year', 'description': \"Investors have come to a grim realization: President Donalf Trump's not in their corner.\", 'url': 'https://www.businessinsider.com/investors-have-pain-ahead-2025-4', 'urlToImage': 'https://i.insider.com/673ca14efa0140cdd564391c?width=1200&format=jpeg', 'publishedAt': '2025-04-01T11:42:13Z', 'content': 'Good morning. Congratulations to Vice President JD Vance, who sold his home just outside Washington, DC, for $172,000 over the asking price after less than three weeks on the market. The buyer? A for… [+5729 chars]'}, {'source': {'id': 'business-insider', 'name': 'Business Insider'}, 'author': 'Thibault Spirlet', 'title': \"Elon Musk's zero-tariff proposal with Europe is a sign of weakness and fear, German economy minister says\", 'description': 'Germany\\'s finance minister said Elon Musk\\'s call for zero tariffs was \"ridiculous\" and motivated by the crumbling stock market.', 'url': 'https://www.businessinsider.com/elon-musks-zero-tariff-proposal-europe-weakness-german-economy-minister-2025-4', 'urlToImage': 'https://i.insider.com/67f3dcd7b8b41a9673fccff2?width=1200&format=jpeg', 'publishedAt': '2025-04-07T14:51:44Z', 'content': 'Elon Musk.Win McNamee/Getty Images\\r\\n<ul><li>Germany\\'s economy minister criticized Elon Musk\\'s zero-tariff proposal as a sign of \"weakness.\"</li><li>Robert Habeck said Musk should instead pressure Tru… [+1869 chars]'}, {'source': {'id': 'business-insider', 'name': 'Business Insider'}, 'author': 'Lakshmi Varanasi', 'title': \"Tesla bull Dan Ives has drastically cut his price target for Tesla, calling it a 'political symbol'\", 'description': \"Dan Ives' Wedbush Securities slashed its 12-month price target for the stock from $550 to $315 — a 43% cut.\", 'url': 'https://www.businessinsider.com/tesla-dan-ives-wedbush-price-target-cut-2025-4', 'urlToImage': 'https://i.insider.com/67f2ec775d203112923e36d3?width=1200&format=jpeg', 'publishedAt': '2025-04-06T21:08:28Z', 'content': \"Wedbush Securities analyst Dan Ives has given Tesla a gloomy 12-month forecast in light of brand backlash. Noah Berger/ AP Photo\\r\\n<ul><li>Dan Ives' Wedbush Securities cut its 12-month price target fo… [+2449 chars]\"}, {'source': {'id': 'business-insider', 'name': 'Business Insider'}, 'author': 'Katherine Li', 'title': \"These companies — or their leaders — donated to Trump's inauguration. Here's how much their share prices have dropped since then.\", 'description': 'The recent stock market downturn has affected share prices of Apple, Amazon, Google, Meta, Tesla, Uber, Goldman Sachs, and Oracle.', 'url': 'https://www.businessinsider.com/trump-inauguration-donors-see-company-stock-prices-plunge-since-then-2025-4', 'urlToImage': 'https://i.insider.com/67f462db3fe8d39283626325?width=1200&format=jpeg', 'publishedAt': '2025-04-08T22:26:57Z', 'content': \"Tech company CEOs at Trump's inauguration day.SHAWN THEW/via REUTERS\\r\\n<ul><li>Tech and finance stocks plunged after Trump's tariff announcement on April 2.</li><li>Trump's plan includes a blanket 10%… [+4711 chars]\"}, {'source': {'id': 'business-insider', 'name': 'Business Insider'}, 'author': 'vpersaud@insider.com (Vishal Persaud)', 'title': \"Venture capital's hopes of a 2025 resurgence have all but 'dimmed.' Blame the whipsawing stock market.\", 'description': \"Venture capital's hopes of more deals and liquidity this year seem unlikely as uncertainty in the stock market continues, says PitchBook.\", 'url': 'https://www.businessinsider.com/venture-capital-resurgence-hopes-fade-amid-stock-market-instability-2025-4', 'urlToImage': 'https://i.insider.com/67fd5408a466d2b74ab31e73?width=1200&format=jpeg', 'publishedAt': '2025-04-15T14:14:23Z', 'content': \"The venture capital ecosystem is still reeling from President Donald Trump's unleashing of global tariffs, which sent shockwaves through the global economic system.\\r\\nThat's sparking fears of another … [+3098 chars]\"}, {'source': {'id': 'business-insider', 'name': 'Business Insider'}, 'author': 'fdemott@businessinsider.com (Filip De Mott)', 'title': \"This is the next key level for investors to watch in the stock market's historic rout\", 'description': \"The stock market tumble could have more room to run as tariffs continue to wreak havoc, Morgan Stanley's Mike Wilson said.\", 'url': 'https://www.businessinsider.com/stock-crash-sp500-outlook-bear-market-trump-tariffs-trade-2025-4', 'urlToImage': 'https://i.insider.com/67f3f743c6ad288d147d67c0?width=1200&format=jpeg', 'publishedAt': '2025-04-07T16:39:06Z', 'content': \"With US indexes reeling from tariff pain, the market's descent might have a way to go before investors catch a lasting break.\\r\\nAccording to Morgan Stanley, the S&amp;P 500's next support is at the 4,… [+2491 chars]\"}, {'source': {'id': 'business-insider', 'name': 'Business Insider'}, 'author': 'htan@insider.com (Huileng Tan)', 'title': \"Hertz shares surge 50% after Bill Ackman's Pershing Square discloses a stake\", 'description': \"Even though Hertz's gains on Wednesday were massive, the car rental company's stock isn't a stranger to such eye-watering jumps.\", 'url': 'https://markets.businessinsider.com/news/stocks/hertz-stock-share-price-bill-ackman-pershing-square-stake-meme-2025-4', 'urlToImage': 'https://i.insider.com/68005598c6ad288d147e611f?width=1200&format=jpeg', 'publishedAt': '2025-04-17T02:56:00Z', 'content': \"Share prices of Hertz surged 56% after billionaire investor Bill Ackman's firm disclosed a stake in the car rental company.\\r\\nPershing Square Capital Management said in a regulatory filing on Wednesda… [+1498 chars]\"}, {'source': {'id': None, 'name': 'Slashdot.org'}, 'author': 'EditorDavid', 'title': \"Reddit's 50% Stock-Price Plunge Fails to Entice Buyers as Growth Slows\", 'description': 'Though it\\'s stock price is still up 200% from its IPO in March of 2024\\n— last week Reddit\\'s stock had dropped nearly 50% since February 7th. \\n\\n\\nAnd then this week, it dropped another 10%, reports Bloomberg, citing both the phenomenon of \"volatile technology s…', 'url': 'https://tech.slashdot.org/story/25/03/29/2152217/reddits-50-stock-price-plunge-fails-to-entice-buyers-as-growth-slows', 'urlToImage': 'https://a.fsdn.com/sd/topics/business_64.png', 'publishedAt': '2025-03-30T00:34:00Z', 'content': \"Though it's stock price is still up 200% from its IPO in March of 2024\\r\\n— last week Reddit's stock had dropped nearly 50% since February 7th.And then this week, it dropped another 10%, reports Bloomb… [+2101 chars]\"}, {'source': {'id': 'business-insider', 'name': 'Business Insider'}, 'author': 'Katherine Li', 'title': \"Markets react to Trump's 'Liberation Day' tariffs as stocks plunge in after-hours trading\", 'description': 'US stock futures cratered after Trump unveiled his long-anticipated tariffs in an address at the White House Rose Garden on Wednesday.', 'url': 'https://www.businessinsider.com/stock-market-futures-trump-liberation-day-tariffs-apple-nike-amazon-2025-4', 'urlToImage': 'https://i.insider.com/67edd19eb8b41a9673fc7e88?width=1200&format=jpeg', 'publishedAt': '2025-04-03T00:58:50Z', 'content': 'Trump holds up a graph that supposedly shows how much tariff other countries have on the US, versus what he calls \"reciprocal tariffs.\"Carlos Barria/REUTERS\\r\\n<ul><li>Global markets plummeted after Tr… [+2861 chars]'}, {'source': {'id': 'business-insider', 'name': 'Business Insider'}, 'author': 'Shubhangi Goel', 'title': \"Restoration Hardware's CEO cursed on an earnings call after he realized the stock was tanking\", 'description': \"Gary Friedman said a four-letter word when he found out the luxury home furnishing company's stock fell 26% after hours.\", 'url': 'https://www.businessinsider.com/restoration-hardware-ceo-cursed-when-stock-nosedived-trump-tariffs-2025-4', 'urlToImage': 'https://i.insider.com/67ee1e84b8b41a9673fc80d7?width=798&format=jpeg', 'publishedAt': '2025-04-03T07:14:12Z', 'content': \"Restoration Hardware's CEO cursed on an earnings call after realizing the company's stock nosedived on Wednesday.Jeff Schear/Getty Image\\r\\n<ul><li>Restoration Hardware's stock plunged 26% after a majo… [+2940 chars]\"}, {'source': {'id': 'business-insider', 'name': 'Business Insider'}, 'author': 'Erica Star Domena,Rachel Cohn', 'title': 'These 5 charts show how tight the competition is between Tesla and Chinese rival BYD', 'description': 'Annual revenue, profit, stock prices and sold EVs show how close the competition is between Tesla and its Chinese rival BDY.', 'url': 'https://www.businessinsider.com/5-charts-show-tight-competition-between-tesla-and-chinese-byd-2025-4', 'urlToImage': 'https://i.insider.com/67ec4b5c63d72727e198e36b?width=1200&format=jpeg', 'publishedAt': '2025-04-01T20:39:46Z', 'content': 'Annual revenue, profit, stock prices and sold EVs show how close the competition is between Tesla and its Chinese rival, BDY.Read the original article on Business Insider'}, {'source': {'id': 'business-insider', 'name': 'Business Insider'}, 'author': 'Bryan Metzger', 'title': 'As Democrats rage against Elon Musk, some are still buying Tesla stock', 'description': 'Some Democrats on Capitol Hill have invested in Tesla in recent weeks, even amid the anti-Musk furor.', 'url': 'https://www.businessinsider.com/democrats-invested-elon-musk-tesla-stock-2025-3', 'urlToImage': 'https://i.insider.com/67e6d78b63d72727e198908b?width=1200&format=jpeg', 'publishedAt': '2025-03-28T18:58:14Z', 'content': 'Democratic Reps. Vicente Gonzalez, Josh Gottheimer, and Gil Cisneros all recently bought stock in Tesla, according to financial disclosures.Bill Clark/CQ-Roll Call via Getty Images; Anna Moneymaker/G… [+3079 chars]'}, {'source': {'id': None, 'name': 'Hackaday'}, 'author': 'Maya Posch', 'title': 'Hacking a Cheap Rechargeable Lamp With Non-Standard USB-C Connector', 'description': 'Recently [Dillan Stock] over at\\xa0The Stock Pot YouTube channel bought a $17 ‘mushroom’ lamp from his local Kmart that listed ‘USB-C rechargeable’ as one of its features, the only problem …read more', 'url': 'https://hackaday.com/2025/04/12/hacking-a-cheap-rechargeable-lamp-with-non-standard-usb-c-connector/', 'urlToImage': 'https://hackaday.com/wp-content/uploads/2025/04/kmart_inaya_portable_rechargeable_lamp_hacked_the_stock_pot_youtube.jpg', 'publishedAt': '2025-04-12T23:00:55Z', 'content': 'The “USB C” cable that comes with the Inaya Portable Rechargeable Lamp. (Credit: The Stock Pot, YouTube)\\r\\nRecently [Dillan Stock] over at\\xa0The Stock Pot YouTube channel bought a $17 ‘mushroom’ lamp fr… [+1987 chars]'}, {'source': {'id': 'business-insider', 'name': 'Business Insider'}, 'author': 'Nora Redmond', 'title': \"Trump needs to strike some trade deals so people can 'start to plan,' says Goldman Sachs CEO David Solomon\", 'description': 'The Goldman Sachs CEO told CNBC that a \"road map and a clear understanding as to where we\\'re going\" on tariffs would help stock markets recover.', 'url': 'https://www.businessinsider.com/david-solomon-goldman-sachs-trump-tariffs-trade-deals-stock-markets-2025-4', 'urlToImage': 'https://i.insider.com/68078c173fe8d3928363ac13?width=1200&format=jpeg', 'publishedAt': '2025-04-22T14:10:44Z', 'content': 'Goldman Sachs CEO David Solomon.Getty\\r\\n<ul><li>David Solomon said a trade deal format would give investors clarity and help them plan for the future.</li><li>The Goldman Sachs CEO said investors were… [+2442 chars]'}, {'source': {'id': 'business-insider', 'name': 'Business Insider'}, 'author': 'Katherine Li', 'title': 'Here is how much the Magnificent 7 lost after stocks tanked over tariff warnings from the Fed and Nvidia', 'description': 'Investors were rattled on Wednesday as dual tariff related news from Nvidia and the Fed trigger a sharp stock sell-off.', 'url': 'https://www.businessinsider.com/magnificent-7-stock-value-loss-market-tank-nvidia-tariffs-fed-2025-4', 'urlToImage': 'https://i.insider.com/6800136da466d2b74ab35e40?width=1200&format=jpeg', 'publishedAt': '2025-04-17T01:33:03Z', 'content': 'Markets plummet as Nvidia and Federal Reserve warnings shake investor confidence.Brendan McDermid/REUTERS\\r\\n<ul><li>Markets dropped as Nvidia and the Federal Reserve headlines shook investor confidenc… [+4877 chars]'}, {'source': {'id': 'business-insider', 'name': 'Business Insider'}, 'author': 'Dakin Campbell', 'title': \"The latest victim of Trump's tariffs: IPOs\", 'description': \"Tech companies like Klarna and StubHub were set to make their stock market debuts. Instead, IPOs are the latest victim of Trump's tariffs.\", 'url': 'https://www.businessinsider.com/ipo-comeback-victim-trump-tariffs-stock-market-crash-2025-4', 'urlToImage': 'https://i.insider.com/67f29feb63d72727e1995298?width=1200&format=jpeg', 'publishedAt': '2025-04-07T08:09:01Z', 'content': 'A few months ago, after years of abysmal performance, it looked like IPOs were finally set for a comeback. ServiceTitan, a software platform for general contractors, saw its stock soar by 35% after i… [+7740 chars]'}, {'source': {'id': 'business-insider', 'name': 'Business Insider'}, 'author': 'Theron Mohamed', 'title': \"Warren Buffett's company just raised $628 million selling samurai bonds as Trump's tariffs rocked markets\", 'description': \"Warren Buffett's Berkshire Hathaway forged ahead with a yen bond sale, fueling speculation the investor is preparing for a stock-buying spree.\", 'url': 'https://www.businessinsider.com/warren-buffett-berkshire-hathaway-japan-stocks-bonds-trump-tariffs-investing-2025-4', 'urlToImage': 'https://i.insider.com/67f907abc6ad288d147de43a?width=1200&format=jpeg', 'publishedAt': '2025-04-11T14:09:58Z', 'content': \"Berkshire Hathaway CEO Warren Buffett just made another counterintuitive move.Reuters/Shannon Stapleton\\r\\n<ul><li>Warren Buffett's Berkshire Hathaway issued $628 million of so-called samurai bonds on … [+3879 chars]\"}, {'source': {'id': 'business-insider', 'name': 'Business Insider'}, 'author': 'Milan Sehmbi', 'title': 'Gucci is still out of fashion as sales slump again', 'description': 'François-Henri Pinault said Kering faced a \"difficult start to the year.\" Stock in the Gucci and Bottega Veneta has almost halved in the past 12 months.', 'url': 'https://www.businessinsider.com/gucci-sales-slump-luxury-decline-kering-pinault-2025-4', 'urlToImage': 'https://i.insider.com/6809f1d93fe8d3928363ebda?width=1200&format=jpeg', 'publishedAt': '2025-04-24T12:46:03Z', 'content': 'Gucci sales continue to struggle.SEBASTIEN DUPUY/AFP via Getty Images\\r\\n<ul><li>Gucci sales fell 25% in the first quarter to 1.6 billion euros.</li><li>The decline contributed to a 14% decrease in own… [+2386 chars]'}, {'source': {'id': 'espn', 'name': 'ESPN'}, 'author': 'Eric Karabell', 'title': 'Bullpen stock watch: Surprise closer in Texas', 'description': 'Everything fantasy baseball managers need to know about which closers should be added, dropped, and more.', 'url': 'https://www.espn.com/fantasy/baseball/story/_/id/44585370/fantasy-baseball-espn-news-mlb-closers-relievers-updates-stock-watch-injuries-april-8', 'urlToImage': 'https://a.espncdn.com/combiner/i?img=%2Fphoto%2F2025%2F0408%2Fr1475615_1296x729_16%2D9.jpg', 'publishedAt': '2025-04-08T16:51:45Z', 'content': 'Texas Rangers RHP Chris Martin and LHP Robert Garcia sure seemed like the leading contenders to earn saves for veteran manager Bruce Bochy this season -- and Bochy sure did not dissuade anyone from t… [+9381 chars]'}, {'source': {'id': None, 'name': 'Yahoo Entertainment'}, 'author': None, 'title': 'Are You Looking for a High-Growth Dividend Stock?', 'description': None, 'url': 'https://consent.yahoo.com/v2/collectConsent?sessionId=1_cc-session_680468b7-3cc4-4247-ab57-03564554fcd7', 'urlToImage': None, 'publishedAt': '2025-03-31T15:45:08Z', 'content': \"If you click 'Accept all', we and our partners, including 238 who are part of the IAB Transparency &amp; Consent Framework, will also store and/or access information on a device (in other words, use … [+702 chars]\"}, {'source': {'id': None, 'name': 'Yahoo Entertainment'}, 'author': None, 'title': 'Why Trump tariffs may torpedo the stock market', 'description': None, 'url': 'https://consent.yahoo.com/v2/collectConsent?sessionId=1_cc-session_ee79e360-818d-42d6-a948-7f15b947f3cc', 'urlToImage': None, 'publishedAt': '2025-04-02T12:20:41Z', 'content': \"If you click 'Accept all', we and our partners, including 239 who are part of the IAB Transparency &amp; Consent Framework, will also store and/or access information on a device (in other words, use … [+702 chars]\"}, {'source': {'id': None, 'name': 'Yahoo Entertainment'}, 'author': None, 'title': \"Occidental Petroleum (OXY) Laps the Stock Market: Here's Why\", 'description': None, 'url': 'https://consent.yahoo.com/v2/collectConsent?sessionId=1_cc-session_46ce7bad-7659-44f8-9b85-9703c0d49e84', 'urlToImage': None, 'publishedAt': '2025-03-31T21:50:16Z', 'content': \"If you click 'Accept all', we and our partners, including 238 who are part of the IAB Transparency &amp; Consent Framework, will also store and/or access information on a device (in other words, use … [+702 chars]\"}, {'source': {'id': 'business-insider', 'name': 'Business Insider'}, 'author': 'jsor@businessinsider.com (Jennifer Sor)', 'title': \"The bond market went haywire this week. Here's why that's a warning for the US and Trump.\", 'description': \"The stock market got a lot of attention this week, but the bigger story was going on in the debt market. Here's what the spike is yields is telling us.\", 'url': 'https://www.businessinsider.com/bond-yields-sell-off-trump-tariffs-trade-war-us-debt-2025-4', 'urlToImage': 'https://i.insider.com/67f951b4a466d2b74ab2f6fe?width=1200&format=jpeg', 'publishedAt': '2025-04-12T08:00:02Z', 'content': 'The bond market sent a warning to Donald Trump this week.\\r\\nA sharp sell-off in Treasurysunusual in times when recession fears are high and stocks are crateringhad a hand in pushing the president to p… [+6667 chars]'}, {'source': {'id': None, 'name': 'Yahoo Entertainment'}, 'author': 'Reuters Videos', 'title': 'Denmark starts rebuilding historic stock exchange destroyed by fire', 'description': 'STORY: :: Denmark is rebuilding its historic stock exchange, destroyed by a fire a year ago:: April 16, 2024:: Copenhagen, Denmark:: April 15, 2025:: Lars...', 'url': 'https://www.yahoo.com/news/denmark-starts-rebuilding-historic-stock-201307177.html', 'urlToImage': 'https://media.zenfs.com/en/video.reutersnews.com/de62a8c9dde114f9631592b6f57325a1', 'publishedAt': '2025-04-15T20:13:07Z', 'content': 'STORY: :: Denmark is rebuilding its historic stock exchange, destroyed by a fire a year ago\\r\\n:: April 16, 2024\\r\\n:: Copenhagen, Denmark\\r\\n:: April 15, 2025\\r\\n:: Lars Daugaard Jepsen, Head of Reconstruct… [+985 chars]'}, {'source': {'id': None, 'name': 'Investopedia'}, 'author': 'David Marino-Nachison', 'title': \"This Event Could Be the Next Catalyst for Intel's Stock\", 'description': 'Shares of Intel finished the week on a down note after its latest financial outlook disappointed investors. The stock’s next catalyst might be just a few...', 'url': 'https://www.investopedia.com/this-event-could-be-the-next-catalyst-for-intel-stock-11722067', 'urlToImage': 'https://s.yimg.com/ny/api/res/1.2/Hz.ggatQFm5U.b153Z9YGA--/YXBwaWQ9aGlnaGxhbmRlcjt3PTEyMDA7aD04MDA-/https://media.zenfs.com/en/investopedia_245/6eae5b0d615d576d896eb4e43bcbfe52', 'publishedAt': '2025-04-26T09:00:00Z', 'content': 'I-Hwa Cheng / AFP / Getty Images\\r\\nShares of Intel (INTC) finished the week on a down note after its latest financial outlook disappointed investors. The stocks next catalyst might be just a few days … [+1758 chars]'}, {'source': {'id': 'business-insider', 'name': 'Business Insider'}, 'author': 'jsor@businessinsider.com (Jennifer Sor)', 'title': 'Goldman Sachs slashed its S&P 500 target again, with tariffs set to hit stock returns and economic growth', 'description': 'Goldman Sachs cut its S&P 500 target and raised its recession forecast. The bank now sees a 35% chance of a recession in the next 12 months.', 'url': 'https://www.businessinsider.com/stock-market-outlook-sp500-recession-tariffs-goldman-sachs-stock-correction-2025-3', 'urlToImage': 'https://i.insider.com/66d2065643b5e59d16b727c4?width=1200&format=jpeg', 'publishedAt': '2025-03-31T13:58:00Z', 'content': 'The outlook for the stock market is becoming increasingly uncertain, thanks largely to the potential impact of an escalating global trade war. \\r\\nStrategists at Goldman Sachs on Sunday night slashed t… [+2946 chars]'}, {'source': {'id': None, 'name': 'Yahoo Entertainment'}, 'author': None, 'title': 'SOUN Stock Down 63.1% YTD: Buying Opportunity for AI Investors?', 'description': None, 'url': 'https://consent.yahoo.com/v2/collectConsent?sessionId=1_cc-session_1a8aebfc-844b-41d6-b515-72e352b8cc9e', 'urlToImage': None, 'publishedAt': '2025-04-07T15:11:00Z', 'content': \"If you click 'Accept all', we and our partners, including 239 who are part of the IAB Transparency &amp; Consent Framework, will also store and/or access information on a device (in other words, use … [+702 chars]\"}, {'source': {'id': None, 'name': 'Yahoo Entertainment'}, 'author': None, 'title': 'Global stock markets up amid Trump tariffs exemptions for electronics', 'description': None, 'url': 'https://consent.yahoo.com/v2/collectConsent?sessionId=1_cc-session_1da5f493-2599-4d68-bb1b-1fa4c123c695', 'urlToImage': None, 'publishedAt': '2025-04-14T10:32:00Z', 'content': \"If you click 'Accept all', we and our partners, including 239 who are part of the IAB Transparency &amp; Consent Framework, will also store and/or access information on a device (in other words, use … [+702 chars]\"}, {'source': {'id': None, 'name': 'Yahoo Entertainment'}, 'author': 'Brian Sozzi', 'title': 'Why the latest stock market pullback feels right', 'description': 'Markets need more clarity on tariffs. Bottom line.', 'url': 'https://finance.yahoo.com/news/why-the-latest-stock-market-pullback-feels-right-123015811.html', 'urlToImage': 'https://s.yimg.com/ny/api/res/1.2/.08dfEwXb4PjSqD.cuCGMQ--/YXBwaWQ9aGlnaGxhbmRlcjt3PTEyMDA7aD04MDA-/https://s.yimg.com/os/creatr-uploaded-images/2025-04/01faabb0-1bae-11f0-bfed-d29fa699d91e', 'publishedAt': '2025-04-20T12:30:15Z', 'content': \"This is The Takeaway from today's Morning Brief, which you can sign up to receive in your inbox every morning along with:\\r\\n<ul><li>The chart of the day\\r\\n</li><li>What we're watching\\r\\n</li><li>What we… [+4179 chars]\"}, {'source': {'id': None, 'name': 'Yahoo Entertainment'}, 'author': None, 'title': 'Bank of America unveils shocking Apple stock target before earnings', 'description': None, 'url': 'https://consent.yahoo.com/v2/collectConsent?sessionId=1_cc-session_0904e577-eaf4-4068-a3dc-1372ae260e69', 'urlToImage': None, 'publishedAt': '2025-04-25T15:03:00Z', 'content': \"If you click 'Accept all', we and our partners, including 241 who are part of the IAB Transparency &amp; Consent Framework, will also store and/or access information on a device (in other words, use … [+702 chars]\"}, {'source': {'id': 'wired', 'name': 'Wired'}, 'author': 'Megan Farokhmanesh', 'title': 'Nintendo Delays Switch 2 Preorders Thanks to Trump’s Tariffs', 'description': \"In an unprecedented move, Nintendo has pushed preorders for its highly-anticipated Switch 2 to an unknown date. Why? Trump's tariffs.\", 'url': 'https://www.wired.com/story/nintendo-delays-switch-2-pre-orders-over-trump-tariffs/', 'urlToImage': 'https://media.wired.com/photos/67effc00a90cc5f08ff7bdcf/191:100/w_1280,c_limit/DSC_3410%20(1).jpg', 'publishedAt': '2025-04-04T16:16:51Z', 'content': 'Bad news for US-based Nintendo fans whod planned to preorder the Switch 2 on April 9: the company is delaying purchases for the console in order to assess the potential impact of tariffs and evolving… [+2017 chars]'}, {'source': {'id': None, 'name': 'Gizmodo.com'}, 'author': 'Gizmodo Deals', 'title': 'Pre-order Switch 2: Why You Should Buy It at Walmart and Nowhere Else?', 'description': 'Walmart guarantees delivery on the very day the item is available.', 'url': 'https://gizmodo.com/pre-order-switch-2-why-you-should-buy-it-at-walmart-and-nowhere-else-2000593280', 'urlToImage': 'https://gizmodo.com/app/uploads/2025/04/switch-2.jpg', 'publishedAt': '2025-04-23T20:42:58Z', 'content': 'The Nintendo Switch 2 is getting closer to make its grand entrance and for fans looking to lay hands on one, knowing the precise where and when of the preorder is most important. After an initial ann… [+2450 chars]'}, {'source': {'id': None, 'name': 'Gizmodo.com'}, 'author': 'Kyle Barr', 'title': 'GameStop Absolutely Bungles Nintendo Switch 2 First Day Preorders', 'description': \"GameStop's Switch 2 preorders were so bad, some customers don't even know if they successfully ordered one.\", 'url': 'https://gizmodo.com/gamestop-absolutely-bungles-nintendo-switch-2-day-1-preorders-2000593926', 'urlToImage': 'https://gizmodo.com/app/uploads/2025/04/Nintendo-Switch-2-Donkey-Kong-Bananza-1.jpg', 'publishedAt': '2025-04-24T17:00:12Z', 'content': 'Well, that could have gone better.\\r\\nAfter a night (probably a nightmare for many) of trying to acquire a Nintendo Switch 2 from retailers like Walmart, Best Buy, and Target, GameStop was the last hop… [+3316 chars]'}, {'source': {'id': 'the-verge', 'name': 'The Verge'}, 'author': 'Andrew J. Hawkins', 'title': 'Tesla Supercharger damaged in possible explosion in Washington', 'description': 'A Tesla Supercharger station was severely damaged in a possible explosion in Lacey, Washington. The local police department is investigating the incident, along with the FBI, which has been probing a number of acts of vandalism involving Tesla. The Lacey Poli…', 'url': 'https://www.theverge.com/news/645378/tesla-supercharger-damaged-explosion-washington', 'urlToImage': 'https://platform.theverge.com/wp-content/uploads/sites/2/2025/04/488841251_18270940702281647_3604899514035092422_n.jpg?quality=90&strip=all&crop=0%2C15.095986038394%2C100%2C69.808027923211&w=1200', 'publishedAt': '2025-04-08T19:00:44Z', 'content': 'The damaged Tesla Supercharger in Lacey, Washington. | Image: Lacey Police Department via Facebook\\r\\n\\n\\nA Tesla Supercharger station was severely damaged in a possible explosion in Lacey, Washington. T… [+2091 chars]'}, {'source': {'id': 'the-verge', 'name': 'The Verge'}, 'author': 'Chris Welch', 'title': 'Sonos says it’s ‘actively assessing’ what Trump tariffs will mean for customers', 'description': 'Even with all the self-induced turmoil that Sonos has been through over the last year, if you’ve been eyeing any of the company’s products, it might be wise to buy sooner than later. In an email, spokesperson Erin Pategas tells me that Sonos is “closely monit…', 'url': 'https://www.theverge.com/news/642913/sonos-trump-tariffs-statement-prices-supply-chain', 'urlToImage': 'https://platform.theverge.com/wp-content/uploads/sites/2/chorus/uploads/chorus_asset/file/24920161/DSCF2979.jpg?quality=90&strip=all&crop=0%2C10.732984293194%2C100%2C78.534031413613&w=1200', 'publishedAt': '2025-04-03T19:18:59Z', 'content': 'The company has raised prices before during supply chain disruptions, but for now, its taking a wait-and-see approach on potential implications.\\r\\nThe company has raised prices before during supply ch… [+2269 chars]'}, {'source': {'id': 'the-verge', 'name': 'The Verge'}, 'author': 'Jess Weatherbed', 'title': 'Judge berates AI entrepreneur for using a generated ‘lawyer’ in court', 'description': 'A man’s recent attempt to use an AI-generated avatar in his legal appeal made an immediate impression on a New York courtroom, but probably not the one he was hoping for.\\xa0 Jerome Dewald — a 74-year-old that The Register notes is behind a startup that says it’…', 'url': 'https://www.theverge.com/news/646372/ai-lawyer-artificial-avatar-new-york-court-case-video', 'urlToImage': 'https://platform.theverge.com/wp-content/uploads/sites/2/2025/04/STK414_AI_CVIRGINIA_2_C.jpg?quality=90&strip=all&crop=0%2C10.732984293194%2C100%2C78.534031413613&w=1200', 'publishedAt': '2025-04-10T11:37:15Z', 'content': 'You are not going to use this courtroom as a launch for your business.\\r\\nYou are not going to use this courtroom as a launch for your business.\\r\\nA mans recent attempt to use an AI-generated avatar in … [+1858 chars]'}, {'source': {'id': 'business-insider', 'name': 'Business Insider'}, 'author': 'fdemott@businessinsider.com (Filip De Mott)', 'title': 'BofA warns earnings in this corner of the stock market could be headed for a 20% drop because of tariffs', 'description': 'Firms that deal with housing products are facing a major EPS hit from the trade war, Bank of America wrote Tuesday.', 'url': 'https://www.businessinsider.com/tariff-impact-on-stocks-earnings-housing-market-tariff-trade-war-2025-4', 'urlToImage': 'https://i.insider.com/67f5472d3fe8d392836272c3?width=1200&format=jpeg', 'publishedAt': '2025-04-08T16:53:44Z', 'content': 'A double-digit earnings hit to American building product companies is on the horizon as tariffs stir up industry headwinds.\\r\\nBank of America said unmitigated earnings-per-share could tank 20% across … [+1791 chars]'}, {'source': {'id': None, 'name': 'NPR'}, 'author': 'Bobby Allyn', 'title': 'How a false X post about pausing tariffs led to multi-trillion-dollar market swings', 'description': 'What began as a misquoted Fox News interview led to a flood of false and misleading posts on X. Before it was corrected, stock markets rallied then plummeted again.', 'url': 'https://www.npr.org/2025/04/07/nx-s1-5355055/tariffs-markets-x-social-media', 'urlToImage': 'https://npr.brightspotcdn.com/dims3/default/strip/false/crop/4873x2741+0+253/resize/1400/quality/100/format/jpeg/?url=http%3A%2F%2Fnpr-brightspot.s3.amazonaws.com%2F91%2Fb0%2Fb6a86b794280955db9f37628bb26%2Fap25097747709006.jpg', 'publishedAt': '2025-04-07T22:14:07Z', 'content': \"Multi-trillion-dollar stock market swings on Monday appear to have been set off by false reports on Elon Musk's X. Experts say the episode highlights the social media site's enduring relevance, even … [+3413 chars]\"}, {'source': {'id': 'business-insider', 'name': 'Business Insider'}, 'author': 'Bryan Metzger', 'title': \"It may be weeks before we learn which politicians cashed in on Trump's tariff-driven stock market dip\", 'description': \"Democrats are raising alarms about potential insider trading. There's no evidence yet, but lawmakers and Trump advisors have to disclose by mid-May.\", 'url': 'https://www.businessinsider.com/politicians-insider-trading-stock-market-tariffs-trump-disclosures-timing-2025-4', 'urlToImage': 'https://i.insider.com/67f914fe3fe8d3928362cf03?width=1200&format=jpeg', 'publishedAt': '2025-04-11T18:29:58Z', 'content': \"Rep. Marjorie Taylor Greene bought thousands of dollars of stock in 17 different companies as markets began to tank in the wake of Trump's tariff announcement.Allison Robbert/AFP via Getty Images\\r\\n<u… [+5515 chars]\"}, {'source': {'id': None, 'name': 'Packaging-gateway.com'}, 'author': 'Mohamed Dabo', 'title': 'Are Target’s wine bottles the start of a paper revolution?', 'description': \"Target's decision to stock wine in paper bottles could be a sign of evolving attitudes toward sustainability in retail.\", 'url': 'https://www.packaging-gateway.com/comment/are-targets-wine-bottles-the-start-of-a-paper-revolution/', 'urlToImage': 'https://media.zenfs.com/en/packaging_gateway_559/71a23df827be7b77d546fb1780085e81', 'publishedAt': '2025-04-22T01:03:12Z', 'content': \"In a move that could signal a significant shift in wine packaging, Target has become the first major US retailer to introduce a range of wines in paper bottles. The retailer's new 'Collective Good' l… [+2935 chars]\"}, {'source': {'id': None, 'name': 'Yahoo Entertainment'}, 'author': 'editorial-team@simplywallst.com (Simply Wall St)', 'title': \"Occidental Petroleum Corporation's (NYSE:OXY) Stock Has Shown Weakness Lately But Financial Prospects Look Decent: Is The Market Wrong?\", 'description': 'Occidental Petroleum (NYSE:OXY) has had a rough three months with its share price down 27%. However, stock prices are...', 'url': 'https://finance.yahoo.com/news/occidental-petroleum-corporations-nyse-oxy-120021938.html', 'urlToImage': 'https://media.zenfs.com/en/simply_wall_st__316/4866bd2f9f2f232a533557acb6efc384', 'publishedAt': '2025-04-12T12:00:21Z', 'content': 'Occidental Petroleum (NYSE:OXY) has had a rough three months with its share price down 27%. However, stock prices are usually driven by a companys financials over the long term, which in this case lo… [+5008 chars]'}, {'source': {'id': 'the-verge', 'name': 'The Verge'}, 'author': 'Jennifer Pattison Tuohy', 'title': 'Google discontinues Nest Protect smoke alarm and Nest x Yale door lock', 'description': 'In this week’s least surprising news, Google has announced it’s discontinuing the Nest Protect Smart Smoke and CO alarm and the Nest x Yale smart door lock. The Nest Protect, which has long been one of the best smart smoke alarms you can buy, has been hard to…', 'url': 'https://www.theverge.com/news/638171/google-discontinuing-nest-protect-smoke-alarm-nest-x-yale-smart-lock', 'urlToImage': 'https://platform.theverge.com/wp-content/uploads/sites/2/2025/03/nestprotect-1020-4.1419980263.webp?quality=90&strip=all&crop=0,11.003258737587,100,77.993482524827', 'publishedAt': '2025-03-28T15:05:00Z', 'content': 'The popular products will be replaced by new models from First Alert and Yale.\\r\\nIn this weeks least surprising news, Google has announced its discontinuing the Nest Protect Smart Smoke and CO alarm a… [+2888 chars]'}, {'source': {'id': 'abc-news', 'name': 'ABC News'}, 'author': 'David Brennan', 'title': \"Stock markets jittery as Trump's 'Liberation Day' tariffs loom\", 'description': \"Global markets saw a wave of selloffs on Monday morning ahead of the expected introduction of President Donald Trump's sweeping tariffs on Wednesday.\", 'url': 'https://abcnews.go.com/Business/markets-jittery-trumps-liberation-day-tariffs-loom/story?id=120325114', 'urlToImage': 'https://i.abcnewsfe.com/a/02a9d28b-77dd-4fe9-a2d9-b4a8e7eb0fb9/SK-markets-tariffs-DB-250331_1743418833103_hpMain_16x9.jpg?w=1600', 'publishedAt': '2025-03-31T11:14:09Z', 'content': 'Foreign markets saw a wave of selloffs on Monday morning ahead of the expected introduction of President Donald Trump\\'s sweeping tariffs on Wednesday, measures the president said will impact \"all cou… [+2203 chars]'}, {'source': {'id': 'abc-news', 'name': 'ABC News'}, 'author': 'David Brennan', 'title': \"Stock markets tumble in response to Trump's sweeping tariffs\", 'description': \"Foreign stock markets tumbled after opening on Thursday morning following President Donald Trump's announcement of a raft of tariffs on America's trade partners.\", 'url': 'https://abcnews.go.com/Business/stock-markets-tumble-response-trumps-sweeping-tariffs/story?id=120440390', 'urlToImage': 'https://i.abcnewsfe.com/a/47ad607f-6962-4805-88db-7eae251be31a/trump-pointing-gty-jt-250402_1743627433345_hpMain_16x9.jpg?w=1600', 'publishedAt': '2025-04-03T06:37:28Z', 'content': \"Foreign stock markets tumbled on Thursday morning following President Donald Trump's announcement of a raft of tariffs on America's trade partners -- including a minimum baseline tariff of 10% on all… [+2665 chars]\"}, {'source': {'id': None, 'name': 'Yahoo Entertainment'}, 'author': None, 'title': 'Elon Musk sells X to his own xAI for $33 billion in all-stock deal', 'description': None, 'url': 'https://consent.yahoo.com/v2/collectConsent?sessionId=1_cc-session_3b6f3dfd-4e8f-4aff-bc6f-316fb6e71b3a', 'urlToImage': None, 'publishedAt': '2025-03-28T22:52:46Z', 'content': \"If you click 'Accept all', we and our partners, including 238 who are part of the IAB Transparency &amp; Consent Framework, will also store and/or access information on a device (in other words, use … [+702 chars]\"}, {'source': {'id': 'time', 'name': 'Time'}, 'author': 'DARLENE SUPERVILLE / AP', 'title': 'Trump Says Things Are ‘Going Very Well’ After Worst Stock Market Drop in Years Over Tariffs', 'description': '“The markets are going to boom, the stock is going to boom, the country is going to boom,” Trump said.', 'url': 'https://time.com/7274812/trump-says-things-are-going-well-tariffs-stock-market-fallout/', 'urlToImage': 'https://api.time.com/wp-content/uploads/2025/04/GettyImages-2207581122-1.jpg?quality=85&w=1200&h=628&crop=1', 'publishedAt': '2025-04-04T09:42:24Z', 'content': \"WASHINGTON President Donald Trump offered a rosy assessment after the stock market dropped sharply Thursday over his tariffs, saying, I think it's going very well.\\r\\nThe markets are going to boom, the… [+2013 chars]\"}, {'source': {'id': 'time', 'name': 'Time'}, 'author': 'Rebecca Schneid', 'title': 'What Trump’s Tariffs Mean for Mortgage Rates', 'description': \"As the stock market volatility rocks the U.S. economy, homebuyers wonder how President Trump's tariffs will affect mortgage rates.\", 'url': 'https://time.com/7276132/what-trumps-tariffs-mean-for-mortgage-rates/', 'urlToImage': 'https://api.time.com/wp-content/uploads/2025/04/GettyImages-2203496677.jpg?quality=85&w=1024&h=628&crop=1', 'publishedAt': '2025-04-09T17:48:58Z', 'content': 'Last week, after President Donald Trumps introduction of his Liberation Day tariffs, the global and U.S. stock markets took a major hit, as Wall Street slumped and the U.S. dollar dipped.\\xa0\\r\\nAs Trump … [+4866 chars]'}, {'source': {'id': None, 'name': 'BBC News'}, 'author': None, 'title': 'Trump steps back from cliff edge of all-out global trade war', 'description': 'The US is now making nice – or at least nicer - with nations that had faced their retaliatory trade fire, writes Anthony Zurcher.', 'url': 'https://www.bbc.com/news/articles/cx255d13w13o', 'urlToImage': 'https://ichef.bbci.co.uk/news/1024/branded_news/c0c8/live/7f07f460-159a-11f0-8a1e-3ff815141b98.jpg', 'publishedAt': '2025-04-09T23:31:16Z', 'content': 'For days, Donald Trump and his White House team had insisted they were fully committed to their decision to impose sweeping \"reciprocal\" tariffs on dozens of countries. They even derided a report on … [+3563 chars]'}, {'source': {'id': 'wired', 'name': 'Wired'}, 'author': 'Steven Levy', 'title': 'The Meta Trial Shows the Dangers of Selling Out', 'description': 'Several founders of hot startups took big payouts and let Mark Zuckerberg gobble up their companies—and came to regret it.', 'url': 'https://www.wired.com/story/the-meta-trial-shows-the-dangers-of-selling-out/', 'urlToImage': 'https://media.wired.com/photos/680abadcfcc0bd74bcce1344/191:100/w_1280,c_limit/Plaintext-Meta-FTC-2209959270.jpg', 'publishedAt': '2025-04-25T14:00:00Z', 'content': 'Meta has a lot at stake in the current FTC lawsuit against it. In theory a negative verdict could result in a company breakup. But CEO Mark Zuckerberg once faced an even bigger existential threat. Ba… [+3446 chars]'}, {'source': {'id': 'wired', 'name': 'Wired'}, 'author': 'Brian Barrett', 'title': 'The Blunt Force Trauma of the Trump Tariffs', 'description': \"Elon Musk and DOGE have taken a blowtorch to federal agencies. But the tariffs are a helpful reminder that it's Donald Trump who's fiddling while it all burns.\", 'url': 'https://www.wired.com/story/trump-tariffs-penguins/', 'urlToImage': 'https://media.wired.com/photos/67ee8f335f037a54a9486874/191:100/w_1280,c_limit/040325-politics-trump-tariffs.jpg', 'publishedAt': '2025-04-03T14:44:32Z', 'content': 'There are situations in which tariffs are a useful tool to address a trade deficit, or to protect key sectors of a countrys economy. Then there are situations where you accuse a bunch of penguins on … [+2761 chars]'}, {'source': {'id': 'abc-news', 'name': 'ABC News'}, 'author': 'David Brennan', 'title': 'Stock markets slide deeper amid Trump tariffs fallout', 'description': 'Key foreign stock markets continued their slide after opening on Friday morning amid the shockwaves of President Donald Trump’s “Liberation Day” tariffs.', 'url': 'https://abcnews.go.com/Business/stock-markets-slide-deeper-amid-trump-tariffs-fallout/story?id=120478035', 'urlToImage': 'https://i.abcnewsfe.com/a/58f585b9-150b-46f0-b835-6f2bb638d957/Hong-Kong-markets-DB-250404_1743748244048_hpMain_16x9.jpg?w=1600', 'publishedAt': '2025-04-04T06:44:16Z', 'content': 'Key foreign stock markets continued their slide after opening on Friday morning, as the shockwaves of President Donald Trump\\'s \"Liberation Day\" tariffs continued to reverberate around the globe.\\r\\nJap… [+1798 chars]'}, {'source': {'id': 'abc-news', 'name': 'ABC News'}, 'author': 'David Brennan', 'title': 'Asian stock markets slide as Trump tariff selloff deepens', 'description': \"Key Asian stock markets tumbled upon opening on Monday as the world's reaction to President Donald Trump's tariffs campaign continued.\", 'url': 'https://abcnews.go.com/Business/asian-stock-markets-slide-trump-tariff-selloff-deepens/story?id=120550948', 'urlToImage': 'https://i.abcnewsfe.com/a/664ff240-761d-4c8a-9e6f-a71a37d8e7af/Nikkei-trading-DB-250407_1744005480299_hpMain_16x9.jpg?w=1600', 'publishedAt': '2025-04-07T06:12:57Z', 'content': \"Key Asian stock markets tumbled upon opening on Monday as the world's reaction to President Donald Trump's tariffs campaign continued -- and as U.S. futures signaled more turmoil for American markets… [+1714 chars]\"}, {'source': {'id': 'business-insider', 'name': 'Business Insider'}, 'author': 'Leila Medina', 'title': 'Unusual signs of a recession', 'description': 'Are we about to be in a recession? Here are some signs to look out for.', 'url': 'https://www.businessinsider.com/unusual-signs-of-a-recession-2025-4', 'urlToImage': 'https://i.insider.com/67ec36e763d72727e198ddf4?width=1200&format=jpeg', 'publishedAt': '2025-04-01T19:19:35Z', 'content': 'Are we about to be in a recession? Here are some signs other than the stock market that may tell us if a recession is nearing.Read the original article on Business Insider'}, {'source': {'id': 'abc-news', 'name': 'ABC News'}, 'author': 'David Brennan', 'title': 'Global stock markets up amid Trump tariffs exemptions for electronics', 'description': 'Major stock markets in Asia and Europe rose in Monday trading following the U.S. announcement that key consumer electronics would be temporarily exempted from tariffs.', 'url': 'https://abcnews.go.com/Business/global-stock-markets-amid-trump-tariffs-exemptions-electronics/story?id=120778659', 'urlToImage': 'https://i.abcnewsfe.com/a/635db9f2-8659-43e6-b326-5b78fd5eb958/KOSPI-DB-250414_1744617155164_hpMain_16x9.jpg?w=1600', 'publishedAt': '2025-04-14T08:18:00Z', 'content': \"Major stock markets in Asia and Europe rose in Monday trading following the U.S. announcement that key consumer electronics would be temporarily exempted from President Donald Trump's reciprocal tari… [+2270 chars]\"}, {'source': {'id': None, 'name': 'Yahoo Entertainment'}, 'author': 'Ankur Banerjee', 'title': \"Stocks and dollar slide as Trump's Fed attacks jangle nerves\", 'description': 'Asian equities and U.S. stock futures slid on Monday while the dollar slumped, as anxiety over tariffs and public criticism of the Federal Reserve by...', 'url': 'https://finance.yahoo.com/news/stocks-dollar-slide-trumps-fed-013817947.html', 'urlToImage': 'https://media.zenfs.com/en/reuters-finance.com/b68c3335b32441e50601d08dd22826cb', 'publishedAt': '2025-04-21T01:38:17Z', 'content': 'By Ankur Banerjee\\r\\nSINGAPORE (Reuters) - Asian equities and U.S. stock futures slid on Monday while the dollar slumped, as anxiety over tariffs and public criticism of the Federal Reserve by Presiden… [+2939 chars]'}, {'source': {'id': None, 'name': 'Gizmodo.com'}, 'author': 'AJ Dellinger', 'title': 'Tesla Stock Price Reaches ‘Death Cross’ Status', 'description': 'Fitting for a CEO who loves to play martyr.', 'url': 'https://gizmodo.com/tesla-stock-price-reaches-death-cross-status-2000589799', 'urlToImage': 'https://gizmodo.com/app/uploads/2025/03/CyberTruckTrump.jpg', 'publishedAt': '2025-04-15T20:45:51Z', 'content': 'If you haven’t been keeping tabs on Tesla’s stock price (understandable, it’s like the 1,025th most interesting thing that is happening in a world plagued by chaos), you’ve missed a whole lot of vola… [+2553 chars]'}, {'source': {'id': None, 'name': 'The New Yorker'}, 'author': 'John Cassidy', 'title': 'How Donald Trump Crushed the Stock Market', 'description': 'John Cassidy writes that the President’s tariff policy isn’t strategic protectionism; it’s economic self-harm.', 'url': 'https://www.newyorker.com/news/the-financial-page/how-donald-trump-crushed-the-stock-market', 'urlToImage': 'https://media.newyorker.com/photos/67f058c4d40e67d7c3aa0308/16:9/w_1280,c_limit/Cassidy_LiberationDayFallout.jpg', 'publishedAt': '2025-04-07T11:26:48Z', 'content': 'As President Donald Trump golfed in Florida over the weekend, his hefty new tariffs, which target everywhere from China to the Falkland Islands, started to go into effect, and businesses began to rea… [+8630 chars]'}, {'source': {'id': None, 'name': 'Yahoo Entertainment'}, 'author': None, 'title': 'Trump Shares Video About How He Is ‘Purposely Crashing the Stock Market’', 'description': None, 'url': 'https://consent.yahoo.com/v2/collectConsent?sessionId=1_cc-session_0253418c-8660-4948-965e-86f7e2edc872', 'urlToImage': None, 'publishedAt': '2025-04-04T15:41:15Z', 'content': \"If you click 'Accept all', we and our partners, including 239 who are part of the IAB Transparency &amp; Consent Framework, will also store and/or access information on a device (in other words, use … [+702 chars]\"}, {'source': {'id': None, 'name': 'Yahoo Entertainment'}, 'author': None, 'title': 'Boeing just got hit by the trade war — and the stock slips', 'description': None, 'url': 'https://consent.yahoo.com/v2/collectConsent?sessionId=1_cc-session_0ae09067-40ef-4bf9-8f89-e6ef7d85522b', 'urlToImage': None, 'publishedAt': '2025-04-15T13:57:22Z', 'content': \"If you click 'Accept all', we and our partners, including 239 who are part of the IAB Transparency &amp; Consent Framework, will also store and/or access information on a device (in other words, use … [+702 chars]\"}, {'source': {'id': None, 'name': 'Yahoo Entertainment'}, 'author': None, 'title': 'Can Intel Be the Turnaround Stock of 2025? Is the Time to Buy Now?', 'description': None, 'url': 'https://consent.yahoo.com/v2/collectConsent?sessionId=1_cc-session_362fa3b0-14a0-43f5-ad40-c8657ff60b50', 'urlToImage': None, 'publishedAt': '2025-04-07T19:00:00Z', 'content': \"If you click 'Accept all', we and our partners, including 239 who are part of the IAB Transparency &amp; Consent Framework, will also store and/or access information on a device (in other words, use … [+702 chars]\"}, {'source': {'id': None, 'name': 'Yahoo Entertainment'}, 'author': None, 'title': \"Stock Market Expert's Dire Warning to Investors: 'This Is a Trap'\", 'description': None, 'url': 'https://consent.yahoo.com/v2/collectConsent?sessionId=1_cc-session_a481bddf-09c6-4c16-a0a0-b414d597832a', 'urlToImage': None, 'publishedAt': '2025-04-12T17:41:16Z', 'content': \"If you click 'Accept all', we and our partners, including 239 who are part of the IAB Transparency &amp; Consent Framework, will also store and/or access information on a device (in other words, use … [+702 chars]\"}, {'source': {'id': None, 'name': 'Yahoo Entertainment'}, 'author': None, 'title': 'Tesla Stock Investors: Elon Musk Expects 99% Market Share in This Trillion-Dollar Industry', 'description': None, 'url': 'https://consent.yahoo.com/v2/collectConsent?sessionId=1_cc-session_d71c13bd-e208-4bbc-81c1-07504634f910', 'urlToImage': None, 'publishedAt': '2025-04-27T07:50:00Z', 'content': \"If you click 'Accept all', we and our partners, including 241 who are part of the IAB Transparency &amp; Consent Framework, will also store and/or access information on a device (in other words, use … [+702 chars]\"}, {'source': {'id': None, 'name': 'Yahoo Entertainment'}, 'author': None, 'title': \"Emerson Electric Co.'s (NYSE:EMR) Dismal Stock Performance Reflects Weak Fundamentals\", 'description': None, 'url': 'https://consent.yahoo.com/v2/collectConsent?sessionId=1_cc-session_4480befa-f282-4d87-ad21-a8d25b1a1408', 'urlToImage': None, 'publishedAt': '2025-04-09T13:00:13Z', 'content': \"If you click 'Accept all', we and our partners, including 239 who are part of the IAB Transparency &amp; Consent Framework, will also store and/or access information on a device (in other words, use … [+702 chars]\"}, {'source': {'id': None, 'name': 'Yahoo Entertainment'}, 'author': None, 'title': 'Why PepsiCo, Inc. (PEP) is the Best Packaged Food Stock to Buy Now', 'description': None, 'url': 'https://consent.yahoo.com/v2/collectConsent?sessionId=1_cc-session_91ca3f79-d1dd-41de-aead-941b65495cde', 'urlToImage': None, 'publishedAt': '2025-04-14T00:50:26Z', 'content': \"If you click 'Accept all', we and our partners, including 239 who are part of the IAB Transparency &amp; Consent Framework, will also store and/or access information on a device (in other words, use … [+702 chars]\"}, {'source': {'id': None, 'name': 'Yahoo Entertainment'}, 'author': None, 'title': 'Is QUALCOMM Incorporated (QCOM) the Best Technology Dividend Stock to Invest in?', 'description': None, 'url': 'https://consent.yahoo.com/v2/collectConsent?sessionId=1_cc-session_ec05bb9c-95bf-4852-9451-6906a9eac484', 'urlToImage': None, 'publishedAt': '2025-04-14T00:52:58Z', 'content': \"If you click 'Accept all', we and our partners, including 239 who are part of the IAB Transparency &amp; Consent Framework, will also store and/or access information on a device (in other words, use … [+702 chars]\"}]}\n"
     ]
    }
   ],
   "source": [
    "import os\n",
    "import requests \n",
    "\n",
    "API_KEY = os.getenv(\"NEWS_API_KEY\")  # Fetch from environment variable\n",
    "url = f\"https://newsapi.org/v2/everything?q=stock&apiKey={API_KEY}\"\n",
    "\n",
    "response = requests.get(url).json()\n",
    "print(response)\n"
   ]
  },
  {
   "cell_type": "code",
   "execution_count": 4,
   "id": "e088f448-ab90-4c92-b030-32d4a47cc869",
   "metadata": {},
   "outputs": [
    {
     "name": "stderr",
     "output_type": "stream",
     "text": [
      "C:\\Users\\NP.MOHSENPAK\\AppData\\Local\\Temp\\ipykernel_28276\\622479028.py:25: FutureWarning: A value is trying to be set on a copy of a DataFrame or Series through chained assignment using an inplace method.\n",
      "The behavior will change in pandas 3.0. This inplace method will never work because the intermediate object on which we are setting values always behaves as a copy.\n",
      "\n",
      "For example, when doing 'df[col].method(value, inplace=True)', try using 'df.method({col: value}, inplace=True)' or df[col] = df[col].method(value) instead, to perform the operation inplace on the original object.\n",
      "\n",
      "\n",
      "  df_news[\"title\"].fillna(\"No title\", inplace=True)\n",
      "C:\\Users\\NP.MOHSENPAK\\AppData\\Local\\Temp\\ipykernel_28276\\622479028.py:26: FutureWarning: A value is trying to be set on a copy of a DataFrame or Series through chained assignment using an inplace method.\n",
      "The behavior will change in pandas 3.0. This inplace method will never work because the intermediate object on which we are setting values always behaves as a copy.\n",
      "\n",
      "For example, when doing 'df[col].method(value, inplace=True)', try using 'df.method({col: value}, inplace=True)' or df[col] = df[col].method(value) instead, to perform the operation inplace on the original object.\n",
      "\n",
      "\n",
      "  df_news[\"description\"].fillna(\"No description\", inplace=True)\n"
     ]
    },
    {
     "name": "stdout",
     "output_type": "stream",
     "text": [
      "                publishedAt  \\\n",
      "0 2025-04-22 11:09:00+00:00   \n",
      "1 2025-04-03 14:38:12+00:00   \n",
      "2 2025-04-03 14:13:00+00:00   \n",
      "3 2025-04-07 17:32:00+00:00   \n",
      "4 2025-04-01 14:10:07+00:00   \n",
      "\n",
      "                                               title  \\\n",
      "0          7 best ecofriendly cleaning products 2025   \n",
      "1  apple has its biggest stock drop in five years...   \n",
      "2  apple has its biggest stock drop in five years...   \n",
      "3  stocks plunge after trump declares web rumor o...   \n",
      "4  star wars harry potter amazon clears stock of ...   \n",
      "\n",
      "                                         description  \\\n",
      "0  next time you stock up on supplies consider th...   \n",
      "1  shares of apple amazon and other tech stocks a...   \n",
      "2  shares of apple amazon and other tech stocks a...   \n",
      "3  the stock market had a brief moment of hope on...   \n",
      "4                            first come first served   \n",
      "\n",
      "                                                 url  \n",
      "0  https://www.wired.com/gallery/best-eco-friendl...  \n",
      "1  https://www.theverge.com/news/642598/apple-sto...  \n",
      "2  https://www.theverge.com/news/642598/apple-ama...  \n",
      "3  https://gizmodo.com/stocks-plunge-after-trump-...  \n",
      "4  https://gizmodo.com/star-wars-harry-potter-ama...  \n",
      "Financial news cleaned and saved to AWS RDS PostgreSQL successfully!\n"
     ]
    }
   ],
   "source": [
    "import os\n",
    "import requests\n",
    "import pandas as pd\n",
    "from sqlalchemy import create_engine\n",
    "from dotenv import load_dotenv\n",
    "load_dotenv()\n",
    "\n",
    "# Fetch API Key from environment variables\n",
    "API_KEY = os.getenv(\"NEWS_API_KEY\")\n",
    "\n",
    "# Fetch financial news from NewsAPI\n",
    "url = f\"https://newsapi.org/v2/everything?q=stock&apiKey={API_KEY}\"\n",
    "response = requests.get(url).json()\n",
    "\n",
    "# Extract relevant fields from the response\n",
    "articles = response.get(\"articles\", [])\n",
    "\n",
    "# Convert to DataFrame\n",
    "df_news = pd.DataFrame(articles)[[\"publishedAt\", \"title\", \"description\", \"url\"]]\n",
    "\n",
    "# 1️⃣ Convert `publishedAt` to datetime format\n",
    "df_news[\"publishedAt\"] = pd.to_datetime(df_news[\"publishedAt\"], errors='coerce')\n",
    "\n",
    "# 2️⃣ Handle missing values\n",
    "df_news[\"title\"].fillna(\"No title\", inplace=True)\n",
    "df_news[\"description\"].fillna(\"No description\", inplace=True)\n",
    "\n",
    "# 3️⃣ Remove duplicate articles (based on title & description)\n",
    "df_news.drop_duplicates(subset=[\"title\", \"description\"], inplace=True)\n",
    "\n",
    "# 4️⃣ Perform text cleaning (optional)\n",
    "df_news[\"title\"] = df_news[\"title\"].str.replace(r\"[^\\w\\s]\", \"\", regex=True).str.lower()\n",
    "df_news[\"description\"] = df_news[\"description\"].str.replace(r\"[^\\w\\s]\", \"\", regex=True).str.lower()\n",
    "\n",
    "# ✅ Print cleaned data preview\n",
    "print(df_news.head())\n",
    "\n",
    "# 5️⃣ Save cleaned data to AWS RDS PostgreSQL\n",
    "# Step 4: AWS RDS PostgreSQL Connection Details\n",
    "# AWS RDS PostgreSQL connection details\n",
    "# Step 1: Load environment variables\n",
    "\n",
    "rds_host = os.getenv('RDS_HOST')\n",
    "rds_user = os.getenv('RDS_USER')\n",
    "rds_password = os.getenv('RDS_PASSWORD')\n",
    "rds_db = os.getenv('RDS_DB')\n",
    "rds_port = os.getenv('RDS_PORT')\n",
    "\n",
    "# Create PostgreSQL connection using SQLAlchemy\n",
    "engine = create_engine(f'postgresql://{rds_user}:{rds_password}@{rds_host}:{rds_port}/{rds_db}')\n",
    "\n",
    "\n",
    "# Save to PostgreSQL\n",
    "df_news.to_sql(\"financial_news\", engine, if_exists=\"replace\", index=False)\n",
    "\n",
    "print(\"Financial news cleaned and saved to AWS RDS PostgreSQL successfully!\")\n"
   ]
  },
  {
   "cell_type": "code",
   "execution_count": 2,
   "id": "88154a65-8b45-487c-8868-1f08e857a168",
   "metadata": {},
   "outputs": [
    {
     "name": "stdout",
     "output_type": "stream",
     "text": [
      "Collecting fredapi\n",
      "  Downloading fredapi-0.5.2-py3-none-any.whl.metadata (5.0 kB)\n",
      "Requirement already satisfied: pandas in c:\\users\\np.mohsenpak\\anaconda3\\lib\\site-packages (from fredapi) (2.2.2)\n",
      "Requirement already satisfied: numpy>=1.26.0 in c:\\users\\np.mohsenpak\\anaconda3\\lib\\site-packages (from pandas->fredapi) (1.26.4)\n",
      "Requirement already satisfied: python-dateutil>=2.8.2 in c:\\users\\np.mohsenpak\\anaconda3\\lib\\site-packages (from pandas->fredapi) (2.9.0.post0)\n",
      "Requirement already satisfied: pytz>=2020.1 in c:\\users\\np.mohsenpak\\anaconda3\\lib\\site-packages (from pandas->fredapi) (2024.1)\n",
      "Requirement already satisfied: tzdata>=2022.7 in c:\\users\\np.mohsenpak\\anaconda3\\lib\\site-packages (from pandas->fredapi) (2023.3)\n",
      "Requirement already satisfied: six>=1.5 in c:\\users\\np.mohsenpak\\anaconda3\\lib\\site-packages (from python-dateutil>=2.8.2->pandas->fredapi) (1.16.0)\n",
      "Downloading fredapi-0.5.2-py3-none-any.whl (11 kB)\n",
      "Installing collected packages: fredapi\n",
      "Successfully installed fredapi-0.5.2\n"
     ]
    }
   ],
   "source": [
    "!pip install fredapi\n"
   ]
  },
  {
   "cell_type": "code",
   "execution_count": 20,
   "id": "ad6eeb41-b31a-42d1-9dfa-59491fc70c54",
   "metadata": {},
   "outputs": [],
   "source": [
    "import os\n",
    "os.environ[\"FRED_API_KEY\"] = \"661467c458ce41671d637d95e1057f05\"\n"
   ]
  },
  {
   "cell_type": "code",
   "execution_count": null,
   "id": "efbb6101-12bf-431b-a5b8-e930d862c0ee",
   "metadata": {},
   "outputs": [],
   "source": []
  },
  {
   "cell_type": "code",
   "execution_count": 5,
   "id": "700ad28a-4227-473f-a2e2-ff5fb92a585b",
   "metadata": {},
   "outputs": [
    {
     "ename": "ValueError",
     "evalue": "FRED_API_KEY not found in environment variables",
     "output_type": "error",
     "traceback": [
      "\u001b[1;31m---------------------------------------------------------------------------\u001b[0m",
      "\u001b[1;31mValueError\u001b[0m                                Traceback (most recent call last)",
      "Cell \u001b[1;32mIn[5], line 12\u001b[0m\n\u001b[0;32m      9\u001b[0m API_KEY \u001b[38;5;241m=\u001b[39m os\u001b[38;5;241m.\u001b[39mgetenv(\u001b[38;5;124m\"\u001b[39m\u001b[38;5;124mFRED_API_KEY\u001b[39m\u001b[38;5;124m\"\u001b[39m)\n\u001b[0;32m     11\u001b[0m \u001b[38;5;28;01mif\u001b[39;00m \u001b[38;5;129;01mnot\u001b[39;00m API_KEY:\n\u001b[1;32m---> 12\u001b[0m     \u001b[38;5;28;01mraise\u001b[39;00m \u001b[38;5;167;01mValueError\u001b[39;00m(\u001b[38;5;124m\"\u001b[39m\u001b[38;5;124mFRED_API_KEY not found in environment variables\u001b[39m\u001b[38;5;124m\"\u001b[39m)\n\u001b[0;32m     14\u001b[0m fred \u001b[38;5;241m=\u001b[39m Fred(api_key\u001b[38;5;241m=\u001b[39mAPI_KEY)\n\u001b[0;32m     16\u001b[0m \u001b[38;5;66;03m# Fetch economic indicators\u001b[39;00m\n",
      "\u001b[1;31mValueError\u001b[0m: FRED_API_KEY not found in environment variables"
     ]
    }
   ],
   "source": [
    "from fredapi import Fred\n",
    "import os\n",
    "import pandas as pd\n",
    "from sqlalchemy import create_engine\n",
    "from dotenv import load_dotenv\n",
    "load_dotenv()\n",
    "\n",
    "# Get FRED API Key from environment variable\n",
    "API_KEY = os.getenv(\"FRED_API_KEY\")\n",
    "\n",
    "if not API_KEY:\n",
    "    raise ValueError(\"FRED_API_KEY not found in environment variables\")\n",
    "\n",
    "fred = Fred(api_key=API_KEY)\n",
    "\n",
    "# Fetch economic indicators\n",
    "gdp = fred.get_series(\"GDP\")  # Gross Domestic Product (GDP)\n",
    "unemployment = fred.get_series(\"UNRATE\")  # Unemployment Rate\n",
    "\n",
    "# Create DataFrame\n",
    "df_economic = pd.DataFrame({\"GDP\": gdp, \"Unemployment_Rate\": unemployment})\n",
    "\n",
    "# Data Cleaning\n",
    "# Drop any null values\n",
    "df_economic.dropna(inplace=True)\n",
    "\n",
    "# Remove duplicate rows if any\n",
    "df_economic.drop_duplicates(inplace=True)\n",
    "\n",
    "# Reset index\n",
    "df_economic.reset_index(inplace=True)\n",
    "df_economic.rename(columns={'index': 'Date'}, inplace=True)\n",
    "\n",
    "# Convert Date column to datetime format\n",
    "df_economic['Date'] = pd.to_datetime(df_economic['Date'])\n",
    "\n",
    "# AWS RDS PostgreSQL connection details\n",
    "rds_host = \"database-1.c2b8mmg2krpj.us-east-1.rds.amazonaws.com\"\n",
    "rds_user = \"postgres\"\n",
    "rds_password = \"d82Nb5kMAK8T37S2JCSV\"\n",
    "rds_db = \"postgres\"\n",
    "rds_port = \"5432\"\n",
    "\n",
    "# Create PostgreSQL connection string\n",
    "conn_str = f\"postgresql://{rds_user}:{rds_password}@{rds_host}:{rds_port}/{rds_db}\"\n",
    "\n",
    "# Create a database connection using SQLAlchemy\n",
    "engine = create_engine(conn_str)\n",
    "\n",
    "# Save DataFrame to AWS PostgreSQL (replace existing table)\n",
    "df_economic.to_sql(\"economic_indicators\", engine, if_exists=\"replace\", index=False)\n",
    "\n",
    "print(\"Economic indicators data cleaned and saved to AWS RDS PostgreSQL successfully!\")\n",
    "\n"
   ]
  },
  {
   "cell_type": "code",
   "execution_count": 9,
   "id": "56168218-4db1-40a9-b750-e040bd83d71c",
   "metadata": {},
   "outputs": [
    {
     "name": "stdout",
     "output_type": "stream",
     "text": [
      "           GDP  Unemployment_Rate\n",
      "0          NaN                NaN\n",
      "1          NaN                NaN\n",
      "2          NaN                NaN\n",
      "3          NaN                NaN\n",
      "4      243.164                NaN\n",
      "..         ...                ...\n",
      "929  29719.647                4.1\n",
      "930        NaN                4.2\n",
      "931        NaN                4.1\n",
      "932        NaN                4.0\n",
      "933        NaN                4.1\n",
      "\n",
      "[934 rows x 2 columns]\n"
     ]
    }
   ],
   "source": [
    "import pandas as pd\n",
    "\n",
    "# Query the data from AWS PostgreSQL\n",
    "with engine.connect() as connection:\n",
    "    df_check = pd.read_sql(\"SELECT * FROM economic_indicators\", connection)\n",
    "\n",
    "print(df_check)  # Display first few rows\n"
   ]
  },
  {
   "cell_type": "code",
   "execution_count": null,
   "id": "bf1d134a-cbb0-4f17-976d-1244e754fc3f",
   "metadata": {},
   "outputs": [],
   "source": []
  }
 ],
 "metadata": {
  "kernelspec": {
   "display_name": "Python 3 (ipykernel)",
   "language": "python",
   "name": "python3"
  },
  "language_info": {
   "codemirror_mode": {
    "name": "ipython",
    "version": 3
   },
   "file_extension": ".py",
   "mimetype": "text/x-python",
   "name": "python",
   "nbconvert_exporter": "python",
   "pygments_lexer": "ipython3",
   "version": "3.12.7"
  }
 },
 "nbformat": 4,
 "nbformat_minor": 5
}
